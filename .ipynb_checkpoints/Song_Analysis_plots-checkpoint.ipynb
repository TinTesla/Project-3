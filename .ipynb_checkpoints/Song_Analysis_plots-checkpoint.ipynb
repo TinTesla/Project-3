{
 "cells": [
  {
   "cell_type": "code",
   "execution_count": 35,
   "id": "015608f5",
   "metadata": {},
   "outputs": [],
   "source": [
    "import pandas as pd\n",
    "import plotly_express as px"
   ]
  },
  {
   "cell_type": "code",
   "execution_count": 36,
   "id": "81936cde",
   "metadata": {},
   "outputs": [],
   "source": [
    "datafile = \"Clean/cleaned_spotify_data.csv\"\n",
    "spotify_data_df = pd.read_csv(datafile,sep=\";\")"
   ]
  },
  {
   "cell_type": "code",
   "execution_count": 37,
   "id": "ceb21230",
   "metadata": {},
   "outputs": [
    {
     "data": {
      "text/html": [
       "<div>\n",
       "<style scoped>\n",
       "    .dataframe tbody tr th:only-of-type {\n",
       "        vertical-align: middle;\n",
       "    }\n",
       "\n",
       "    .dataframe tbody tr th {\n",
       "        vertical-align: top;\n",
       "    }\n",
       "\n",
       "    .dataframe thead th {\n",
       "        text-align: right;\n",
       "    }\n",
       "</style>\n",
       "<table border=\"1\" class=\"dataframe\">\n",
       "  <thead>\n",
       "    <tr style=\"text-align: right;\">\n",
       "      <th></th>\n",
       "      <th>Title</th>\n",
       "      <th>Artist</th>\n",
       "      <th>Genre</th>\n",
       "      <th>Year</th>\n",
       "      <th>Bpm</th>\n",
       "      <th>Energy</th>\n",
       "      <th>Danceability</th>\n",
       "      <th>Db</th>\n",
       "      <th>Liveness</th>\n",
       "      <th>Valence</th>\n",
       "      <th>Duration</th>\n",
       "      <th>Acousticness</th>\n",
       "      <th>Speechiness</th>\n",
       "      <th>Popularity</th>\n",
       "    </tr>\n",
       "  </thead>\n",
       "  <tbody>\n",
       "    <tr>\n",
       "      <th>0</th>\n",
       "      <td>Flowers</td>\n",
       "      <td>Miley Cyrus</td>\n",
       "      <td>Pop</td>\n",
       "      <td>2023</td>\n",
       "      <td>118</td>\n",
       "      <td>68</td>\n",
       "      <td>71</td>\n",
       "      <td>-4</td>\n",
       "      <td>3</td>\n",
       "      <td>65</td>\n",
       "      <td>200</td>\n",
       "      <td>6</td>\n",
       "      <td>7</td>\n",
       "      <td>98</td>\n",
       "    </tr>\n",
       "    <tr>\n",
       "      <th>1</th>\n",
       "      <td>Cupid - Twin Ver.</td>\n",
       "      <td>FIFTY FIFTY</td>\n",
       "      <td>Pop</td>\n",
       "      <td>2023</td>\n",
       "      <td>120</td>\n",
       "      <td>59</td>\n",
       "      <td>78</td>\n",
       "      <td>-8</td>\n",
       "      <td>35</td>\n",
       "      <td>73</td>\n",
       "      <td>174</td>\n",
       "      <td>44</td>\n",
       "      <td>3</td>\n",
       "      <td>97</td>\n",
       "    </tr>\n",
       "    <tr>\n",
       "      <th>2</th>\n",
       "      <td>BESO</td>\n",
       "      <td>ROSALÍA</td>\n",
       "      <td>Pop</td>\n",
       "      <td>2023</td>\n",
       "      <td>95</td>\n",
       "      <td>64</td>\n",
       "      <td>77</td>\n",
       "      <td>-7</td>\n",
       "      <td>17</td>\n",
       "      <td>53</td>\n",
       "      <td>195</td>\n",
       "      <td>74</td>\n",
       "      <td>14</td>\n",
       "      <td>96</td>\n",
       "    </tr>\n",
       "    <tr>\n",
       "      <th>3</th>\n",
       "      <td>Boy's a liar Pt. 2</td>\n",
       "      <td>PinkPantheress</td>\n",
       "      <td>Other</td>\n",
       "      <td>2023</td>\n",
       "      <td>133</td>\n",
       "      <td>81</td>\n",
       "      <td>70</td>\n",
       "      <td>-8</td>\n",
       "      <td>25</td>\n",
       "      <td>86</td>\n",
       "      <td>131</td>\n",
       "      <td>25</td>\n",
       "      <td>5</td>\n",
       "      <td>96</td>\n",
       "    </tr>\n",
       "    <tr>\n",
       "      <th>4</th>\n",
       "      <td>Creepin' (with The Weeknd &amp; 21 Savage)</td>\n",
       "      <td>Metro Boomin</td>\n",
       "      <td>Hip hop/Rap/R&amp;b</td>\n",
       "      <td>2022</td>\n",
       "      <td>98</td>\n",
       "      <td>62</td>\n",
       "      <td>72</td>\n",
       "      <td>-6</td>\n",
       "      <td>8</td>\n",
       "      <td>17</td>\n",
       "      <td>222</td>\n",
       "      <td>42</td>\n",
       "      <td>5</td>\n",
       "      <td>96</td>\n",
       "    </tr>\n",
       "  </tbody>\n",
       "</table>\n",
       "</div>"
      ],
      "text/plain": [
       "                                    Title          Artist            Genre  \\\n",
       "0                                 Flowers     Miley Cyrus              Pop   \n",
       "1                       Cupid - Twin Ver.     FIFTY FIFTY              Pop   \n",
       "2                                    BESO         ROSALÍA              Pop   \n",
       "3                      Boy's a liar Pt. 2  PinkPantheress            Other   \n",
       "4  Creepin' (with The Weeknd & 21 Savage)    Metro Boomin  Hip hop/Rap/R&b   \n",
       "\n",
       "   Year  Bpm  Energy  Danceability  Db  Liveness  Valence  Duration  \\\n",
       "0  2023  118      68            71  -4         3       65       200   \n",
       "1  2023  120      59            78  -8        35       73       174   \n",
       "2  2023   95      64            77  -7        17       53       195   \n",
       "3  2023  133      81            70  -8        25       86       131   \n",
       "4  2022   98      62            72  -6         8       17       222   \n",
       "\n",
       "   Acousticness  Speechiness  Popularity  \n",
       "0             6            7          98  \n",
       "1            44            3          97  \n",
       "2            74           14          96  \n",
       "3            25            5          96  \n",
       "4            42            5          96  "
      ]
     },
     "execution_count": 37,
     "metadata": {},
     "output_type": "execute_result"
    }
   ],
   "source": [
    "spotify_data_df.head()"
   ]
  },
  {
   "cell_type": "code",
   "execution_count": 39,
   "id": "7f690747",
   "metadata": {},
   "outputs": [],
   "source": [
    "spotify_data_df= spotify_data_df[spotify_data_df[\"Year\"]> 2000]"
   ]
  },
  {
   "cell_type": "code",
   "execution_count": 40,
   "id": "c21db1c7",
   "metadata": {},
   "outputs": [],
   "source": [
    "avg_popularity_by_year_df= pd.DataFrame(spotify_data_df.groupby([\"Year\",\"Genre\"])[\"Popularity\"].mean())\n",
    "\n",
    "avg_popularity_by_year_df= avg_popularity_by_year_df.reset_index()"
   ]
  },
  {
   "cell_type": "code",
   "execution_count": 41,
   "id": "c257b66e",
   "metadata": {},
   "outputs": [],
   "source": [
    "color_discrete_map={\n",
    "        'Pop': 'red',\n",
    "        'Other': 'green'\n",
    "    }"
   ]
  },
  {
   "cell_type": "code",
   "execution_count": 43,
   "id": "9114f92d",
   "metadata": {},
   "outputs": [
    {
     "data": {
      "application/vnd.plotly.v1+json": {
       "config": {
        "plotlyServerURL": "https://plot.ly"
       },
       "data": [
        {
         "alignmentgroup": "True",
         "hovertemplate": "Genre=%{x}<br>Year=2001<br>Popularity=%{y}<extra></extra>",
         "ids": [
          "EDM"
         ],
         "legendgroup": "EDM",
         "marker": {
          "color": "#636efa",
          "pattern": {
           "shape": ""
          }
         },
         "name": "EDM",
         "offsetgroup": "EDM",
         "orientation": "v",
         "showlegend": true,
         "textposition": "auto",
         "type": "bar",
         "x": [
          "EDM"
         ],
         "xaxis": "x",
         "y": [
          71.5
         ],
         "yaxis": "y"
        },
        {
         "alignmentgroup": "True",
         "hovertemplate": "Genre=%{x}<br>Year=2001<br>Popularity=%{y}<extra></extra>",
         "ids": [
          "Hip hop/Rap/R&b"
         ],
         "legendgroup": "Hip hop/Rap/R&b",
         "marker": {
          "color": "#EF553B",
          "pattern": {
           "shape": ""
          }
         },
         "name": "Hip hop/Rap/R&b",
         "offsetgroup": "Hip hop/Rap/R&b",
         "orientation": "v",
         "showlegend": true,
         "textposition": "auto",
         "type": "bar",
         "x": [
          "Hip hop/Rap/R&b"
         ],
         "xaxis": "x",
         "y": [
          65.88
         ],
         "yaxis": "y"
        },
        {
         "alignmentgroup": "True",
         "hovertemplate": "Genre=%{x}<br>Year=2001<br>Popularity=%{y}<extra></extra>",
         "ids": [
          "Other"
         ],
         "legendgroup": "Other",
         "marker": {
          "color": "#00cc96",
          "pattern": {
           "shape": ""
          }
         },
         "name": "Other",
         "offsetgroup": "Other",
         "orientation": "v",
         "showlegend": true,
         "textposition": "auto",
         "type": "bar",
         "x": [
          "Other"
         ],
         "xaxis": "x",
         "y": [
          62.30434782608695
         ],
         "yaxis": "y"
        },
        {
         "alignmentgroup": "True",
         "hovertemplate": "Genre=%{x}<br>Year=2001<br>Popularity=%{y}<extra></extra>",
         "ids": [
          "Pop"
         ],
         "legendgroup": "Pop",
         "marker": {
          "color": "#ab63fa",
          "pattern": {
           "shape": ""
          }
         },
         "name": "Pop",
         "offsetgroup": "Pop",
         "orientation": "v",
         "showlegend": true,
         "textposition": "auto",
         "type": "bar",
         "x": [
          "Pop"
         ],
         "xaxis": "x",
         "y": [
          63.58695652173913
         ],
         "yaxis": "y"
        },
        {
         "alignmentgroup": "True",
         "hovertemplate": "Genre=%{x}<br>Year=2001<br>Popularity=%{y}<extra></extra>",
         "ids": [
          "Rock/Metal"
         ],
         "legendgroup": "Rock/Metal",
         "marker": {
          "color": "#FFA15A",
          "pattern": {
           "shape": ""
          }
         },
         "name": "Rock/Metal",
         "offsetgroup": "Rock/Metal",
         "orientation": "v",
         "showlegend": true,
         "textposition": "auto",
         "type": "bar",
         "x": [
          "Rock/Metal"
         ],
         "xaxis": "x",
         "y": [
          72.13333333333334
         ],
         "yaxis": "y"
        }
       ],
       "frames": [
        {
         "data": [
          {
           "alignmentgroup": "True",
           "hovertemplate": "Genre=%{x}<br>Year=2001<br>Popularity=%{y}<extra></extra>",
           "ids": [
            "EDM"
           ],
           "legendgroup": "EDM",
           "marker": {
            "color": "#636efa",
            "pattern": {
             "shape": ""
            }
           },
           "name": "EDM",
           "offsetgroup": "EDM",
           "orientation": "v",
           "showlegend": true,
           "textposition": "auto",
           "type": "bar",
           "x": [
            "EDM"
           ],
           "xaxis": "x",
           "y": [
            71.5
           ],
           "yaxis": "y"
          },
          {
           "alignmentgroup": "True",
           "hovertemplate": "Genre=%{x}<br>Year=2001<br>Popularity=%{y}<extra></extra>",
           "ids": [
            "Hip hop/Rap/R&b"
           ],
           "legendgroup": "Hip hop/Rap/R&b",
           "marker": {
            "color": "#EF553B",
            "pattern": {
             "shape": ""
            }
           },
           "name": "Hip hop/Rap/R&b",
           "offsetgroup": "Hip hop/Rap/R&b",
           "orientation": "v",
           "showlegend": true,
           "textposition": "auto",
           "type": "bar",
           "x": [
            "Hip hop/Rap/R&b"
           ],
           "xaxis": "x",
           "y": [
            65.88
           ],
           "yaxis": "y"
          },
          {
           "alignmentgroup": "True",
           "hovertemplate": "Genre=%{x}<br>Year=2001<br>Popularity=%{y}<extra></extra>",
           "ids": [
            "Other"
           ],
           "legendgroup": "Other",
           "marker": {
            "color": "#00cc96",
            "pattern": {
             "shape": ""
            }
           },
           "name": "Other",
           "offsetgroup": "Other",
           "orientation": "v",
           "showlegend": true,
           "textposition": "auto",
           "type": "bar",
           "x": [
            "Other"
           ],
           "xaxis": "x",
           "y": [
            62.30434782608695
           ],
           "yaxis": "y"
          },
          {
           "alignmentgroup": "True",
           "hovertemplate": "Genre=%{x}<br>Year=2001<br>Popularity=%{y}<extra></extra>",
           "ids": [
            "Pop"
           ],
           "legendgroup": "Pop",
           "marker": {
            "color": "#ab63fa",
            "pattern": {
             "shape": ""
            }
           },
           "name": "Pop",
           "offsetgroup": "Pop",
           "orientation": "v",
           "showlegend": true,
           "textposition": "auto",
           "type": "bar",
           "x": [
            "Pop"
           ],
           "xaxis": "x",
           "y": [
            63.58695652173913
           ],
           "yaxis": "y"
          },
          {
           "alignmentgroup": "True",
           "hovertemplate": "Genre=%{x}<br>Year=2001<br>Popularity=%{y}<extra></extra>",
           "ids": [
            "Rock/Metal"
           ],
           "legendgroup": "Rock/Metal",
           "marker": {
            "color": "#FFA15A",
            "pattern": {
             "shape": ""
            }
           },
           "name": "Rock/Metal",
           "offsetgroup": "Rock/Metal",
           "orientation": "v",
           "showlegend": true,
           "textposition": "auto",
           "type": "bar",
           "x": [
            "Rock/Metal"
           ],
           "xaxis": "x",
           "y": [
            72.13333333333334
           ],
           "yaxis": "y"
          }
         ],
         "name": "2001"
        },
        {
         "data": [
          {
           "alignmentgroup": "True",
           "hovertemplate": "Genre=%{x}<br>Year=2002<br>Popularity=%{y}<extra></extra>",
           "ids": [
            "Hip hop/Rap/R&b"
           ],
           "legendgroup": "Hip hop/Rap/R&b",
           "marker": {
            "color": "#EF553B",
            "pattern": {
             "shape": ""
            }
           },
           "name": "Hip hop/Rap/R&b",
           "offsetgroup": "Hip hop/Rap/R&b",
           "orientation": "v",
           "showlegend": true,
           "textposition": "auto",
           "type": "bar",
           "x": [
            "Hip hop/Rap/R&b"
           ],
           "xaxis": "x",
           "y": [
            62.42307692307692
           ],
           "yaxis": "y"
          },
          {
           "alignmentgroup": "True",
           "hovertemplate": "Genre=%{x}<br>Year=2002<br>Popularity=%{y}<extra></extra>",
           "ids": [
            "Other"
           ],
           "legendgroup": "Other",
           "marker": {
            "color": "#00cc96",
            "pattern": {
             "shape": ""
            }
           },
           "name": "Other",
           "offsetgroup": "Other",
           "orientation": "v",
           "showlegend": true,
           "textposition": "auto",
           "type": "bar",
           "x": [
            "Other"
           ],
           "xaxis": "x",
           "y": [
            64.625
           ],
           "yaxis": "y"
          },
          {
           "alignmentgroup": "True",
           "hovertemplate": "Genre=%{x}<br>Year=2002<br>Popularity=%{y}<extra></extra>",
           "ids": [
            "Pop"
           ],
           "legendgroup": "Pop",
           "marker": {
            "color": "#ab63fa",
            "pattern": {
             "shape": ""
            }
           },
           "name": "Pop",
           "offsetgroup": "Pop",
           "orientation": "v",
           "showlegend": true,
           "textposition": "auto",
           "type": "bar",
           "x": [
            "Pop"
           ],
           "xaxis": "x",
           "y": [
            69
           ],
           "yaxis": "y"
          },
          {
           "alignmentgroup": "True",
           "hovertemplate": "Genre=%{x}<br>Year=2002<br>Popularity=%{y}<extra></extra>",
           "ids": [
            "Rock/Metal"
           ],
           "legendgroup": "Rock/Metal",
           "marker": {
            "color": "#FFA15A",
            "pattern": {
             "shape": ""
            }
           },
           "name": "Rock/Metal",
           "offsetgroup": "Rock/Metal",
           "orientation": "v",
           "showlegend": true,
           "textposition": "auto",
           "type": "bar",
           "x": [
            "Rock/Metal"
           ],
           "xaxis": "x",
           "y": [
            73.11111111111111
           ],
           "yaxis": "y"
          }
         ],
         "name": "2002"
        },
        {
         "data": [
          {
           "alignmentgroup": "True",
           "hovertemplate": "Genre=%{x}<br>Year=2003<br>Popularity=%{y}<extra></extra>",
           "ids": [
            "EDM"
           ],
           "legendgroup": "EDM",
           "marker": {
            "color": "#636efa",
            "pattern": {
             "shape": ""
            }
           },
           "name": "EDM",
           "offsetgroup": "EDM",
           "orientation": "v",
           "showlegend": true,
           "textposition": "auto",
           "type": "bar",
           "x": [
            "EDM"
           ],
           "xaxis": "x",
           "y": [
            63.333333333333336
           ],
           "yaxis": "y"
          },
          {
           "alignmentgroup": "True",
           "hovertemplate": "Genre=%{x}<br>Year=2003<br>Popularity=%{y}<extra></extra>",
           "ids": [
            "Hip hop/Rap/R&b"
           ],
           "legendgroup": "Hip hop/Rap/R&b",
           "marker": {
            "color": "#EF553B",
            "pattern": {
             "shape": ""
            }
           },
           "name": "Hip hop/Rap/R&b",
           "offsetgroup": "Hip hop/Rap/R&b",
           "orientation": "v",
           "showlegend": true,
           "textposition": "auto",
           "type": "bar",
           "x": [
            "Hip hop/Rap/R&b"
           ],
           "xaxis": "x",
           "y": [
            66
           ],
           "yaxis": "y"
          },
          {
           "alignmentgroup": "True",
           "hovertemplate": "Genre=%{x}<br>Year=2003<br>Popularity=%{y}<extra></extra>",
           "ids": [
            "Other"
           ],
           "legendgroup": "Other",
           "marker": {
            "color": "#00cc96",
            "pattern": {
             "shape": ""
            }
           },
           "name": "Other",
           "offsetgroup": "Other",
           "orientation": "v",
           "showlegend": true,
           "textposition": "auto",
           "type": "bar",
           "x": [
            "Other"
           ],
           "xaxis": "x",
           "y": [
            64.55555555555556
           ],
           "yaxis": "y"
          },
          {
           "alignmentgroup": "True",
           "hovertemplate": "Genre=%{x}<br>Year=2003<br>Popularity=%{y}<extra></extra>",
           "ids": [
            "Pop"
           ],
           "legendgroup": "Pop",
           "marker": {
            "color": "#ab63fa",
            "pattern": {
             "shape": ""
            }
           },
           "name": "Pop",
           "offsetgroup": "Pop",
           "orientation": "v",
           "showlegend": true,
           "textposition": "auto",
           "type": "bar",
           "x": [
            "Pop"
           ],
           "xaxis": "x",
           "y": [
            64.42307692307692
           ],
           "yaxis": "y"
          },
          {
           "alignmentgroup": "True",
           "hovertemplate": "Genre=%{x}<br>Year=2003<br>Popularity=%{y}<extra></extra>",
           "ids": [
            "Rock/Metal"
           ],
           "legendgroup": "Rock/Metal",
           "marker": {
            "color": "#FFA15A",
            "pattern": {
             "shape": ""
            }
           },
           "name": "Rock/Metal",
           "offsetgroup": "Rock/Metal",
           "orientation": "v",
           "showlegend": true,
           "textposition": "auto",
           "type": "bar",
           "x": [
            "Rock/Metal"
           ],
           "xaxis": "x",
           "y": [
            77.4
           ],
           "yaxis": "y"
          }
         ],
         "name": "2003"
        },
        {
         "data": [
          {
           "alignmentgroup": "True",
           "hovertemplate": "Genre=%{x}<br>Year=2004<br>Popularity=%{y}<extra></extra>",
           "ids": [
            "EDM"
           ],
           "legendgroup": "EDM",
           "marker": {
            "color": "#636efa",
            "pattern": {
             "shape": ""
            }
           },
           "name": "EDM",
           "offsetgroup": "EDM",
           "orientation": "v",
           "showlegend": true,
           "textposition": "auto",
           "type": "bar",
           "x": [
            "EDM"
           ],
           "xaxis": "x",
           "y": [
            69
           ],
           "yaxis": "y"
          },
          {
           "alignmentgroup": "True",
           "hovertemplate": "Genre=%{x}<br>Year=2004<br>Popularity=%{y}<extra></extra>",
           "ids": [
            "Hip hop/Rap/R&b"
           ],
           "legendgroup": "Hip hop/Rap/R&b",
           "marker": {
            "color": "#EF553B",
            "pattern": {
             "shape": ""
            }
           },
           "name": "Hip hop/Rap/R&b",
           "offsetgroup": "Hip hop/Rap/R&b",
           "orientation": "v",
           "showlegend": true,
           "textposition": "auto",
           "type": "bar",
           "x": [
            "Hip hop/Rap/R&b"
           ],
           "xaxis": "x",
           "y": [
            68.57575757575758
           ],
           "yaxis": "y"
          },
          {
           "alignmentgroup": "True",
           "hovertemplate": "Genre=%{x}<br>Year=2004<br>Popularity=%{y}<extra></extra>",
           "ids": [
            "Other"
           ],
           "legendgroup": "Other",
           "marker": {
            "color": "#00cc96",
            "pattern": {
             "shape": ""
            }
           },
           "name": "Other",
           "offsetgroup": "Other",
           "orientation": "v",
           "showlegend": true,
           "textposition": "auto",
           "type": "bar",
           "x": [
            "Other"
           ],
           "xaxis": "x",
           "y": [
            63.75
           ],
           "yaxis": "y"
          },
          {
           "alignmentgroup": "True",
           "hovertemplate": "Genre=%{x}<br>Year=2004<br>Popularity=%{y}<extra></extra>",
           "ids": [
            "Pop"
           ],
           "legendgroup": "Pop",
           "marker": {
            "color": "#ab63fa",
            "pattern": {
             "shape": ""
            }
           },
           "name": "Pop",
           "offsetgroup": "Pop",
           "orientation": "v",
           "showlegend": true,
           "textposition": "auto",
           "type": "bar",
           "x": [
            "Pop"
           ],
           "xaxis": "x",
           "y": [
            64.48387096774194
           ],
           "yaxis": "y"
          },
          {
           "alignmentgroup": "True",
           "hovertemplate": "Genre=%{x}<br>Year=2004<br>Popularity=%{y}<extra></extra>",
           "ids": [
            "Rock/Metal"
           ],
           "legendgroup": "Rock/Metal",
           "marker": {
            "color": "#FFA15A",
            "pattern": {
             "shape": ""
            }
           },
           "name": "Rock/Metal",
           "offsetgroup": "Rock/Metal",
           "orientation": "v",
           "showlegend": true,
           "textposition": "auto",
           "type": "bar",
           "x": [
            "Rock/Metal"
           ],
           "xaxis": "x",
           "y": [
            74.28571428571429
           ],
           "yaxis": "y"
          }
         ],
         "name": "2004"
        },
        {
         "data": [
          {
           "alignmentgroup": "True",
           "hovertemplate": "Genre=%{x}<br>Year=2005<br>Popularity=%{y}<extra></extra>",
           "ids": [
            "EDM"
           ],
           "legendgroup": "EDM",
           "marker": {
            "color": "#636efa",
            "pattern": {
             "shape": ""
            }
           },
           "name": "EDM",
           "offsetgroup": "EDM",
           "orientation": "v",
           "showlegend": true,
           "textposition": "auto",
           "type": "bar",
           "x": [
            "EDM"
           ],
           "xaxis": "x",
           "y": [
            53
           ],
           "yaxis": "y"
          },
          {
           "alignmentgroup": "True",
           "hovertemplate": "Genre=%{x}<br>Year=2005<br>Popularity=%{y}<extra></extra>",
           "ids": [
            "Hip hop/Rap/R&b"
           ],
           "legendgroup": "Hip hop/Rap/R&b",
           "marker": {
            "color": "#EF553B",
            "pattern": {
             "shape": ""
            }
           },
           "name": "Hip hop/Rap/R&b",
           "offsetgroup": "Hip hop/Rap/R&b",
           "orientation": "v",
           "showlegend": true,
           "textposition": "auto",
           "type": "bar",
           "x": [
            "Hip hop/Rap/R&b"
           ],
           "xaxis": "x",
           "y": [
            68.38709677419355
           ],
           "yaxis": "y"
          },
          {
           "alignmentgroup": "True",
           "hovertemplate": "Genre=%{x}<br>Year=2005<br>Popularity=%{y}<extra></extra>",
           "ids": [
            "Other"
           ],
           "legendgroup": "Other",
           "marker": {
            "color": "#00cc96",
            "pattern": {
             "shape": ""
            }
           },
           "name": "Other",
           "offsetgroup": "Other",
           "orientation": "v",
           "showlegend": true,
           "textposition": "auto",
           "type": "bar",
           "x": [
            "Other"
           ],
           "xaxis": "x",
           "y": [
            70.65217391304348
           ],
           "yaxis": "y"
          },
          {
           "alignmentgroup": "True",
           "hovertemplate": "Genre=%{x}<br>Year=2005<br>Popularity=%{y}<extra></extra>",
           "ids": [
            "Pop"
           ],
           "legendgroup": "Pop",
           "marker": {
            "color": "#ab63fa",
            "pattern": {
             "shape": ""
            }
           },
           "name": "Pop",
           "offsetgroup": "Pop",
           "orientation": "v",
           "showlegend": true,
           "textposition": "auto",
           "type": "bar",
           "x": [
            "Pop"
           ],
           "xaxis": "x",
           "y": [
            68.04878048780488
           ],
           "yaxis": "y"
          },
          {
           "alignmentgroup": "True",
           "hovertemplate": "Genre=%{x}<br>Year=2005<br>Popularity=%{y}<extra></extra>",
           "ids": [
            "Rock/Metal"
           ],
           "legendgroup": "Rock/Metal",
           "marker": {
            "color": "#FFA15A",
            "pattern": {
             "shape": ""
            }
           },
           "name": "Rock/Metal",
           "offsetgroup": "Rock/Metal",
           "orientation": "v",
           "showlegend": true,
           "textposition": "auto",
           "type": "bar",
           "x": [
            "Rock/Metal"
           ],
           "xaxis": "x",
           "y": [
            71.64285714285714
           ],
           "yaxis": "y"
          }
         ],
         "name": "2005"
        },
        {
         "data": [
          {
           "alignmentgroup": "True",
           "hovertemplate": "Genre=%{x}<br>Year=2006<br>Popularity=%{y}<extra></extra>",
           "ids": [
            "EDM"
           ],
           "legendgroup": "EDM",
           "marker": {
            "color": "#636efa",
            "pattern": {
             "shape": ""
            }
           },
           "name": "EDM",
           "offsetgroup": "EDM",
           "orientation": "v",
           "showlegend": true,
           "textposition": "auto",
           "type": "bar",
           "x": [
            "EDM"
           ],
           "xaxis": "x",
           "y": [
            57.25
           ],
           "yaxis": "y"
          },
          {
           "alignmentgroup": "True",
           "hovertemplate": "Genre=%{x}<br>Year=2006<br>Popularity=%{y}<extra></extra>",
           "ids": [
            "Hip hop/Rap/R&b"
           ],
           "legendgroup": "Hip hop/Rap/R&b",
           "marker": {
            "color": "#EF553B",
            "pattern": {
             "shape": ""
            }
           },
           "name": "Hip hop/Rap/R&b",
           "offsetgroup": "Hip hop/Rap/R&b",
           "orientation": "v",
           "showlegend": true,
           "textposition": "auto",
           "type": "bar",
           "x": [
            "Hip hop/Rap/R&b"
           ],
           "xaxis": "x",
           "y": [
            61.1875
           ],
           "yaxis": "y"
          },
          {
           "alignmentgroup": "True",
           "hovertemplate": "Genre=%{x}<br>Year=2006<br>Popularity=%{y}<extra></extra>",
           "ids": [
            "Other"
           ],
           "legendgroup": "Other",
           "marker": {
            "color": "#00cc96",
            "pattern": {
             "shape": ""
            }
           },
           "name": "Other",
           "offsetgroup": "Other",
           "orientation": "v",
           "showlegend": true,
           "textposition": "auto",
           "type": "bar",
           "x": [
            "Other"
           ],
           "xaxis": "x",
           "y": [
            67.66666666666667
           ],
           "yaxis": "y"
          },
          {
           "alignmentgroup": "True",
           "hovertemplate": "Genre=%{x}<br>Year=2006<br>Popularity=%{y}<extra></extra>",
           "ids": [
            "Pop"
           ],
           "legendgroup": "Pop",
           "marker": {
            "color": "#ab63fa",
            "pattern": {
             "shape": ""
            }
           },
           "name": "Pop",
           "offsetgroup": "Pop",
           "orientation": "v",
           "showlegend": true,
           "textposition": "auto",
           "type": "bar",
           "x": [
            "Pop"
           ],
           "xaxis": "x",
           "y": [
            67.15789473684211
           ],
           "yaxis": "y"
          },
          {
           "alignmentgroup": "True",
           "hovertemplate": "Genre=%{x}<br>Year=2006<br>Popularity=%{y}<extra></extra>",
           "ids": [
            "Rock/Metal"
           ],
           "legendgroup": "Rock/Metal",
           "marker": {
            "color": "#FFA15A",
            "pattern": {
             "shape": ""
            }
           },
           "name": "Rock/Metal",
           "offsetgroup": "Rock/Metal",
           "orientation": "v",
           "showlegend": true,
           "textposition": "auto",
           "type": "bar",
           "x": [
            "Rock/Metal"
           ],
           "xaxis": "x",
           "y": [
            75.46153846153847
           ],
           "yaxis": "y"
          },
          {
           "alignmentgroup": "True",
           "hovertemplate": "Genre=%{x}<br>Year=2006<br>Popularity=%{y}<extra></extra>",
           "ids": [
            "Latin/Reggaeton"
           ],
           "legendgroup": "Latin/Reggaeton",
           "marker": {
            "color": "#19d3f3",
            "pattern": {
             "shape": ""
            }
           },
           "name": "Latin/Reggaeton",
           "offsetgroup": "Latin/Reggaeton",
           "orientation": "v",
           "showlegend": true,
           "textposition": "auto",
           "type": "bar",
           "x": [
            "Latin/Reggaeton"
           ],
           "xaxis": "x",
           "y": [
            78.75
           ],
           "yaxis": "y"
          }
         ],
         "name": "2006"
        },
        {
         "data": [
          {
           "alignmentgroup": "True",
           "hovertemplate": "Genre=%{x}<br>Year=2007<br>Popularity=%{y}<extra></extra>",
           "ids": [
            "EDM"
           ],
           "legendgroup": "EDM",
           "marker": {
            "color": "#636efa",
            "pattern": {
             "shape": ""
            }
           },
           "name": "EDM",
           "offsetgroup": "EDM",
           "orientation": "v",
           "showlegend": true,
           "textposition": "auto",
           "type": "bar",
           "x": [
            "EDM"
           ],
           "xaxis": "x",
           "y": [
            65.5
           ],
           "yaxis": "y"
          },
          {
           "alignmentgroup": "True",
           "hovertemplate": "Genre=%{x}<br>Year=2007<br>Popularity=%{y}<extra></extra>",
           "ids": [
            "Hip hop/Rap/R&b"
           ],
           "legendgroup": "Hip hop/Rap/R&b",
           "marker": {
            "color": "#EF553B",
            "pattern": {
             "shape": ""
            }
           },
           "name": "Hip hop/Rap/R&b",
           "offsetgroup": "Hip hop/Rap/R&b",
           "orientation": "v",
           "showlegend": true,
           "textposition": "auto",
           "type": "bar",
           "x": [
            "Hip hop/Rap/R&b"
           ],
           "xaxis": "x",
           "y": [
            69.15384615384616
           ],
           "yaxis": "y"
          },
          {
           "alignmentgroup": "True",
           "hovertemplate": "Genre=%{x}<br>Year=2007<br>Popularity=%{y}<extra></extra>",
           "ids": [
            "Other"
           ],
           "legendgroup": "Other",
           "marker": {
            "color": "#00cc96",
            "pattern": {
             "shape": ""
            }
           },
           "name": "Other",
           "offsetgroup": "Other",
           "orientation": "v",
           "showlegend": true,
           "textposition": "auto",
           "type": "bar",
           "x": [
            "Other"
           ],
           "xaxis": "x",
           "y": [
            69.1875
           ],
           "yaxis": "y"
          },
          {
           "alignmentgroup": "True",
           "hovertemplate": "Genre=%{x}<br>Year=2007<br>Popularity=%{y}<extra></extra>",
           "ids": [
            "Pop"
           ],
           "legendgroup": "Pop",
           "marker": {
            "color": "#ab63fa",
            "pattern": {
             "shape": ""
            }
           },
           "name": "Pop",
           "offsetgroup": "Pop",
           "orientation": "v",
           "showlegend": true,
           "textposition": "auto",
           "type": "bar",
           "x": [
            "Pop"
           ],
           "xaxis": "x",
           "y": [
            68.47058823529412
           ],
           "yaxis": "y"
          },
          {
           "alignmentgroup": "True",
           "hovertemplate": "Genre=%{x}<br>Year=2007<br>Popularity=%{y}<extra></extra>",
           "ids": [
            "Rock/Metal"
           ],
           "legendgroup": "Rock/Metal",
           "marker": {
            "color": "#FFA15A",
            "pattern": {
             "shape": ""
            }
           },
           "name": "Rock/Metal",
           "offsetgroup": "Rock/Metal",
           "orientation": "v",
           "showlegend": true,
           "textposition": "auto",
           "type": "bar",
           "x": [
            "Rock/Metal"
           ],
           "xaxis": "x",
           "y": [
            73.33333333333333
           ],
           "yaxis": "y"
          }
         ],
         "name": "2007"
        },
        {
         "data": [
          {
           "alignmentgroup": "True",
           "hovertemplate": "Genre=%{x}<br>Year=2008<br>Popularity=%{y}<extra></extra>",
           "ids": [
            "EDM"
           ],
           "legendgroup": "EDM",
           "marker": {
            "color": "#636efa",
            "pattern": {
             "shape": ""
            }
           },
           "name": "EDM",
           "offsetgroup": "EDM",
           "orientation": "v",
           "showlegend": true,
           "textposition": "auto",
           "type": "bar",
           "x": [
            "EDM"
           ],
           "xaxis": "x",
           "y": [
            73.5
           ],
           "yaxis": "y"
          },
          {
           "alignmentgroup": "True",
           "hovertemplate": "Genre=%{x}<br>Year=2008<br>Popularity=%{y}<extra></extra>",
           "ids": [
            "Hip hop/Rap/R&b"
           ],
           "legendgroup": "Hip hop/Rap/R&b",
           "marker": {
            "color": "#EF553B",
            "pattern": {
             "shape": ""
            }
           },
           "name": "Hip hop/Rap/R&b",
           "offsetgroup": "Hip hop/Rap/R&b",
           "orientation": "v",
           "showlegend": true,
           "textposition": "auto",
           "type": "bar",
           "x": [
            "Hip hop/Rap/R&b"
           ],
           "xaxis": "x",
           "y": [
            69.55
           ],
           "yaxis": "y"
          },
          {
           "alignmentgroup": "True",
           "hovertemplate": "Genre=%{x}<br>Year=2008<br>Popularity=%{y}<extra></extra>",
           "ids": [
            "Other"
           ],
           "legendgroup": "Other",
           "marker": {
            "color": "#00cc96",
            "pattern": {
             "shape": ""
            }
           },
           "name": "Other",
           "offsetgroup": "Other",
           "orientation": "v",
           "showlegend": true,
           "textposition": "auto",
           "type": "bar",
           "x": [
            "Other"
           ],
           "xaxis": "x",
           "y": [
            67.84210526315789
           ],
           "yaxis": "y"
          },
          {
           "alignmentgroup": "True",
           "hovertemplate": "Genre=%{x}<br>Year=2008<br>Popularity=%{y}<extra></extra>",
           "ids": [
            "Pop"
           ],
           "legendgroup": "Pop",
           "marker": {
            "color": "#ab63fa",
            "pattern": {
             "shape": ""
            }
           },
           "name": "Pop",
           "offsetgroup": "Pop",
           "orientation": "v",
           "showlegend": true,
           "textposition": "auto",
           "type": "bar",
           "x": [
            "Pop"
           ],
           "xaxis": "x",
           "y": [
            69.10204081632654
           ],
           "yaxis": "y"
          },
          {
           "alignmentgroup": "True",
           "hovertemplate": "Genre=%{x}<br>Year=2008<br>Popularity=%{y}<extra></extra>",
           "ids": [
            "Rock/Metal"
           ],
           "legendgroup": "Rock/Metal",
           "marker": {
            "color": "#FFA15A",
            "pattern": {
             "shape": ""
            }
           },
           "name": "Rock/Metal",
           "offsetgroup": "Rock/Metal",
           "orientation": "v",
           "showlegend": true,
           "textposition": "auto",
           "type": "bar",
           "x": [
            "Rock/Metal"
           ],
           "xaxis": "x",
           "y": [
            72.875
           ],
           "yaxis": "y"
          }
         ],
         "name": "2008"
        },
        {
         "data": [
          {
           "alignmentgroup": "True",
           "hovertemplate": "Genre=%{x}<br>Year=2009<br>Popularity=%{y}<extra></extra>",
           "ids": [
            "EDM"
           ],
           "legendgroup": "EDM",
           "marker": {
            "color": "#636efa",
            "pattern": {
             "shape": ""
            }
           },
           "name": "EDM",
           "offsetgroup": "EDM",
           "orientation": "v",
           "showlegend": true,
           "textposition": "auto",
           "type": "bar",
           "x": [
            "EDM"
           ],
           "xaxis": "x",
           "y": [
            58.5
           ],
           "yaxis": "y"
          },
          {
           "alignmentgroup": "True",
           "hovertemplate": "Genre=%{x}<br>Year=2009<br>Popularity=%{y}<extra></extra>",
           "ids": [
            "Hip hop/Rap/R&b"
           ],
           "legendgroup": "Hip hop/Rap/R&b",
           "marker": {
            "color": "#EF553B",
            "pattern": {
             "shape": ""
            }
           },
           "name": "Hip hop/Rap/R&b",
           "offsetgroup": "Hip hop/Rap/R&b",
           "orientation": "v",
           "showlegend": true,
           "textposition": "auto",
           "type": "bar",
           "x": [
            "Hip hop/Rap/R&b"
           ],
           "xaxis": "x",
           "y": [
            69.61538461538461
           ],
           "yaxis": "y"
          },
          {
           "alignmentgroup": "True",
           "hovertemplate": "Genre=%{x}<br>Year=2009<br>Popularity=%{y}<extra></extra>",
           "ids": [
            "Other"
           ],
           "legendgroup": "Other",
           "marker": {
            "color": "#00cc96",
            "pattern": {
             "shape": ""
            }
           },
           "name": "Other",
           "offsetgroup": "Other",
           "orientation": "v",
           "showlegend": true,
           "textposition": "auto",
           "type": "bar",
           "x": [
            "Other"
           ],
           "xaxis": "x",
           "y": [
            63.63636363636363
           ],
           "yaxis": "y"
          },
          {
           "alignmentgroup": "True",
           "hovertemplate": "Genre=%{x}<br>Year=2009<br>Popularity=%{y}<extra></extra>",
           "ids": [
            "Pop"
           ],
           "legendgroup": "Pop",
           "marker": {
            "color": "#ab63fa",
            "pattern": {
             "shape": ""
            }
           },
           "name": "Pop",
           "offsetgroup": "Pop",
           "orientation": "v",
           "showlegend": true,
           "textposition": "auto",
           "type": "bar",
           "x": [
            "Pop"
           ],
           "xaxis": "x",
           "y": [
            68.6875
           ],
           "yaxis": "y"
          },
          {
           "alignmentgroup": "True",
           "hovertemplate": "Genre=%{x}<br>Year=2009<br>Popularity=%{y}<extra></extra>",
           "ids": [
            "Rock/Metal"
           ],
           "legendgroup": "Rock/Metal",
           "marker": {
            "color": "#FFA15A",
            "pattern": {
             "shape": ""
            }
           },
           "name": "Rock/Metal",
           "offsetgroup": "Rock/Metal",
           "orientation": "v",
           "showlegend": true,
           "textposition": "auto",
           "type": "bar",
           "x": [
            "Rock/Metal"
           ],
           "xaxis": "x",
           "y": [
            72.66666666666667
           ],
           "yaxis": "y"
          }
         ],
         "name": "2009"
        },
        {
         "data": [
          {
           "alignmentgroup": "True",
           "hovertemplate": "Genre=%{x}<br>Year=2010<br>Popularity=%{y}<extra></extra>",
           "ids": [
            "EDM"
           ],
           "legendgroup": "EDM",
           "marker": {
            "color": "#636efa",
            "pattern": {
             "shape": ""
            }
           },
           "name": "EDM",
           "offsetgroup": "EDM",
           "orientation": "v",
           "showlegend": true,
           "textposition": "auto",
           "type": "bar",
           "x": [
            "EDM"
           ],
           "xaxis": "x",
           "y": [
            58
           ],
           "yaxis": "y"
          },
          {
           "alignmentgroup": "True",
           "hovertemplate": "Genre=%{x}<br>Year=2010<br>Popularity=%{y}<extra></extra>",
           "ids": [
            "Hip hop/Rap/R&b"
           ],
           "legendgroup": "Hip hop/Rap/R&b",
           "marker": {
            "color": "#EF553B",
            "pattern": {
             "shape": ""
            }
           },
           "name": "Hip hop/Rap/R&b",
           "offsetgroup": "Hip hop/Rap/R&b",
           "orientation": "v",
           "showlegend": true,
           "textposition": "auto",
           "type": "bar",
           "x": [
            "Hip hop/Rap/R&b"
           ],
           "xaxis": "x",
           "y": [
            71.53571428571429
           ],
           "yaxis": "y"
          },
          {
           "alignmentgroup": "True",
           "hovertemplate": "Genre=%{x}<br>Year=2010<br>Popularity=%{y}<extra></extra>",
           "ids": [
            "Other"
           ],
           "legendgroup": "Other",
           "marker": {
            "color": "#00cc96",
            "pattern": {
             "shape": ""
            }
           },
           "name": "Other",
           "offsetgroup": "Other",
           "orientation": "v",
           "showlegend": true,
           "textposition": "auto",
           "type": "bar",
           "x": [
            "Other"
           ],
           "xaxis": "x",
           "y": [
            68.125
           ],
           "yaxis": "y"
          },
          {
           "alignmentgroup": "True",
           "hovertemplate": "Genre=%{x}<br>Year=2010<br>Popularity=%{y}<extra></extra>",
           "ids": [
            "Pop"
           ],
           "legendgroup": "Pop",
           "marker": {
            "color": "#ab63fa",
            "pattern": {
             "shape": ""
            }
           },
           "name": "Pop",
           "offsetgroup": "Pop",
           "orientation": "v",
           "showlegend": true,
           "textposition": "auto",
           "type": "bar",
           "x": [
            "Pop"
           ],
           "xaxis": "x",
           "y": [
            72.17857142857143
           ],
           "yaxis": "y"
          },
          {
           "alignmentgroup": "True",
           "hovertemplate": "Genre=%{x}<br>Year=2010<br>Popularity=%{y}<extra></extra>",
           "ids": [
            "Rock/Metal"
           ],
           "legendgroup": "Rock/Metal",
           "marker": {
            "color": "#FFA15A",
            "pattern": {
             "shape": ""
            }
           },
           "name": "Rock/Metal",
           "offsetgroup": "Rock/Metal",
           "orientation": "v",
           "showlegend": true,
           "textposition": "auto",
           "type": "bar",
           "x": [
            "Rock/Metal"
           ],
           "xaxis": "x",
           "y": [
            68
           ],
           "yaxis": "y"
          }
         ],
         "name": "2010"
        },
        {
         "data": [
          {
           "alignmentgroup": "True",
           "hovertemplate": "Genre=%{x}<br>Year=2011<br>Popularity=%{y}<extra></extra>",
           "ids": [
            "EDM"
           ],
           "legendgroup": "EDM",
           "marker": {
            "color": "#636efa",
            "pattern": {
             "shape": ""
            }
           },
           "name": "EDM",
           "offsetgroup": "EDM",
           "orientation": "v",
           "showlegend": true,
           "textposition": "auto",
           "type": "bar",
           "x": [
            "EDM"
           ],
           "xaxis": "x",
           "y": [
            64.2
           ],
           "yaxis": "y"
          },
          {
           "alignmentgroup": "True",
           "hovertemplate": "Genre=%{x}<br>Year=2011<br>Popularity=%{y}<extra></extra>",
           "ids": [
            "Hip hop/Rap/R&b"
           ],
           "legendgroup": "Hip hop/Rap/R&b",
           "marker": {
            "color": "#EF553B",
            "pattern": {
             "shape": ""
            }
           },
           "name": "Hip hop/Rap/R&b",
           "offsetgroup": "Hip hop/Rap/R&b",
           "orientation": "v",
           "showlegend": true,
           "textposition": "auto",
           "type": "bar",
           "x": [
            "Hip hop/Rap/R&b"
           ],
           "xaxis": "x",
           "y": [
            69.21052631578948
           ],
           "yaxis": "y"
          },
          {
           "alignmentgroup": "True",
           "hovertemplate": "Genre=%{x}<br>Year=2011<br>Popularity=%{y}<extra></extra>",
           "ids": [
            "Other"
           ],
           "legendgroup": "Other",
           "marker": {
            "color": "#00cc96",
            "pattern": {
             "shape": ""
            }
           },
           "name": "Other",
           "offsetgroup": "Other",
           "orientation": "v",
           "showlegend": true,
           "textposition": "auto",
           "type": "bar",
           "x": [
            "Other"
           ],
           "xaxis": "x",
           "y": [
            69.1
           ],
           "yaxis": "y"
          },
          {
           "alignmentgroup": "True",
           "hovertemplate": "Genre=%{x}<br>Year=2011<br>Popularity=%{y}<extra></extra>",
           "ids": [
            "Pop"
           ],
           "legendgroup": "Pop",
           "marker": {
            "color": "#ab63fa",
            "pattern": {
             "shape": ""
            }
           },
           "name": "Pop",
           "offsetgroup": "Pop",
           "orientation": "v",
           "showlegend": true,
           "textposition": "auto",
           "type": "bar",
           "x": [
            "Pop"
           ],
           "xaxis": "x",
           "y": [
            72.32558139534883
           ],
           "yaxis": "y"
          },
          {
           "alignmentgroup": "True",
           "hovertemplate": "Genre=%{x}<br>Year=2011<br>Popularity=%{y}<extra></extra>",
           "ids": [
            "Rock/Metal"
           ],
           "legendgroup": "Rock/Metal",
           "marker": {
            "color": "#FFA15A",
            "pattern": {
             "shape": ""
            }
           },
           "name": "Rock/Metal",
           "offsetgroup": "Rock/Metal",
           "orientation": "v",
           "showlegend": true,
           "textposition": "auto",
           "type": "bar",
           "x": [
            "Rock/Metal"
           ],
           "xaxis": "x",
           "y": [
            69.66666666666667
           ],
           "yaxis": "y"
          }
         ],
         "name": "2011"
        },
        {
         "data": [
          {
           "alignmentgroup": "True",
           "hovertemplate": "Genre=%{x}<br>Year=2012<br>Popularity=%{y}<extra></extra>",
           "ids": [
            "EDM"
           ],
           "legendgroup": "EDM",
           "marker": {
            "color": "#636efa",
            "pattern": {
             "shape": ""
            }
           },
           "name": "EDM",
           "offsetgroup": "EDM",
           "orientation": "v",
           "showlegend": true,
           "textposition": "auto",
           "type": "bar",
           "x": [
            "EDM"
           ],
           "xaxis": "x",
           "y": [
            69.75
           ],
           "yaxis": "y"
          },
          {
           "alignmentgroup": "True",
           "hovertemplate": "Genre=%{x}<br>Year=2012<br>Popularity=%{y}<extra></extra>",
           "ids": [
            "Hip hop/Rap/R&b"
           ],
           "legendgroup": "Hip hop/Rap/R&b",
           "marker": {
            "color": "#EF553B",
            "pattern": {
             "shape": ""
            }
           },
           "name": "Hip hop/Rap/R&b",
           "offsetgroup": "Hip hop/Rap/R&b",
           "orientation": "v",
           "showlegend": true,
           "textposition": "auto",
           "type": "bar",
           "x": [
            "Hip hop/Rap/R&b"
           ],
           "xaxis": "x",
           "y": [
            67.04166666666667
           ],
           "yaxis": "y"
          },
          {
           "alignmentgroup": "True",
           "hovertemplate": "Genre=%{x}<br>Year=2012<br>Popularity=%{y}<extra></extra>",
           "ids": [
            "Other"
           ],
           "legendgroup": "Other",
           "marker": {
            "color": "#00cc96",
            "pattern": {
             "shape": ""
            }
           },
           "name": "Other",
           "offsetgroup": "Other",
           "orientation": "v",
           "showlegend": true,
           "textposition": "auto",
           "type": "bar",
           "x": [
            "Other"
           ],
           "xaxis": "x",
           "y": [
            71.5
           ],
           "yaxis": "y"
          },
          {
           "alignmentgroup": "True",
           "hovertemplate": "Genre=%{x}<br>Year=2012<br>Popularity=%{y}<extra></extra>",
           "ids": [
            "Pop"
           ],
           "legendgroup": "Pop",
           "marker": {
            "color": "#ab63fa",
            "pattern": {
             "shape": ""
            }
           },
           "name": "Pop",
           "offsetgroup": "Pop",
           "orientation": "v",
           "showlegend": true,
           "textposition": "auto",
           "type": "bar",
           "x": [
            "Pop"
           ],
           "xaxis": "x",
           "y": [
            73.67647058823529
           ],
           "yaxis": "y"
          },
          {
           "alignmentgroup": "True",
           "hovertemplate": "Genre=%{x}<br>Year=2012<br>Popularity=%{y}<extra></extra>",
           "ids": [
            "Rock/Metal"
           ],
           "legendgroup": "Rock/Metal",
           "marker": {
            "color": "#FFA15A",
            "pattern": {
             "shape": ""
            }
           },
           "name": "Rock/Metal",
           "offsetgroup": "Rock/Metal",
           "orientation": "v",
           "showlegend": true,
           "textposition": "auto",
           "type": "bar",
           "x": [
            "Rock/Metal"
           ],
           "xaxis": "x",
           "y": [
            75.5
           ],
           "yaxis": "y"
          }
         ],
         "name": "2012"
        },
        {
         "data": [
          {
           "alignmentgroup": "True",
           "hovertemplate": "Genre=%{x}<br>Year=2013<br>Popularity=%{y}<extra></extra>",
           "ids": [
            "EDM"
           ],
           "legendgroup": "EDM",
           "marker": {
            "color": "#636efa",
            "pattern": {
             "shape": ""
            }
           },
           "name": "EDM",
           "offsetgroup": "EDM",
           "orientation": "v",
           "showlegend": true,
           "textposition": "auto",
           "type": "bar",
           "x": [
            "EDM"
           ],
           "xaxis": "x",
           "y": [
            70.15384615384616
           ],
           "yaxis": "y"
          },
          {
           "alignmentgroup": "True",
           "hovertemplate": "Genre=%{x}<br>Year=2013<br>Popularity=%{y}<extra></extra>",
           "ids": [
            "Hip hop/Rap/R&b"
           ],
           "legendgroup": "Hip hop/Rap/R&b",
           "marker": {
            "color": "#EF553B",
            "pattern": {
             "shape": ""
            }
           },
           "name": "Hip hop/Rap/R&b",
           "offsetgroup": "Hip hop/Rap/R&b",
           "orientation": "v",
           "showlegend": true,
           "textposition": "auto",
           "type": "bar",
           "x": [
            "Hip hop/Rap/R&b"
           ],
           "xaxis": "x",
           "y": [
            70.46153846153847
           ],
           "yaxis": "y"
          },
          {
           "alignmentgroup": "True",
           "hovertemplate": "Genre=%{x}<br>Year=2013<br>Popularity=%{y}<extra></extra>",
           "ids": [
            "Other"
           ],
           "legendgroup": "Other",
           "marker": {
            "color": "#00cc96",
            "pattern": {
             "shape": ""
            }
           },
           "name": "Other",
           "offsetgroup": "Other",
           "orientation": "v",
           "showlegend": true,
           "textposition": "auto",
           "type": "bar",
           "x": [
            "Other"
           ],
           "xaxis": "x",
           "y": [
            68.83333333333333
           ],
           "yaxis": "y"
          },
          {
           "alignmentgroup": "True",
           "hovertemplate": "Genre=%{x}<br>Year=2013<br>Popularity=%{y}<extra></extra>",
           "ids": [
            "Pop"
           ],
           "legendgroup": "Pop",
           "marker": {
            "color": "#ab63fa",
            "pattern": {
             "shape": ""
            }
           },
           "name": "Pop",
           "offsetgroup": "Pop",
           "orientation": "v",
           "showlegend": true,
           "textposition": "auto",
           "type": "bar",
           "x": [
            "Pop"
           ],
           "xaxis": "x",
           "y": [
            71.69767441860465
           ],
           "yaxis": "y"
          },
          {
           "alignmentgroup": "True",
           "hovertemplate": "Genre=%{x}<br>Year=2013<br>Popularity=%{y}<extra></extra>",
           "ids": [
            "Rock/Metal"
           ],
           "legendgroup": "Rock/Metal",
           "marker": {
            "color": "#FFA15A",
            "pattern": {
             "shape": ""
            }
           },
           "name": "Rock/Metal",
           "offsetgroup": "Rock/Metal",
           "orientation": "v",
           "showlegend": true,
           "textposition": "auto",
           "type": "bar",
           "x": [
            "Rock/Metal"
           ],
           "xaxis": "x",
           "y": [
            84.8
           ],
           "yaxis": "y"
          }
         ],
         "name": "2013"
        },
        {
         "data": [
          {
           "alignmentgroup": "True",
           "hovertemplate": "Genre=%{x}<br>Year=2014<br>Popularity=%{y}<extra></extra>",
           "ids": [
            "EDM"
           ],
           "legendgroup": "EDM",
           "marker": {
            "color": "#636efa",
            "pattern": {
             "shape": ""
            }
           },
           "name": "EDM",
           "offsetgroup": "EDM",
           "orientation": "v",
           "showlegend": true,
           "textposition": "auto",
           "type": "bar",
           "x": [
            "EDM"
           ],
           "xaxis": "x",
           "y": [
            72.25
           ],
           "yaxis": "y"
          },
          {
           "alignmentgroup": "True",
           "hovertemplate": "Genre=%{x}<br>Year=2014<br>Popularity=%{y}<extra></extra>",
           "ids": [
            "Hip hop/Rap/R&b"
           ],
           "legendgroup": "Hip hop/Rap/R&b",
           "marker": {
            "color": "#EF553B",
            "pattern": {
             "shape": ""
            }
           },
           "name": "Hip hop/Rap/R&b",
           "offsetgroup": "Hip hop/Rap/R&b",
           "orientation": "v",
           "showlegend": true,
           "textposition": "auto",
           "type": "bar",
           "x": [
            "Hip hop/Rap/R&b"
           ],
           "xaxis": "x",
           "y": [
            70.14285714285714
           ],
           "yaxis": "y"
          },
          {
           "alignmentgroup": "True",
           "hovertemplate": "Genre=%{x}<br>Year=2014<br>Popularity=%{y}<extra></extra>",
           "ids": [
            "Other"
           ],
           "legendgroup": "Other",
           "marker": {
            "color": "#00cc96",
            "pattern": {
             "shape": ""
            }
           },
           "name": "Other",
           "offsetgroup": "Other",
           "orientation": "v",
           "showlegend": true,
           "textposition": "auto",
           "type": "bar",
           "x": [
            "Other"
           ],
           "xaxis": "x",
           "y": [
            71
           ],
           "yaxis": "y"
          },
          {
           "alignmentgroup": "True",
           "hovertemplate": "Genre=%{x}<br>Year=2014<br>Popularity=%{y}<extra></extra>",
           "ids": [
            "Pop"
           ],
           "legendgroup": "Pop",
           "marker": {
            "color": "#ab63fa",
            "pattern": {
             "shape": ""
            }
           },
           "name": "Pop",
           "offsetgroup": "Pop",
           "orientation": "v",
           "showlegend": true,
           "textposition": "auto",
           "type": "bar",
           "x": [
            "Pop"
           ],
           "xaxis": "x",
           "y": [
            75.57894736842105
           ],
           "yaxis": "y"
          },
          {
           "alignmentgroup": "True",
           "hovertemplate": "Genre=%{x}<br>Year=2014<br>Popularity=%{y}<extra></extra>",
           "ids": [
            "Rock/Metal"
           ],
           "legendgroup": "Rock/Metal",
           "marker": {
            "color": "#FFA15A",
            "pattern": {
             "shape": ""
            }
           },
           "name": "Rock/Metal",
           "offsetgroup": "Rock/Metal",
           "orientation": "v",
           "showlegend": true,
           "textposition": "auto",
           "type": "bar",
           "x": [
            "Rock/Metal"
           ],
           "xaxis": "x",
           "y": [
            74.5
           ],
           "yaxis": "y"
          }
         ],
         "name": "2014"
        },
        {
         "data": [
          {
           "alignmentgroup": "True",
           "hovertemplate": "Genre=%{x}<br>Year=2015<br>Popularity=%{y}<extra></extra>",
           "ids": [
            "EDM"
           ],
           "legendgroup": "EDM",
           "marker": {
            "color": "#636efa",
            "pattern": {
             "shape": ""
            }
           },
           "name": "EDM",
           "offsetgroup": "EDM",
           "orientation": "v",
           "showlegend": true,
           "textposition": "auto",
           "type": "bar",
           "x": [
            "EDM"
           ],
           "xaxis": "x",
           "y": [
            70.44444444444444
           ],
           "yaxis": "y"
          },
          {
           "alignmentgroup": "True",
           "hovertemplate": "Genre=%{x}<br>Year=2015<br>Popularity=%{y}<extra></extra>",
           "ids": [
            "Hip hop/Rap/R&b"
           ],
           "legendgroup": "Hip hop/Rap/R&b",
           "marker": {
            "color": "#EF553B",
            "pattern": {
             "shape": ""
            }
           },
           "name": "Hip hop/Rap/R&b",
           "offsetgroup": "Hip hop/Rap/R&b",
           "orientation": "v",
           "showlegend": true,
           "textposition": "auto",
           "type": "bar",
           "x": [
            "Hip hop/Rap/R&b"
           ],
           "xaxis": "x",
           "y": [
            75.73076923076923
           ],
           "yaxis": "y"
          },
          {
           "alignmentgroup": "True",
           "hovertemplate": "Genre=%{x}<br>Year=2015<br>Popularity=%{y}<extra></extra>",
           "ids": [
            "Other"
           ],
           "legendgroup": "Other",
           "marker": {
            "color": "#00cc96",
            "pattern": {
             "shape": ""
            }
           },
           "name": "Other",
           "offsetgroup": "Other",
           "orientation": "v",
           "showlegend": true,
           "textposition": "auto",
           "type": "bar",
           "x": [
            "Other"
           ],
           "xaxis": "x",
           "y": [
            73.62962962962963
           ],
           "yaxis": "y"
          },
          {
           "alignmentgroup": "True",
           "hovertemplate": "Genre=%{x}<br>Year=2015<br>Popularity=%{y}<extra></extra>",
           "ids": [
            "Pop"
           ],
           "legendgroup": "Pop",
           "marker": {
            "color": "#ab63fa",
            "pattern": {
             "shape": ""
            }
           },
           "name": "Pop",
           "offsetgroup": "Pop",
           "orientation": "v",
           "showlegend": true,
           "textposition": "auto",
           "type": "bar",
           "x": [
            "Pop"
           ],
           "xaxis": "x",
           "y": [
            70.95121951219512
           ],
           "yaxis": "y"
          },
          {
           "alignmentgroup": "True",
           "hovertemplate": "Genre=%{x}<br>Year=2015<br>Popularity=%{y}<extra></extra>",
           "ids": [
            "Rock/Metal"
           ],
           "legendgroup": "Rock/Metal",
           "marker": {
            "color": "#FFA15A",
            "pattern": {
             "shape": ""
            }
           },
           "name": "Rock/Metal",
           "offsetgroup": "Rock/Metal",
           "orientation": "v",
           "showlegend": true,
           "textposition": "auto",
           "type": "bar",
           "x": [
            "Rock/Metal"
           ],
           "xaxis": "x",
           "y": [
            80.16666666666667
           ],
           "yaxis": "y"
          }
         ],
         "name": "2015"
        },
        {
         "data": [
          {
           "alignmentgroup": "True",
           "hovertemplate": "Genre=%{x}<br>Year=2016<br>Popularity=%{y}<extra></extra>",
           "ids": [
            "EDM"
           ],
           "legendgroup": "EDM",
           "marker": {
            "color": "#636efa",
            "pattern": {
             "shape": ""
            }
           },
           "name": "EDM",
           "offsetgroup": "EDM",
           "orientation": "v",
           "showlegend": true,
           "textposition": "auto",
           "type": "bar",
           "x": [
            "EDM"
           ],
           "xaxis": "x",
           "y": [
            70.8125
           ],
           "yaxis": "y"
          },
          {
           "alignmentgroup": "True",
           "hovertemplate": "Genre=%{x}<br>Year=2016<br>Popularity=%{y}<extra></extra>",
           "ids": [
            "Hip hop/Rap/R&b"
           ],
           "legendgroup": "Hip hop/Rap/R&b",
           "marker": {
            "color": "#EF553B",
            "pattern": {
             "shape": ""
            }
           },
           "name": "Hip hop/Rap/R&b",
           "offsetgroup": "Hip hop/Rap/R&b",
           "orientation": "v",
           "showlegend": true,
           "textposition": "auto",
           "type": "bar",
           "x": [
            "Hip hop/Rap/R&b"
           ],
           "xaxis": "x",
           "y": [
            73.26470588235294
           ],
           "yaxis": "y"
          },
          {
           "alignmentgroup": "True",
           "hovertemplate": "Genre=%{x}<br>Year=2016<br>Popularity=%{y}<extra></extra>",
           "ids": [
            "Other"
           ],
           "legendgroup": "Other",
           "marker": {
            "color": "#00cc96",
            "pattern": {
             "shape": ""
            }
           },
           "name": "Other",
           "offsetgroup": "Other",
           "orientation": "v",
           "showlegend": true,
           "textposition": "auto",
           "type": "bar",
           "x": [
            "Other"
           ],
           "xaxis": "x",
           "y": [
            66.82608695652173
           ],
           "yaxis": "y"
          },
          {
           "alignmentgroup": "True",
           "hovertemplate": "Genre=%{x}<br>Year=2016<br>Popularity=%{y}<extra></extra>",
           "ids": [
            "Pop"
           ],
           "legendgroup": "Pop",
           "marker": {
            "color": "#ab63fa",
            "pattern": {
             "shape": ""
            }
           },
           "name": "Pop",
           "offsetgroup": "Pop",
           "orientation": "v",
           "showlegend": true,
           "textposition": "auto",
           "type": "bar",
           "x": [
            "Pop"
           ],
           "xaxis": "x",
           "y": [
            72.93181818181819
           ],
           "yaxis": "y"
          },
          {
           "alignmentgroup": "True",
           "hovertemplate": "Genre=%{x}<br>Year=2016<br>Popularity=%{y}<extra></extra>",
           "ids": [
            "Rock/Metal"
           ],
           "legendgroup": "Rock/Metal",
           "marker": {
            "color": "#FFA15A",
            "pattern": {
             "shape": ""
            }
           },
           "name": "Rock/Metal",
           "offsetgroup": "Rock/Metal",
           "orientation": "v",
           "showlegend": true,
           "textposition": "auto",
           "type": "bar",
           "x": [
            "Rock/Metal"
           ],
           "xaxis": "x",
           "y": [
            69.4
           ],
           "yaxis": "y"
          }
         ],
         "name": "2016"
        },
        {
         "data": [
          {
           "alignmentgroup": "True",
           "hovertemplate": "Genre=%{x}<br>Year=2017<br>Popularity=%{y}<extra></extra>",
           "ids": [
            "EDM"
           ],
           "legendgroup": "EDM",
           "marker": {
            "color": "#636efa",
            "pattern": {
             "shape": ""
            }
           },
           "name": "EDM",
           "offsetgroup": "EDM",
           "orientation": "v",
           "showlegend": true,
           "textposition": "auto",
           "type": "bar",
           "x": [
            "EDM"
           ],
           "xaxis": "x",
           "y": [
            70.25
           ],
           "yaxis": "y"
          },
          {
           "alignmentgroup": "True",
           "hovertemplate": "Genre=%{x}<br>Year=2017<br>Popularity=%{y}<extra></extra>",
           "ids": [
            "Hip hop/Rap/R&b"
           ],
           "legendgroup": "Hip hop/Rap/R&b",
           "marker": {
            "color": "#EF553B",
            "pattern": {
             "shape": ""
            }
           },
           "name": "Hip hop/Rap/R&b",
           "offsetgroup": "Hip hop/Rap/R&b",
           "orientation": "v",
           "showlegend": true,
           "textposition": "auto",
           "type": "bar",
           "x": [
            "Hip hop/Rap/R&b"
           ],
           "xaxis": "x",
           "y": [
            75.84615384615384
           ],
           "yaxis": "y"
          },
          {
           "alignmentgroup": "True",
           "hovertemplate": "Genre=%{x}<br>Year=2017<br>Popularity=%{y}<extra></extra>",
           "ids": [
            "Other"
           ],
           "legendgroup": "Other",
           "marker": {
            "color": "#00cc96",
            "pattern": {
             "shape": ""
            }
           },
           "name": "Other",
           "offsetgroup": "Other",
           "orientation": "v",
           "showlegend": true,
           "textposition": "auto",
           "type": "bar",
           "x": [
            "Other"
           ],
           "xaxis": "x",
           "y": [
            70.94444444444444
           ],
           "yaxis": "y"
          },
          {
           "alignmentgroup": "True",
           "hovertemplate": "Genre=%{x}<br>Year=2017<br>Popularity=%{y}<extra></extra>",
           "ids": [
            "Pop"
           ],
           "legendgroup": "Pop",
           "marker": {
            "color": "#ab63fa",
            "pattern": {
             "shape": ""
            }
           },
           "name": "Pop",
           "offsetgroup": "Pop",
           "orientation": "v",
           "showlegend": true,
           "textposition": "auto",
           "type": "bar",
           "x": [
            "Pop"
           ],
           "xaxis": "x",
           "y": [
            74.82926829268293
           ],
           "yaxis": "y"
          },
          {
           "alignmentgroup": "True",
           "hovertemplate": "Genre=%{x}<br>Year=2017<br>Popularity=%{y}<extra></extra>",
           "ids": [
            "Rock/Metal"
           ],
           "legendgroup": "Rock/Metal",
           "marker": {
            "color": "#FFA15A",
            "pattern": {
             "shape": ""
            }
           },
           "name": "Rock/Metal",
           "offsetgroup": "Rock/Metal",
           "orientation": "v",
           "showlegend": true,
           "textposition": "auto",
           "type": "bar",
           "x": [
            "Rock/Metal"
           ],
           "xaxis": "x",
           "y": [
            86.5
           ],
           "yaxis": "y"
          },
          {
           "alignmentgroup": "True",
           "hovertemplate": "Genre=%{x}<br>Year=2017<br>Popularity=%{y}<extra></extra>",
           "ids": [
            "Latin/Reggaeton"
           ],
           "legendgroup": "Latin/Reggaeton",
           "marker": {
            "color": "#19d3f3",
            "pattern": {
             "shape": ""
            }
           },
           "name": "Latin/Reggaeton",
           "offsetgroup": "Latin/Reggaeton",
           "orientation": "v",
           "showlegend": true,
           "textposition": "auto",
           "type": "bar",
           "x": [
            "Latin/Reggaeton"
           ],
           "xaxis": "x",
           "y": [
            74
           ],
           "yaxis": "y"
          }
         ],
         "name": "2017"
        },
        {
         "data": [
          {
           "alignmentgroup": "True",
           "hovertemplate": "Genre=%{x}<br>Year=2018<br>Popularity=%{y}<extra></extra>",
           "ids": [
            "EDM"
           ],
           "legendgroup": "EDM",
           "marker": {
            "color": "#636efa",
            "pattern": {
             "shape": ""
            }
           },
           "name": "EDM",
           "offsetgroup": "EDM",
           "orientation": "v",
           "showlegend": true,
           "textposition": "auto",
           "type": "bar",
           "x": [
            "EDM"
           ],
           "xaxis": "x",
           "y": [
            74.2
           ],
           "yaxis": "y"
          },
          {
           "alignmentgroup": "True",
           "hovertemplate": "Genre=%{x}<br>Year=2018<br>Popularity=%{y}<extra></extra>",
           "ids": [
            "Hip hop/Rap/R&b"
           ],
           "legendgroup": "Hip hop/Rap/R&b",
           "marker": {
            "color": "#EF553B",
            "pattern": {
             "shape": ""
            }
           },
           "name": "Hip hop/Rap/R&b",
           "offsetgroup": "Hip hop/Rap/R&b",
           "orientation": "v",
           "showlegend": true,
           "textposition": "auto",
           "type": "bar",
           "x": [
            "Hip hop/Rap/R&b"
           ],
           "xaxis": "x",
           "y": [
            76
           ],
           "yaxis": "y"
          },
          {
           "alignmentgroup": "True",
           "hovertemplate": "Genre=%{x}<br>Year=2018<br>Popularity=%{y}<extra></extra>",
           "ids": [
            "Other"
           ],
           "legendgroup": "Other",
           "marker": {
            "color": "#00cc96",
            "pattern": {
             "shape": ""
            }
           },
           "name": "Other",
           "offsetgroup": "Other",
           "orientation": "v",
           "showlegend": true,
           "textposition": "auto",
           "type": "bar",
           "x": [
            "Other"
           ],
           "xaxis": "x",
           "y": [
            72.94736842105263
           ],
           "yaxis": "y"
          },
          {
           "alignmentgroup": "True",
           "hovertemplate": "Genre=%{x}<br>Year=2018<br>Popularity=%{y}<extra></extra>",
           "ids": [
            "Pop"
           ],
           "legendgroup": "Pop",
           "marker": {
            "color": "#ab63fa",
            "pattern": {
             "shape": ""
            }
           },
           "name": "Pop",
           "offsetgroup": "Pop",
           "orientation": "v",
           "showlegend": true,
           "textposition": "auto",
           "type": "bar",
           "x": [
            "Pop"
           ],
           "xaxis": "x",
           "y": [
            74.56818181818181
           ],
           "yaxis": "y"
          },
          {
           "alignmentgroup": "True",
           "hovertemplate": "Genre=%{x}<br>Year=2018<br>Popularity=%{y}<extra></extra>",
           "ids": [
            "Rock/Metal"
           ],
           "legendgroup": "Rock/Metal",
           "marker": {
            "color": "#FFA15A",
            "pattern": {
             "shape": ""
            }
           },
           "name": "Rock/Metal",
           "offsetgroup": "Rock/Metal",
           "orientation": "v",
           "showlegend": true,
           "textposition": "auto",
           "type": "bar",
           "x": [
            "Rock/Metal"
           ],
           "xaxis": "x",
           "y": [
            62.333333333333336
           ],
           "yaxis": "y"
          },
          {
           "alignmentgroup": "True",
           "hovertemplate": "Genre=%{x}<br>Year=2018<br>Popularity=%{y}<extra></extra>",
           "ids": [
            "Latin/Reggaeton"
           ],
           "legendgroup": "Latin/Reggaeton",
           "marker": {
            "color": "#19d3f3",
            "pattern": {
             "shape": ""
            }
           },
           "name": "Latin/Reggaeton",
           "offsetgroup": "Latin/Reggaeton",
           "orientation": "v",
           "showlegend": true,
           "textposition": "auto",
           "type": "bar",
           "x": [
            "Latin/Reggaeton"
           ],
           "xaxis": "x",
           "y": [
            78
           ],
           "yaxis": "y"
          }
         ],
         "name": "2018"
        },
        {
         "data": [
          {
           "alignmentgroup": "True",
           "hovertemplate": "Genre=%{x}<br>Year=2019<br>Popularity=%{y}<extra></extra>",
           "ids": [
            "EDM"
           ],
           "legendgroup": "EDM",
           "marker": {
            "color": "#636efa",
            "pattern": {
             "shape": ""
            }
           },
           "name": "EDM",
           "offsetgroup": "EDM",
           "orientation": "v",
           "showlegend": true,
           "textposition": "auto",
           "type": "bar",
           "x": [
            "EDM"
           ],
           "xaxis": "x",
           "y": [
            70.55555555555556
           ],
           "yaxis": "y"
          },
          {
           "alignmentgroup": "True",
           "hovertemplate": "Genre=%{x}<br>Year=2019<br>Popularity=%{y}<extra></extra>",
           "ids": [
            "Hip hop/Rap/R&b"
           ],
           "legendgroup": "Hip hop/Rap/R&b",
           "marker": {
            "color": "#EF553B",
            "pattern": {
             "shape": ""
            }
           },
           "name": "Hip hop/Rap/R&b",
           "offsetgroup": "Hip hop/Rap/R&b",
           "orientation": "v",
           "showlegend": true,
           "textposition": "auto",
           "type": "bar",
           "x": [
            "Hip hop/Rap/R&b"
           ],
           "xaxis": "x",
           "y": [
            75.78787878787878
           ],
           "yaxis": "y"
          },
          {
           "alignmentgroup": "True",
           "hovertemplate": "Genre=%{x}<br>Year=2019<br>Popularity=%{y}<extra></extra>",
           "ids": [
            "Other"
           ],
           "legendgroup": "Other",
           "marker": {
            "color": "#00cc96",
            "pattern": {
             "shape": ""
            }
           },
           "name": "Other",
           "offsetgroup": "Other",
           "orientation": "v",
           "showlegend": true,
           "textposition": "auto",
           "type": "bar",
           "x": [
            "Other"
           ],
           "xaxis": "x",
           "y": [
            68.06666666666666
           ],
           "yaxis": "y"
          },
          {
           "alignmentgroup": "True",
           "hovertemplate": "Genre=%{x}<br>Year=2019<br>Popularity=%{y}<extra></extra>",
           "ids": [
            "Pop"
           ],
           "legendgroup": "Pop",
           "marker": {
            "color": "#ab63fa",
            "pattern": {
             "shape": ""
            }
           },
           "name": "Pop",
           "offsetgroup": "Pop",
           "orientation": "v",
           "showlegend": true,
           "textposition": "auto",
           "type": "bar",
           "x": [
            "Pop"
           ],
           "xaxis": "x",
           "y": [
            74.85964912280701
           ],
           "yaxis": "y"
          },
          {
           "alignmentgroup": "True",
           "hovertemplate": "Genre=%{x}<br>Year=2019<br>Popularity=%{y}<extra></extra>",
           "ids": [
            "Rock/Metal"
           ],
           "legendgroup": "Rock/Metal",
           "marker": {
            "color": "#FFA15A",
            "pattern": {
             "shape": ""
            }
           },
           "name": "Rock/Metal",
           "offsetgroup": "Rock/Metal",
           "orientation": "v",
           "showlegend": true,
           "textposition": "auto",
           "type": "bar",
           "x": [
            "Rock/Metal"
           ],
           "xaxis": "x",
           "y": [
            37.5
           ],
           "yaxis": "y"
          },
          {
           "alignmentgroup": "True",
           "hovertemplate": "Genre=%{x}<br>Year=2019<br>Popularity=%{y}<extra></extra>",
           "ids": [
            "Latin/Reggaeton"
           ],
           "legendgroup": "Latin/Reggaeton",
           "marker": {
            "color": "#19d3f3",
            "pattern": {
             "shape": ""
            }
           },
           "name": "Latin/Reggaeton",
           "offsetgroup": "Latin/Reggaeton",
           "orientation": "v",
           "showlegend": true,
           "textposition": "auto",
           "type": "bar",
           "x": [
            "Latin/Reggaeton"
           ],
           "xaxis": "x",
           "y": [
            77
           ],
           "yaxis": "y"
          }
         ],
         "name": "2019"
        },
        {
         "data": [
          {
           "alignmentgroup": "True",
           "hovertemplate": "Genre=%{x}<br>Year=2020<br>Popularity=%{y}<extra></extra>",
           "ids": [
            "EDM"
           ],
           "legendgroup": "EDM",
           "marker": {
            "color": "#636efa",
            "pattern": {
             "shape": ""
            }
           },
           "name": "EDM",
           "offsetgroup": "EDM",
           "orientation": "v",
           "showlegend": true,
           "textposition": "auto",
           "type": "bar",
           "x": [
            "EDM"
           ],
           "xaxis": "x",
           "y": [
            67
           ],
           "yaxis": "y"
          },
          {
           "alignmentgroup": "True",
           "hovertemplate": "Genre=%{x}<br>Year=2020<br>Popularity=%{y}<extra></extra>",
           "ids": [
            "Hip hop/Rap/R&b"
           ],
           "legendgroup": "Hip hop/Rap/R&b",
           "marker": {
            "color": "#EF553B",
            "pattern": {
             "shape": ""
            }
           },
           "name": "Hip hop/Rap/R&b",
           "offsetgroup": "Hip hop/Rap/R&b",
           "orientation": "v",
           "showlegend": true,
           "textposition": "auto",
           "type": "bar",
           "x": [
            "Hip hop/Rap/R&b"
           ],
           "xaxis": "x",
           "y": [
            74.4
           ],
           "yaxis": "y"
          },
          {
           "alignmentgroup": "True",
           "hovertemplate": "Genre=%{x}<br>Year=2020<br>Popularity=%{y}<extra></extra>",
           "ids": [
            "Other"
           ],
           "legendgroup": "Other",
           "marker": {
            "color": "#00cc96",
            "pattern": {
             "shape": ""
            }
           },
           "name": "Other",
           "offsetgroup": "Other",
           "orientation": "v",
           "showlegend": true,
           "textposition": "auto",
           "type": "bar",
           "x": [
            "Other"
           ],
           "xaxis": "x",
           "y": [
            64.61538461538461
           ],
           "yaxis": "y"
          },
          {
           "alignmentgroup": "True",
           "hovertemplate": "Genre=%{x}<br>Year=2020<br>Popularity=%{y}<extra></extra>",
           "ids": [
            "Pop"
           ],
           "legendgroup": "Pop",
           "marker": {
            "color": "#ab63fa",
            "pattern": {
             "shape": ""
            }
           },
           "name": "Pop",
           "offsetgroup": "Pop",
           "orientation": "v",
           "showlegend": true,
           "textposition": "auto",
           "type": "bar",
           "x": [
            "Pop"
           ],
           "xaxis": "x",
           "y": [
            75.77083333333333
           ],
           "yaxis": "y"
          },
          {
           "alignmentgroup": "True",
           "hovertemplate": "Genre=%{x}<br>Year=2020<br>Popularity=%{y}<extra></extra>",
           "ids": [
            "Rock/Metal"
           ],
           "legendgroup": "Rock/Metal",
           "marker": {
            "color": "#FFA15A",
            "pattern": {
             "shape": ""
            }
           },
           "name": "Rock/Metal",
           "offsetgroup": "Rock/Metal",
           "orientation": "v",
           "showlegend": true,
           "textposition": "auto",
           "type": "bar",
           "x": [
            "Rock/Metal"
           ],
           "xaxis": "x",
           "y": [
            59
           ],
           "yaxis": "y"
          },
          {
           "alignmentgroup": "True",
           "hovertemplate": "Genre=%{x}<br>Year=2020<br>Popularity=%{y}<extra></extra>",
           "ids": [
            "Latin/Reggaeton"
           ],
           "legendgroup": "Latin/Reggaeton",
           "marker": {
            "color": "#19d3f3",
            "pattern": {
             "shape": ""
            }
           },
           "name": "Latin/Reggaeton",
           "offsetgroup": "Latin/Reggaeton",
           "orientation": "v",
           "showlegend": true,
           "textposition": "auto",
           "type": "bar",
           "x": [
            "Latin/Reggaeton"
           ],
           "xaxis": "x",
           "y": [
            78.2
           ],
           "yaxis": "y"
          }
         ],
         "name": "2020"
        },
        {
         "data": [
          {
           "alignmentgroup": "True",
           "hovertemplate": "Genre=%{x}<br>Year=2021<br>Popularity=%{y}<extra></extra>",
           "ids": [
            "EDM"
           ],
           "legendgroup": "EDM",
           "marker": {
            "color": "#636efa",
            "pattern": {
             "shape": ""
            }
           },
           "name": "EDM",
           "offsetgroup": "EDM",
           "orientation": "v",
           "showlegend": true,
           "textposition": "auto",
           "type": "bar",
           "x": [
            "EDM"
           ],
           "xaxis": "x",
           "y": [
            70.75
           ],
           "yaxis": "y"
          },
          {
           "alignmentgroup": "True",
           "hovertemplate": "Genre=%{x}<br>Year=2021<br>Popularity=%{y}<extra></extra>",
           "ids": [
            "Hip hop/Rap/R&b"
           ],
           "legendgroup": "Hip hop/Rap/R&b",
           "marker": {
            "color": "#EF553B",
            "pattern": {
             "shape": ""
            }
           },
           "name": "Hip hop/Rap/R&b",
           "offsetgroup": "Hip hop/Rap/R&b",
           "orientation": "v",
           "showlegend": true,
           "textposition": "auto",
           "type": "bar",
           "x": [
            "Hip hop/Rap/R&b"
           ],
           "xaxis": "x",
           "y": [
            77.91304347826087
           ],
           "yaxis": "y"
          },
          {
           "alignmentgroup": "True",
           "hovertemplate": "Genre=%{x}<br>Year=2021<br>Popularity=%{y}<extra></extra>",
           "ids": [
            "Other"
           ],
           "legendgroup": "Other",
           "marker": {
            "color": "#00cc96",
            "pattern": {
             "shape": ""
            }
           },
           "name": "Other",
           "offsetgroup": "Other",
           "orientation": "v",
           "showlegend": true,
           "textposition": "auto",
           "type": "bar",
           "x": [
            "Other"
           ],
           "xaxis": "x",
           "y": [
            78.3076923076923
           ],
           "yaxis": "y"
          },
          {
           "alignmentgroup": "True",
           "hovertemplate": "Genre=%{x}<br>Year=2021<br>Popularity=%{y}<extra></extra>",
           "ids": [
            "Pop"
           ],
           "legendgroup": "Pop",
           "marker": {
            "color": "#ab63fa",
            "pattern": {
             "shape": ""
            }
           },
           "name": "Pop",
           "offsetgroup": "Pop",
           "orientation": "v",
           "showlegend": true,
           "textposition": "auto",
           "type": "bar",
           "x": [
            "Pop"
           ],
           "xaxis": "x",
           "y": [
            76.84210526315789
           ],
           "yaxis": "y"
          },
          {
           "alignmentgroup": "True",
           "hovertemplate": "Genre=%{x}<br>Year=2021<br>Popularity=%{y}<extra></extra>",
           "ids": [
            "Rock/Metal"
           ],
           "legendgroup": "Rock/Metal",
           "marker": {
            "color": "#FFA15A",
            "pattern": {
             "shape": ""
            }
           },
           "name": "Rock/Metal",
           "offsetgroup": "Rock/Metal",
           "orientation": "v",
           "showlegend": true,
           "textposition": "auto",
           "type": "bar",
           "x": [
            "Rock/Metal"
           ],
           "xaxis": "x",
           "y": [
            83.75
           ],
           "yaxis": "y"
          },
          {
           "alignmentgroup": "True",
           "hovertemplate": "Genre=%{x}<br>Year=2021<br>Popularity=%{y}<extra></extra>",
           "ids": [
            "Latin/Reggaeton"
           ],
           "legendgroup": "Latin/Reggaeton",
           "marker": {
            "color": "#19d3f3",
            "pattern": {
             "shape": ""
            }
           },
           "name": "Latin/Reggaeton",
           "offsetgroup": "Latin/Reggaeton",
           "orientation": "v",
           "showlegend": true,
           "textposition": "auto",
           "type": "bar",
           "x": [
            "Latin/Reggaeton"
           ],
           "xaxis": "x",
           "y": [
            84.5
           ],
           "yaxis": "y"
          }
         ],
         "name": "2021"
        },
        {
         "data": [
          {
           "alignmentgroup": "True",
           "hovertemplate": "Genre=%{x}<br>Year=2022<br>Popularity=%{y}<extra></extra>",
           "ids": [
            "EDM"
           ],
           "legendgroup": "EDM",
           "marker": {
            "color": "#636efa",
            "pattern": {
             "shape": ""
            }
           },
           "name": "EDM",
           "offsetgroup": "EDM",
           "orientation": "v",
           "showlegend": true,
           "textposition": "auto",
           "type": "bar",
           "x": [
            "EDM"
           ],
           "xaxis": "x",
           "y": [
            64.75
           ],
           "yaxis": "y"
          },
          {
           "alignmentgroup": "True",
           "hovertemplate": "Genre=%{x}<br>Year=2022<br>Popularity=%{y}<extra></extra>",
           "ids": [
            "Hip hop/Rap/R&b"
           ],
           "legendgroup": "Hip hop/Rap/R&b",
           "marker": {
            "color": "#EF553B",
            "pattern": {
             "shape": ""
            }
           },
           "name": "Hip hop/Rap/R&b",
           "offsetgroup": "Hip hop/Rap/R&b",
           "orientation": "v",
           "showlegend": true,
           "textposition": "auto",
           "type": "bar",
           "x": [
            "Hip hop/Rap/R&b"
           ],
           "xaxis": "x",
           "y": [
            84.125
           ],
           "yaxis": "y"
          },
          {
           "alignmentgroup": "True",
           "hovertemplate": "Genre=%{x}<br>Year=2022<br>Popularity=%{y}<extra></extra>",
           "ids": [
            "Other"
           ],
           "legendgroup": "Other",
           "marker": {
            "color": "#00cc96",
            "pattern": {
             "shape": ""
            }
           },
           "name": "Other",
           "offsetgroup": "Other",
           "orientation": "v",
           "showlegend": true,
           "textposition": "auto",
           "type": "bar",
           "x": [
            "Other"
           ],
           "xaxis": "x",
           "y": [
            64
           ],
           "yaxis": "y"
          },
          {
           "alignmentgroup": "True",
           "hovertemplate": "Genre=%{x}<br>Year=2022<br>Popularity=%{y}<extra></extra>",
           "ids": [
            "Pop"
           ],
           "legendgroup": "Pop",
           "marker": {
            "color": "#ab63fa",
            "pattern": {
             "shape": ""
            }
           },
           "name": "Pop",
           "offsetgroup": "Pop",
           "orientation": "v",
           "showlegend": true,
           "textposition": "auto",
           "type": "bar",
           "x": [
            "Pop"
           ],
           "xaxis": "x",
           "y": [
            78.28
           ],
           "yaxis": "y"
          },
          {
           "alignmentgroup": "True",
           "hovertemplate": "Genre=%{x}<br>Year=2022<br>Popularity=%{y}<extra></extra>",
           "ids": [
            "Rock/Metal"
           ],
           "legendgroup": "Rock/Metal",
           "marker": {
            "color": "#FFA15A",
            "pattern": {
             "shape": ""
            }
           },
           "name": "Rock/Metal",
           "offsetgroup": "Rock/Metal",
           "orientation": "v",
           "showlegend": true,
           "textposition": "auto",
           "type": "bar",
           "x": [
            "Rock/Metal"
           ],
           "xaxis": "x",
           "y": [
            61
           ],
           "yaxis": "y"
          },
          {
           "alignmentgroup": "True",
           "hovertemplate": "Genre=%{x}<br>Year=2022<br>Popularity=%{y}<extra></extra>",
           "ids": [
            "Latin/Reggaeton"
           ],
           "legendgroup": "Latin/Reggaeton",
           "marker": {
            "color": "#19d3f3",
            "pattern": {
             "shape": ""
            }
           },
           "name": "Latin/Reggaeton",
           "offsetgroup": "Latin/Reggaeton",
           "orientation": "v",
           "showlegend": true,
           "textposition": "auto",
           "type": "bar",
           "x": [
            "Latin/Reggaeton"
           ],
           "xaxis": "x",
           "y": [
            87.875
           ],
           "yaxis": "y"
          }
         ],
         "name": "2022"
        },
        {
         "data": [
          {
           "alignmentgroup": "True",
           "hovertemplate": "Genre=%{x}<br>Year=2023<br>Popularity=%{y}<extra></extra>",
           "ids": [
            "EDM"
           ],
           "legendgroup": "EDM",
           "marker": {
            "color": "#636efa",
            "pattern": {
             "shape": ""
            }
           },
           "name": "EDM",
           "offsetgroup": "EDM",
           "orientation": "v",
           "showlegend": true,
           "textposition": "auto",
           "type": "bar",
           "x": [
            "EDM"
           ],
           "xaxis": "x",
           "y": [
            19.5
           ],
           "yaxis": "y"
          },
          {
           "alignmentgroup": "True",
           "hovertemplate": "Genre=%{x}<br>Year=2023<br>Popularity=%{y}<extra></extra>",
           "ids": [
            "Hip hop/Rap/R&b"
           ],
           "legendgroup": "Hip hop/Rap/R&b",
           "marker": {
            "color": "#EF553B",
            "pattern": {
             "shape": ""
            }
           },
           "name": "Hip hop/Rap/R&b",
           "offsetgroup": "Hip hop/Rap/R&b",
           "orientation": "v",
           "showlegend": true,
           "textposition": "auto",
           "type": "bar",
           "x": [
            "Hip hop/Rap/R&b"
           ],
           "xaxis": "x",
           "y": [
            66.11111111111111
           ],
           "yaxis": "y"
          },
          {
           "alignmentgroup": "True",
           "hovertemplate": "Genre=%{x}<br>Year=2023<br>Popularity=%{y}<extra></extra>",
           "ids": [
            "Other"
           ],
           "legendgroup": "Other",
           "marker": {
            "color": "#00cc96",
            "pattern": {
             "shape": ""
            }
           },
           "name": "Other",
           "offsetgroup": "Other",
           "orientation": "v",
           "showlegend": true,
           "textposition": "auto",
           "type": "bar",
           "x": [
            "Other"
           ],
           "xaxis": "x",
           "y": [
            63.4
           ],
           "yaxis": "y"
          },
          {
           "alignmentgroup": "True",
           "hovertemplate": "Genre=%{x}<br>Year=2023<br>Popularity=%{y}<extra></extra>",
           "ids": [
            "Pop"
           ],
           "legendgroup": "Pop",
           "marker": {
            "color": "#ab63fa",
            "pattern": {
             "shape": ""
            }
           },
           "name": "Pop",
           "offsetgroup": "Pop",
           "orientation": "v",
           "showlegend": true,
           "textposition": "auto",
           "type": "bar",
           "x": [
            "Pop"
           ],
           "xaxis": "x",
           "y": [
            53.8
           ],
           "yaxis": "y"
          },
          {
           "alignmentgroup": "True",
           "hovertemplate": "Genre=%{x}<br>Year=2023<br>Popularity=%{y}<extra></extra>",
           "ids": [
            "Rock/Metal"
           ],
           "legendgroup": "Rock/Metal",
           "marker": {
            "color": "#FFA15A",
            "pattern": {
             "shape": ""
            }
           },
           "name": "Rock/Metal",
           "offsetgroup": "Rock/Metal",
           "orientation": "v",
           "showlegend": true,
           "textposition": "auto",
           "type": "bar",
           "x": [
            "Rock/Metal"
           ],
           "xaxis": "x",
           "y": [
            34.5
           ],
           "yaxis": "y"
          },
          {
           "alignmentgroup": "True",
           "hovertemplate": "Genre=%{x}<br>Year=2023<br>Popularity=%{y}<extra></extra>",
           "ids": [
            "Latin/Reggaeton"
           ],
           "legendgroup": "Latin/Reggaeton",
           "marker": {
            "color": "#19d3f3",
            "pattern": {
             "shape": ""
            }
           },
           "name": "Latin/Reggaeton",
           "offsetgroup": "Latin/Reggaeton",
           "orientation": "v",
           "showlegend": true,
           "textposition": "auto",
           "type": "bar",
           "x": [
            "Latin/Reggaeton"
           ],
           "xaxis": "x",
           "y": [
            96
           ],
           "yaxis": "y"
          }
         ],
         "name": "2023"
        }
       ],
       "layout": {
        "barmode": "relative",
        "legend": {
         "title": {
          "text": "Genre"
         },
         "tracegroupgap": 0
        },
        "margin": {
         "t": 60
        },
        "sliders": [
         {
          "active": 0,
          "currentvalue": {
           "prefix": "Year="
          },
          "len": 0.9,
          "pad": {
           "b": 10,
           "t": 60
          },
          "steps": [
           {
            "args": [
             [
              "2001"
             ],
             {
              "frame": {
               "duration": 0,
               "redraw": true
              },
              "fromcurrent": true,
              "mode": "immediate",
              "transition": {
               "duration": 0,
               "easing": "linear"
              }
             }
            ],
            "label": "2001",
            "method": "animate"
           },
           {
            "args": [
             [
              "2002"
             ],
             {
              "frame": {
               "duration": 0,
               "redraw": true
              },
              "fromcurrent": true,
              "mode": "immediate",
              "transition": {
               "duration": 0,
               "easing": "linear"
              }
             }
            ],
            "label": "2002",
            "method": "animate"
           },
           {
            "args": [
             [
              "2003"
             ],
             {
              "frame": {
               "duration": 0,
               "redraw": true
              },
              "fromcurrent": true,
              "mode": "immediate",
              "transition": {
               "duration": 0,
               "easing": "linear"
              }
             }
            ],
            "label": "2003",
            "method": "animate"
           },
           {
            "args": [
             [
              "2004"
             ],
             {
              "frame": {
               "duration": 0,
               "redraw": true
              },
              "fromcurrent": true,
              "mode": "immediate",
              "transition": {
               "duration": 0,
               "easing": "linear"
              }
             }
            ],
            "label": "2004",
            "method": "animate"
           },
           {
            "args": [
             [
              "2005"
             ],
             {
              "frame": {
               "duration": 0,
               "redraw": true
              },
              "fromcurrent": true,
              "mode": "immediate",
              "transition": {
               "duration": 0,
               "easing": "linear"
              }
             }
            ],
            "label": "2005",
            "method": "animate"
           },
           {
            "args": [
             [
              "2006"
             ],
             {
              "frame": {
               "duration": 0,
               "redraw": true
              },
              "fromcurrent": true,
              "mode": "immediate",
              "transition": {
               "duration": 0,
               "easing": "linear"
              }
             }
            ],
            "label": "2006",
            "method": "animate"
           },
           {
            "args": [
             [
              "2007"
             ],
             {
              "frame": {
               "duration": 0,
               "redraw": true
              },
              "fromcurrent": true,
              "mode": "immediate",
              "transition": {
               "duration": 0,
               "easing": "linear"
              }
             }
            ],
            "label": "2007",
            "method": "animate"
           },
           {
            "args": [
             [
              "2008"
             ],
             {
              "frame": {
               "duration": 0,
               "redraw": true
              },
              "fromcurrent": true,
              "mode": "immediate",
              "transition": {
               "duration": 0,
               "easing": "linear"
              }
             }
            ],
            "label": "2008",
            "method": "animate"
           },
           {
            "args": [
             [
              "2009"
             ],
             {
              "frame": {
               "duration": 0,
               "redraw": true
              },
              "fromcurrent": true,
              "mode": "immediate",
              "transition": {
               "duration": 0,
               "easing": "linear"
              }
             }
            ],
            "label": "2009",
            "method": "animate"
           },
           {
            "args": [
             [
              "2010"
             ],
             {
              "frame": {
               "duration": 0,
               "redraw": true
              },
              "fromcurrent": true,
              "mode": "immediate",
              "transition": {
               "duration": 0,
               "easing": "linear"
              }
             }
            ],
            "label": "2010",
            "method": "animate"
           },
           {
            "args": [
             [
              "2011"
             ],
             {
              "frame": {
               "duration": 0,
               "redraw": true
              },
              "fromcurrent": true,
              "mode": "immediate",
              "transition": {
               "duration": 0,
               "easing": "linear"
              }
             }
            ],
            "label": "2011",
            "method": "animate"
           },
           {
            "args": [
             [
              "2012"
             ],
             {
              "frame": {
               "duration": 0,
               "redraw": true
              },
              "fromcurrent": true,
              "mode": "immediate",
              "transition": {
               "duration": 0,
               "easing": "linear"
              }
             }
            ],
            "label": "2012",
            "method": "animate"
           },
           {
            "args": [
             [
              "2013"
             ],
             {
              "frame": {
               "duration": 0,
               "redraw": true
              },
              "fromcurrent": true,
              "mode": "immediate",
              "transition": {
               "duration": 0,
               "easing": "linear"
              }
             }
            ],
            "label": "2013",
            "method": "animate"
           },
           {
            "args": [
             [
              "2014"
             ],
             {
              "frame": {
               "duration": 0,
               "redraw": true
              },
              "fromcurrent": true,
              "mode": "immediate",
              "transition": {
               "duration": 0,
               "easing": "linear"
              }
             }
            ],
            "label": "2014",
            "method": "animate"
           },
           {
            "args": [
             [
              "2015"
             ],
             {
              "frame": {
               "duration": 0,
               "redraw": true
              },
              "fromcurrent": true,
              "mode": "immediate",
              "transition": {
               "duration": 0,
               "easing": "linear"
              }
             }
            ],
            "label": "2015",
            "method": "animate"
           },
           {
            "args": [
             [
              "2016"
             ],
             {
              "frame": {
               "duration": 0,
               "redraw": true
              },
              "fromcurrent": true,
              "mode": "immediate",
              "transition": {
               "duration": 0,
               "easing": "linear"
              }
             }
            ],
            "label": "2016",
            "method": "animate"
           },
           {
            "args": [
             [
              "2017"
             ],
             {
              "frame": {
               "duration": 0,
               "redraw": true
              },
              "fromcurrent": true,
              "mode": "immediate",
              "transition": {
               "duration": 0,
               "easing": "linear"
              }
             }
            ],
            "label": "2017",
            "method": "animate"
           },
           {
            "args": [
             [
              "2018"
             ],
             {
              "frame": {
               "duration": 0,
               "redraw": true
              },
              "fromcurrent": true,
              "mode": "immediate",
              "transition": {
               "duration": 0,
               "easing": "linear"
              }
             }
            ],
            "label": "2018",
            "method": "animate"
           },
           {
            "args": [
             [
              "2019"
             ],
             {
              "frame": {
               "duration": 0,
               "redraw": true
              },
              "fromcurrent": true,
              "mode": "immediate",
              "transition": {
               "duration": 0,
               "easing": "linear"
              }
             }
            ],
            "label": "2019",
            "method": "animate"
           },
           {
            "args": [
             [
              "2020"
             ],
             {
              "frame": {
               "duration": 0,
               "redraw": true
              },
              "fromcurrent": true,
              "mode": "immediate",
              "transition": {
               "duration": 0,
               "easing": "linear"
              }
             }
            ],
            "label": "2020",
            "method": "animate"
           },
           {
            "args": [
             [
              "2021"
             ],
             {
              "frame": {
               "duration": 0,
               "redraw": true
              },
              "fromcurrent": true,
              "mode": "immediate",
              "transition": {
               "duration": 0,
               "easing": "linear"
              }
             }
            ],
            "label": "2021",
            "method": "animate"
           },
           {
            "args": [
             [
              "2022"
             ],
             {
              "frame": {
               "duration": 0,
               "redraw": true
              },
              "fromcurrent": true,
              "mode": "immediate",
              "transition": {
               "duration": 0,
               "easing": "linear"
              }
             }
            ],
            "label": "2022",
            "method": "animate"
           },
           {
            "args": [
             [
              "2023"
             ],
             {
              "frame": {
               "duration": 0,
               "redraw": true
              },
              "fromcurrent": true,
              "mode": "immediate",
              "transition": {
               "duration": 0,
               "easing": "linear"
              }
             }
            ],
            "label": "2023",
            "method": "animate"
           }
          ],
          "x": 0.1,
          "xanchor": "left",
          "y": 0,
          "yanchor": "top"
         }
        ],
        "template": {
         "data": {
          "bar": [
           {
            "error_x": {
             "color": "#2a3f5f"
            },
            "error_y": {
             "color": "#2a3f5f"
            },
            "marker": {
             "line": {
              "color": "#E5ECF6",
              "width": 0.5
             },
             "pattern": {
              "fillmode": "overlay",
              "size": 10,
              "solidity": 0.2
             }
            },
            "type": "bar"
           }
          ],
          "barpolar": [
           {
            "marker": {
             "line": {
              "color": "#E5ECF6",
              "width": 0.5
             },
             "pattern": {
              "fillmode": "overlay",
              "size": 10,
              "solidity": 0.2
             }
            },
            "type": "barpolar"
           }
          ],
          "carpet": [
           {
            "aaxis": {
             "endlinecolor": "#2a3f5f",
             "gridcolor": "white",
             "linecolor": "white",
             "minorgridcolor": "white",
             "startlinecolor": "#2a3f5f"
            },
            "baxis": {
             "endlinecolor": "#2a3f5f",
             "gridcolor": "white",
             "linecolor": "white",
             "minorgridcolor": "white",
             "startlinecolor": "#2a3f5f"
            },
            "type": "carpet"
           }
          ],
          "choropleth": [
           {
            "colorbar": {
             "outlinewidth": 0,
             "ticks": ""
            },
            "type": "choropleth"
           }
          ],
          "contour": [
           {
            "colorbar": {
             "outlinewidth": 0,
             "ticks": ""
            },
            "colorscale": [
             [
              0,
              "#0d0887"
             ],
             [
              0.1111111111111111,
              "#46039f"
             ],
             [
              0.2222222222222222,
              "#7201a8"
             ],
             [
              0.3333333333333333,
              "#9c179e"
             ],
             [
              0.4444444444444444,
              "#bd3786"
             ],
             [
              0.5555555555555556,
              "#d8576b"
             ],
             [
              0.6666666666666666,
              "#ed7953"
             ],
             [
              0.7777777777777778,
              "#fb9f3a"
             ],
             [
              0.8888888888888888,
              "#fdca26"
             ],
             [
              1,
              "#f0f921"
             ]
            ],
            "type": "contour"
           }
          ],
          "contourcarpet": [
           {
            "colorbar": {
             "outlinewidth": 0,
             "ticks": ""
            },
            "type": "contourcarpet"
           }
          ],
          "heatmap": [
           {
            "colorbar": {
             "outlinewidth": 0,
             "ticks": ""
            },
            "colorscale": [
             [
              0,
              "#0d0887"
             ],
             [
              0.1111111111111111,
              "#46039f"
             ],
             [
              0.2222222222222222,
              "#7201a8"
             ],
             [
              0.3333333333333333,
              "#9c179e"
             ],
             [
              0.4444444444444444,
              "#bd3786"
             ],
             [
              0.5555555555555556,
              "#d8576b"
             ],
             [
              0.6666666666666666,
              "#ed7953"
             ],
             [
              0.7777777777777778,
              "#fb9f3a"
             ],
             [
              0.8888888888888888,
              "#fdca26"
             ],
             [
              1,
              "#f0f921"
             ]
            ],
            "type": "heatmap"
           }
          ],
          "heatmapgl": [
           {
            "colorbar": {
             "outlinewidth": 0,
             "ticks": ""
            },
            "colorscale": [
             [
              0,
              "#0d0887"
             ],
             [
              0.1111111111111111,
              "#46039f"
             ],
             [
              0.2222222222222222,
              "#7201a8"
             ],
             [
              0.3333333333333333,
              "#9c179e"
             ],
             [
              0.4444444444444444,
              "#bd3786"
             ],
             [
              0.5555555555555556,
              "#d8576b"
             ],
             [
              0.6666666666666666,
              "#ed7953"
             ],
             [
              0.7777777777777778,
              "#fb9f3a"
             ],
             [
              0.8888888888888888,
              "#fdca26"
             ],
             [
              1,
              "#f0f921"
             ]
            ],
            "type": "heatmapgl"
           }
          ],
          "histogram": [
           {
            "marker": {
             "pattern": {
              "fillmode": "overlay",
              "size": 10,
              "solidity": 0.2
             }
            },
            "type": "histogram"
           }
          ],
          "histogram2d": [
           {
            "colorbar": {
             "outlinewidth": 0,
             "ticks": ""
            },
            "colorscale": [
             [
              0,
              "#0d0887"
             ],
             [
              0.1111111111111111,
              "#46039f"
             ],
             [
              0.2222222222222222,
              "#7201a8"
             ],
             [
              0.3333333333333333,
              "#9c179e"
             ],
             [
              0.4444444444444444,
              "#bd3786"
             ],
             [
              0.5555555555555556,
              "#d8576b"
             ],
             [
              0.6666666666666666,
              "#ed7953"
             ],
             [
              0.7777777777777778,
              "#fb9f3a"
             ],
             [
              0.8888888888888888,
              "#fdca26"
             ],
             [
              1,
              "#f0f921"
             ]
            ],
            "type": "histogram2d"
           }
          ],
          "histogram2dcontour": [
           {
            "colorbar": {
             "outlinewidth": 0,
             "ticks": ""
            },
            "colorscale": [
             [
              0,
              "#0d0887"
             ],
             [
              0.1111111111111111,
              "#46039f"
             ],
             [
              0.2222222222222222,
              "#7201a8"
             ],
             [
              0.3333333333333333,
              "#9c179e"
             ],
             [
              0.4444444444444444,
              "#bd3786"
             ],
             [
              0.5555555555555556,
              "#d8576b"
             ],
             [
              0.6666666666666666,
              "#ed7953"
             ],
             [
              0.7777777777777778,
              "#fb9f3a"
             ],
             [
              0.8888888888888888,
              "#fdca26"
             ],
             [
              1,
              "#f0f921"
             ]
            ],
            "type": "histogram2dcontour"
           }
          ],
          "mesh3d": [
           {
            "colorbar": {
             "outlinewidth": 0,
             "ticks": ""
            },
            "type": "mesh3d"
           }
          ],
          "parcoords": [
           {
            "line": {
             "colorbar": {
              "outlinewidth": 0,
              "ticks": ""
             }
            },
            "type": "parcoords"
           }
          ],
          "pie": [
           {
            "automargin": true,
            "type": "pie"
           }
          ],
          "scatter": [
           {
            "fillpattern": {
             "fillmode": "overlay",
             "size": 10,
             "solidity": 0.2
            },
            "type": "scatter"
           }
          ],
          "scatter3d": [
           {
            "line": {
             "colorbar": {
              "outlinewidth": 0,
              "ticks": ""
             }
            },
            "marker": {
             "colorbar": {
              "outlinewidth": 0,
              "ticks": ""
             }
            },
            "type": "scatter3d"
           }
          ],
          "scattercarpet": [
           {
            "marker": {
             "colorbar": {
              "outlinewidth": 0,
              "ticks": ""
             }
            },
            "type": "scattercarpet"
           }
          ],
          "scattergeo": [
           {
            "marker": {
             "colorbar": {
              "outlinewidth": 0,
              "ticks": ""
             }
            },
            "type": "scattergeo"
           }
          ],
          "scattergl": [
           {
            "marker": {
             "colorbar": {
              "outlinewidth": 0,
              "ticks": ""
             }
            },
            "type": "scattergl"
           }
          ],
          "scattermapbox": [
           {
            "marker": {
             "colorbar": {
              "outlinewidth": 0,
              "ticks": ""
             }
            },
            "type": "scattermapbox"
           }
          ],
          "scatterpolar": [
           {
            "marker": {
             "colorbar": {
              "outlinewidth": 0,
              "ticks": ""
             }
            },
            "type": "scatterpolar"
           }
          ],
          "scatterpolargl": [
           {
            "marker": {
             "colorbar": {
              "outlinewidth": 0,
              "ticks": ""
             }
            },
            "type": "scatterpolargl"
           }
          ],
          "scatterternary": [
           {
            "marker": {
             "colorbar": {
              "outlinewidth": 0,
              "ticks": ""
             }
            },
            "type": "scatterternary"
           }
          ],
          "surface": [
           {
            "colorbar": {
             "outlinewidth": 0,
             "ticks": ""
            },
            "colorscale": [
             [
              0,
              "#0d0887"
             ],
             [
              0.1111111111111111,
              "#46039f"
             ],
             [
              0.2222222222222222,
              "#7201a8"
             ],
             [
              0.3333333333333333,
              "#9c179e"
             ],
             [
              0.4444444444444444,
              "#bd3786"
             ],
             [
              0.5555555555555556,
              "#d8576b"
             ],
             [
              0.6666666666666666,
              "#ed7953"
             ],
             [
              0.7777777777777778,
              "#fb9f3a"
             ],
             [
              0.8888888888888888,
              "#fdca26"
             ],
             [
              1,
              "#f0f921"
             ]
            ],
            "type": "surface"
           }
          ],
          "table": [
           {
            "cells": {
             "fill": {
              "color": "#EBF0F8"
             },
             "line": {
              "color": "white"
             }
            },
            "header": {
             "fill": {
              "color": "#C8D4E3"
             },
             "line": {
              "color": "white"
             }
            },
            "type": "table"
           }
          ]
         },
         "layout": {
          "annotationdefaults": {
           "arrowcolor": "#2a3f5f",
           "arrowhead": 0,
           "arrowwidth": 1
          },
          "autotypenumbers": "strict",
          "coloraxis": {
           "colorbar": {
            "outlinewidth": 0,
            "ticks": ""
           }
          },
          "colorscale": {
           "diverging": [
            [
             0,
             "#8e0152"
            ],
            [
             0.1,
             "#c51b7d"
            ],
            [
             0.2,
             "#de77ae"
            ],
            [
             0.3,
             "#f1b6da"
            ],
            [
             0.4,
             "#fde0ef"
            ],
            [
             0.5,
             "#f7f7f7"
            ],
            [
             0.6,
             "#e6f5d0"
            ],
            [
             0.7,
             "#b8e186"
            ],
            [
             0.8,
             "#7fbc41"
            ],
            [
             0.9,
             "#4d9221"
            ],
            [
             1,
             "#276419"
            ]
           ],
           "sequential": [
            [
             0,
             "#0d0887"
            ],
            [
             0.1111111111111111,
             "#46039f"
            ],
            [
             0.2222222222222222,
             "#7201a8"
            ],
            [
             0.3333333333333333,
             "#9c179e"
            ],
            [
             0.4444444444444444,
             "#bd3786"
            ],
            [
             0.5555555555555556,
             "#d8576b"
            ],
            [
             0.6666666666666666,
             "#ed7953"
            ],
            [
             0.7777777777777778,
             "#fb9f3a"
            ],
            [
             0.8888888888888888,
             "#fdca26"
            ],
            [
             1,
             "#f0f921"
            ]
           ],
           "sequentialminus": [
            [
             0,
             "#0d0887"
            ],
            [
             0.1111111111111111,
             "#46039f"
            ],
            [
             0.2222222222222222,
             "#7201a8"
            ],
            [
             0.3333333333333333,
             "#9c179e"
            ],
            [
             0.4444444444444444,
             "#bd3786"
            ],
            [
             0.5555555555555556,
             "#d8576b"
            ],
            [
             0.6666666666666666,
             "#ed7953"
            ],
            [
             0.7777777777777778,
             "#fb9f3a"
            ],
            [
             0.8888888888888888,
             "#fdca26"
            ],
            [
             1,
             "#f0f921"
            ]
           ]
          },
          "colorway": [
           "#636efa",
           "#EF553B",
           "#00cc96",
           "#ab63fa",
           "#FFA15A",
           "#19d3f3",
           "#FF6692",
           "#B6E880",
           "#FF97FF",
           "#FECB52"
          ],
          "font": {
           "color": "#2a3f5f"
          },
          "geo": {
           "bgcolor": "white",
           "lakecolor": "white",
           "landcolor": "#E5ECF6",
           "showlakes": true,
           "showland": true,
           "subunitcolor": "white"
          },
          "hoverlabel": {
           "align": "left"
          },
          "hovermode": "closest",
          "mapbox": {
           "style": "light"
          },
          "paper_bgcolor": "white",
          "plot_bgcolor": "#E5ECF6",
          "polar": {
           "angularaxis": {
            "gridcolor": "white",
            "linecolor": "white",
            "ticks": ""
           },
           "bgcolor": "#E5ECF6",
           "radialaxis": {
            "gridcolor": "white",
            "linecolor": "white",
            "ticks": ""
           }
          },
          "scene": {
           "xaxis": {
            "backgroundcolor": "#E5ECF6",
            "gridcolor": "white",
            "gridwidth": 2,
            "linecolor": "white",
            "showbackground": true,
            "ticks": "",
            "zerolinecolor": "white"
           },
           "yaxis": {
            "backgroundcolor": "#E5ECF6",
            "gridcolor": "white",
            "gridwidth": 2,
            "linecolor": "white",
            "showbackground": true,
            "ticks": "",
            "zerolinecolor": "white"
           },
           "zaxis": {
            "backgroundcolor": "#E5ECF6",
            "gridcolor": "white",
            "gridwidth": 2,
            "linecolor": "white",
            "showbackground": true,
            "ticks": "",
            "zerolinecolor": "white"
           }
          },
          "shapedefaults": {
           "line": {
            "color": "#2a3f5f"
           }
          },
          "ternary": {
           "aaxis": {
            "gridcolor": "white",
            "linecolor": "white",
            "ticks": ""
           },
           "baxis": {
            "gridcolor": "white",
            "linecolor": "white",
            "ticks": ""
           },
           "bgcolor": "#E5ECF6",
           "caxis": {
            "gridcolor": "white",
            "linecolor": "white",
            "ticks": ""
           }
          },
          "title": {
           "x": 0.05
          },
          "xaxis": {
           "automargin": true,
           "gridcolor": "white",
           "linecolor": "white",
           "ticks": "",
           "title": {
            "standoff": 15
           },
           "zerolinecolor": "white",
           "zerolinewidth": 2
          },
          "yaxis": {
           "automargin": true,
           "gridcolor": "white",
           "linecolor": "white",
           "ticks": "",
           "title": {
            "standoff": 15
           },
           "zerolinecolor": "white",
           "zerolinewidth": 2
          }
         }
        },
        "updatemenus": [
         {
          "buttons": [
           {
            "args": [
             null,
             {
              "frame": {
               "duration": 500,
               "redraw": true
              },
              "fromcurrent": true,
              "mode": "immediate",
              "transition": {
               "duration": 500,
               "easing": "linear"
              }
             }
            ],
            "label": "&#9654;",
            "method": "animate"
           },
           {
            "args": [
             [
              null
             ],
             {
              "frame": {
               "duration": 0,
               "redraw": true
              },
              "fromcurrent": true,
              "mode": "immediate",
              "transition": {
               "duration": 0,
               "easing": "linear"
              }
             }
            ],
            "label": "&#9724;",
            "method": "animate"
           }
          ],
          "direction": "left",
          "pad": {
           "r": 10,
           "t": 70
          },
          "showactive": false,
          "type": "buttons",
          "x": 0.1,
          "xanchor": "right",
          "y": 0,
          "yanchor": "top"
         }
        ],
        "xaxis": {
         "anchor": "y",
         "categoryarray": [
          "EDM",
          "Hip hop/Rap/R&b",
          "Other",
          "Pop",
          "Rock/Metal",
          "Latin/Reggaeton"
         ],
         "categoryorder": "array",
         "domain": [
          0,
          1
         ],
         "title": {
          "text": "Genre"
         }
        },
        "yaxis": {
         "anchor": "x",
         "domain": [
          0,
          1
         ],
         "title": {
          "text": "Popularity"
         }
        }
       }
      },
      "text/html": [
       "<div>                            <div id=\"d9d3e244-178c-4b00-842e-d30845f3a7e3\" class=\"plotly-graph-div\" style=\"height:525px; width:100%;\"></div>            <script type=\"text/javascript\">                require([\"plotly\"], function(Plotly) {                    window.PLOTLYENV=window.PLOTLYENV || {};                                    if (document.getElementById(\"d9d3e244-178c-4b00-842e-d30845f3a7e3\")) {                    Plotly.newPlot(                        \"d9d3e244-178c-4b00-842e-d30845f3a7e3\",                        [{\"alignmentgroup\":\"True\",\"hovertemplate\":\"Genre=%{x}<br>Year=2001<br>Popularity=%{y}<extra></extra>\",\"ids\":[\"EDM\"],\"legendgroup\":\"EDM\",\"marker\":{\"color\":\"#636efa\",\"pattern\":{\"shape\":\"\"}},\"name\":\"EDM\",\"offsetgroup\":\"EDM\",\"orientation\":\"v\",\"showlegend\":true,\"textposition\":\"auto\",\"x\":[\"EDM\"],\"xaxis\":\"x\",\"y\":[71.5],\"yaxis\":\"y\",\"type\":\"bar\"},{\"alignmentgroup\":\"True\",\"hovertemplate\":\"Genre=%{x}<br>Year=2001<br>Popularity=%{y}<extra></extra>\",\"ids\":[\"Hip hop/Rap/R&b\"],\"legendgroup\":\"Hip hop/Rap/R&b\",\"marker\":{\"color\":\"#EF553B\",\"pattern\":{\"shape\":\"\"}},\"name\":\"Hip hop/Rap/R&b\",\"offsetgroup\":\"Hip hop/Rap/R&b\",\"orientation\":\"v\",\"showlegend\":true,\"textposition\":\"auto\",\"x\":[\"Hip hop/Rap/R&b\"],\"xaxis\":\"x\",\"y\":[65.88],\"yaxis\":\"y\",\"type\":\"bar\"},{\"alignmentgroup\":\"True\",\"hovertemplate\":\"Genre=%{x}<br>Year=2001<br>Popularity=%{y}<extra></extra>\",\"ids\":[\"Other\"],\"legendgroup\":\"Other\",\"marker\":{\"color\":\"#00cc96\",\"pattern\":{\"shape\":\"\"}},\"name\":\"Other\",\"offsetgroup\":\"Other\",\"orientation\":\"v\",\"showlegend\":true,\"textposition\":\"auto\",\"x\":[\"Other\"],\"xaxis\":\"x\",\"y\":[62.30434782608695],\"yaxis\":\"y\",\"type\":\"bar\"},{\"alignmentgroup\":\"True\",\"hovertemplate\":\"Genre=%{x}<br>Year=2001<br>Popularity=%{y}<extra></extra>\",\"ids\":[\"Pop\"],\"legendgroup\":\"Pop\",\"marker\":{\"color\":\"#ab63fa\",\"pattern\":{\"shape\":\"\"}},\"name\":\"Pop\",\"offsetgroup\":\"Pop\",\"orientation\":\"v\",\"showlegend\":true,\"textposition\":\"auto\",\"x\":[\"Pop\"],\"xaxis\":\"x\",\"y\":[63.58695652173913],\"yaxis\":\"y\",\"type\":\"bar\"},{\"alignmentgroup\":\"True\",\"hovertemplate\":\"Genre=%{x}<br>Year=2001<br>Popularity=%{y}<extra></extra>\",\"ids\":[\"Rock/Metal\"],\"legendgroup\":\"Rock/Metal\",\"marker\":{\"color\":\"#FFA15A\",\"pattern\":{\"shape\":\"\"}},\"name\":\"Rock/Metal\",\"offsetgroup\":\"Rock/Metal\",\"orientation\":\"v\",\"showlegend\":true,\"textposition\":\"auto\",\"x\":[\"Rock/Metal\"],\"xaxis\":\"x\",\"y\":[72.13333333333334],\"yaxis\":\"y\",\"type\":\"bar\"}],                        {\"template\":{\"data\":{\"histogram2dcontour\":[{\"type\":\"histogram2dcontour\",\"colorbar\":{\"outlinewidth\":0,\"ticks\":\"\"},\"colorscale\":[[0.0,\"#0d0887\"],[0.1111111111111111,\"#46039f\"],[0.2222222222222222,\"#7201a8\"],[0.3333333333333333,\"#9c179e\"],[0.4444444444444444,\"#bd3786\"],[0.5555555555555556,\"#d8576b\"],[0.6666666666666666,\"#ed7953\"],[0.7777777777777778,\"#fb9f3a\"],[0.8888888888888888,\"#fdca26\"],[1.0,\"#f0f921\"]]}],\"choropleth\":[{\"type\":\"choropleth\",\"colorbar\":{\"outlinewidth\":0,\"ticks\":\"\"}}],\"histogram2d\":[{\"type\":\"histogram2d\",\"colorbar\":{\"outlinewidth\":0,\"ticks\":\"\"},\"colorscale\":[[0.0,\"#0d0887\"],[0.1111111111111111,\"#46039f\"],[0.2222222222222222,\"#7201a8\"],[0.3333333333333333,\"#9c179e\"],[0.4444444444444444,\"#bd3786\"],[0.5555555555555556,\"#d8576b\"],[0.6666666666666666,\"#ed7953\"],[0.7777777777777778,\"#fb9f3a\"],[0.8888888888888888,\"#fdca26\"],[1.0,\"#f0f921\"]]}],\"heatmap\":[{\"type\":\"heatmap\",\"colorbar\":{\"outlinewidth\":0,\"ticks\":\"\"},\"colorscale\":[[0.0,\"#0d0887\"],[0.1111111111111111,\"#46039f\"],[0.2222222222222222,\"#7201a8\"],[0.3333333333333333,\"#9c179e\"],[0.4444444444444444,\"#bd3786\"],[0.5555555555555556,\"#d8576b\"],[0.6666666666666666,\"#ed7953\"],[0.7777777777777778,\"#fb9f3a\"],[0.8888888888888888,\"#fdca26\"],[1.0,\"#f0f921\"]]}],\"heatmapgl\":[{\"type\":\"heatmapgl\",\"colorbar\":{\"outlinewidth\":0,\"ticks\":\"\"},\"colorscale\":[[0.0,\"#0d0887\"],[0.1111111111111111,\"#46039f\"],[0.2222222222222222,\"#7201a8\"],[0.3333333333333333,\"#9c179e\"],[0.4444444444444444,\"#bd3786\"],[0.5555555555555556,\"#d8576b\"],[0.6666666666666666,\"#ed7953\"],[0.7777777777777778,\"#fb9f3a\"],[0.8888888888888888,\"#fdca26\"],[1.0,\"#f0f921\"]]}],\"contourcarpet\":[{\"type\":\"contourcarpet\",\"colorbar\":{\"outlinewidth\":0,\"ticks\":\"\"}}],\"contour\":[{\"type\":\"contour\",\"colorbar\":{\"outlinewidth\":0,\"ticks\":\"\"},\"colorscale\":[[0.0,\"#0d0887\"],[0.1111111111111111,\"#46039f\"],[0.2222222222222222,\"#7201a8\"],[0.3333333333333333,\"#9c179e\"],[0.4444444444444444,\"#bd3786\"],[0.5555555555555556,\"#d8576b\"],[0.6666666666666666,\"#ed7953\"],[0.7777777777777778,\"#fb9f3a\"],[0.8888888888888888,\"#fdca26\"],[1.0,\"#f0f921\"]]}],\"surface\":[{\"type\":\"surface\",\"colorbar\":{\"outlinewidth\":0,\"ticks\":\"\"},\"colorscale\":[[0.0,\"#0d0887\"],[0.1111111111111111,\"#46039f\"],[0.2222222222222222,\"#7201a8\"],[0.3333333333333333,\"#9c179e\"],[0.4444444444444444,\"#bd3786\"],[0.5555555555555556,\"#d8576b\"],[0.6666666666666666,\"#ed7953\"],[0.7777777777777778,\"#fb9f3a\"],[0.8888888888888888,\"#fdca26\"],[1.0,\"#f0f921\"]]}],\"mesh3d\":[{\"type\":\"mesh3d\",\"colorbar\":{\"outlinewidth\":0,\"ticks\":\"\"}}],\"scatter\":[{\"fillpattern\":{\"fillmode\":\"overlay\",\"size\":10,\"solidity\":0.2},\"type\":\"scatter\"}],\"parcoords\":[{\"type\":\"parcoords\",\"line\":{\"colorbar\":{\"outlinewidth\":0,\"ticks\":\"\"}}}],\"scatterpolargl\":[{\"type\":\"scatterpolargl\",\"marker\":{\"colorbar\":{\"outlinewidth\":0,\"ticks\":\"\"}}}],\"bar\":[{\"error_x\":{\"color\":\"#2a3f5f\"},\"error_y\":{\"color\":\"#2a3f5f\"},\"marker\":{\"line\":{\"color\":\"#E5ECF6\",\"width\":0.5},\"pattern\":{\"fillmode\":\"overlay\",\"size\":10,\"solidity\":0.2}},\"type\":\"bar\"}],\"scattergeo\":[{\"type\":\"scattergeo\",\"marker\":{\"colorbar\":{\"outlinewidth\":0,\"ticks\":\"\"}}}],\"scatterpolar\":[{\"type\":\"scatterpolar\",\"marker\":{\"colorbar\":{\"outlinewidth\":0,\"ticks\":\"\"}}}],\"histogram\":[{\"marker\":{\"pattern\":{\"fillmode\":\"overlay\",\"size\":10,\"solidity\":0.2}},\"type\":\"histogram\"}],\"scattergl\":[{\"type\":\"scattergl\",\"marker\":{\"colorbar\":{\"outlinewidth\":0,\"ticks\":\"\"}}}],\"scatter3d\":[{\"type\":\"scatter3d\",\"line\":{\"colorbar\":{\"outlinewidth\":0,\"ticks\":\"\"}},\"marker\":{\"colorbar\":{\"outlinewidth\":0,\"ticks\":\"\"}}}],\"scattermapbox\":[{\"type\":\"scattermapbox\",\"marker\":{\"colorbar\":{\"outlinewidth\":0,\"ticks\":\"\"}}}],\"scatterternary\":[{\"type\":\"scatterternary\",\"marker\":{\"colorbar\":{\"outlinewidth\":0,\"ticks\":\"\"}}}],\"scattercarpet\":[{\"type\":\"scattercarpet\",\"marker\":{\"colorbar\":{\"outlinewidth\":0,\"ticks\":\"\"}}}],\"carpet\":[{\"aaxis\":{\"endlinecolor\":\"#2a3f5f\",\"gridcolor\":\"white\",\"linecolor\":\"white\",\"minorgridcolor\":\"white\",\"startlinecolor\":\"#2a3f5f\"},\"baxis\":{\"endlinecolor\":\"#2a3f5f\",\"gridcolor\":\"white\",\"linecolor\":\"white\",\"minorgridcolor\":\"white\",\"startlinecolor\":\"#2a3f5f\"},\"type\":\"carpet\"}],\"table\":[{\"cells\":{\"fill\":{\"color\":\"#EBF0F8\"},\"line\":{\"color\":\"white\"}},\"header\":{\"fill\":{\"color\":\"#C8D4E3\"},\"line\":{\"color\":\"white\"}},\"type\":\"table\"}],\"barpolar\":[{\"marker\":{\"line\":{\"color\":\"#E5ECF6\",\"width\":0.5},\"pattern\":{\"fillmode\":\"overlay\",\"size\":10,\"solidity\":0.2}},\"type\":\"barpolar\"}],\"pie\":[{\"automargin\":true,\"type\":\"pie\"}]},\"layout\":{\"autotypenumbers\":\"strict\",\"colorway\":[\"#636efa\",\"#EF553B\",\"#00cc96\",\"#ab63fa\",\"#FFA15A\",\"#19d3f3\",\"#FF6692\",\"#B6E880\",\"#FF97FF\",\"#FECB52\"],\"font\":{\"color\":\"#2a3f5f\"},\"hovermode\":\"closest\",\"hoverlabel\":{\"align\":\"left\"},\"paper_bgcolor\":\"white\",\"plot_bgcolor\":\"#E5ECF6\",\"polar\":{\"bgcolor\":\"#E5ECF6\",\"angularaxis\":{\"gridcolor\":\"white\",\"linecolor\":\"white\",\"ticks\":\"\"},\"radialaxis\":{\"gridcolor\":\"white\",\"linecolor\":\"white\",\"ticks\":\"\"}},\"ternary\":{\"bgcolor\":\"#E5ECF6\",\"aaxis\":{\"gridcolor\":\"white\",\"linecolor\":\"white\",\"ticks\":\"\"},\"baxis\":{\"gridcolor\":\"white\",\"linecolor\":\"white\",\"ticks\":\"\"},\"caxis\":{\"gridcolor\":\"white\",\"linecolor\":\"white\",\"ticks\":\"\"}},\"coloraxis\":{\"colorbar\":{\"outlinewidth\":0,\"ticks\":\"\"}},\"colorscale\":{\"sequential\":[[0.0,\"#0d0887\"],[0.1111111111111111,\"#46039f\"],[0.2222222222222222,\"#7201a8\"],[0.3333333333333333,\"#9c179e\"],[0.4444444444444444,\"#bd3786\"],[0.5555555555555556,\"#d8576b\"],[0.6666666666666666,\"#ed7953\"],[0.7777777777777778,\"#fb9f3a\"],[0.8888888888888888,\"#fdca26\"],[1.0,\"#f0f921\"]],\"sequentialminus\":[[0.0,\"#0d0887\"],[0.1111111111111111,\"#46039f\"],[0.2222222222222222,\"#7201a8\"],[0.3333333333333333,\"#9c179e\"],[0.4444444444444444,\"#bd3786\"],[0.5555555555555556,\"#d8576b\"],[0.6666666666666666,\"#ed7953\"],[0.7777777777777778,\"#fb9f3a\"],[0.8888888888888888,\"#fdca26\"],[1.0,\"#f0f921\"]],\"diverging\":[[0,\"#8e0152\"],[0.1,\"#c51b7d\"],[0.2,\"#de77ae\"],[0.3,\"#f1b6da\"],[0.4,\"#fde0ef\"],[0.5,\"#f7f7f7\"],[0.6,\"#e6f5d0\"],[0.7,\"#b8e186\"],[0.8,\"#7fbc41\"],[0.9,\"#4d9221\"],[1,\"#276419\"]]},\"xaxis\":{\"gridcolor\":\"white\",\"linecolor\":\"white\",\"ticks\":\"\",\"title\":{\"standoff\":15},\"zerolinecolor\":\"white\",\"automargin\":true,\"zerolinewidth\":2},\"yaxis\":{\"gridcolor\":\"white\",\"linecolor\":\"white\",\"ticks\":\"\",\"title\":{\"standoff\":15},\"zerolinecolor\":\"white\",\"automargin\":true,\"zerolinewidth\":2},\"scene\":{\"xaxis\":{\"backgroundcolor\":\"#E5ECF6\",\"gridcolor\":\"white\",\"linecolor\":\"white\",\"showbackground\":true,\"ticks\":\"\",\"zerolinecolor\":\"white\",\"gridwidth\":2},\"yaxis\":{\"backgroundcolor\":\"#E5ECF6\",\"gridcolor\":\"white\",\"linecolor\":\"white\",\"showbackground\":true,\"ticks\":\"\",\"zerolinecolor\":\"white\",\"gridwidth\":2},\"zaxis\":{\"backgroundcolor\":\"#E5ECF6\",\"gridcolor\":\"white\",\"linecolor\":\"white\",\"showbackground\":true,\"ticks\":\"\",\"zerolinecolor\":\"white\",\"gridwidth\":2}},\"shapedefaults\":{\"line\":{\"color\":\"#2a3f5f\"}},\"annotationdefaults\":{\"arrowcolor\":\"#2a3f5f\",\"arrowhead\":0,\"arrowwidth\":1},\"geo\":{\"bgcolor\":\"white\",\"landcolor\":\"#E5ECF6\",\"subunitcolor\":\"white\",\"showland\":true,\"showlakes\":true,\"lakecolor\":\"white\"},\"title\":{\"x\":0.05},\"mapbox\":{\"style\":\"light\"}}},\"xaxis\":{\"anchor\":\"y\",\"domain\":[0.0,1.0],\"title\":{\"text\":\"Genre\"},\"categoryorder\":\"array\",\"categoryarray\":[\"EDM\",\"Hip hop/Rap/R&b\",\"Other\",\"Pop\",\"Rock/Metal\",\"Latin/Reggaeton\"]},\"yaxis\":{\"anchor\":\"x\",\"domain\":[0.0,1.0],\"title\":{\"text\":\"Popularity\"}},\"legend\":{\"title\":{\"text\":\"Genre\"},\"tracegroupgap\":0},\"margin\":{\"t\":60},\"barmode\":\"relative\",\"updatemenus\":[{\"buttons\":[{\"args\":[null,{\"frame\":{\"duration\":500,\"redraw\":true},\"mode\":\"immediate\",\"fromcurrent\":true,\"transition\":{\"duration\":500,\"easing\":\"linear\"}}],\"label\":\"&#9654;\",\"method\":\"animate\"},{\"args\":[[null],{\"frame\":{\"duration\":0,\"redraw\":true},\"mode\":\"immediate\",\"fromcurrent\":true,\"transition\":{\"duration\":0,\"easing\":\"linear\"}}],\"label\":\"&#9724;\",\"method\":\"animate\"}],\"direction\":\"left\",\"pad\":{\"r\":10,\"t\":70},\"showactive\":false,\"type\":\"buttons\",\"x\":0.1,\"xanchor\":\"right\",\"y\":0,\"yanchor\":\"top\"}],\"sliders\":[{\"active\":0,\"currentvalue\":{\"prefix\":\"Year=\"},\"len\":0.9,\"pad\":{\"b\":10,\"t\":60},\"steps\":[{\"args\":[[\"2001\"],{\"frame\":{\"duration\":0,\"redraw\":true},\"mode\":\"immediate\",\"fromcurrent\":true,\"transition\":{\"duration\":0,\"easing\":\"linear\"}}],\"label\":\"2001\",\"method\":\"animate\"},{\"args\":[[\"2002\"],{\"frame\":{\"duration\":0,\"redraw\":true},\"mode\":\"immediate\",\"fromcurrent\":true,\"transition\":{\"duration\":0,\"easing\":\"linear\"}}],\"label\":\"2002\",\"method\":\"animate\"},{\"args\":[[\"2003\"],{\"frame\":{\"duration\":0,\"redraw\":true},\"mode\":\"immediate\",\"fromcurrent\":true,\"transition\":{\"duration\":0,\"easing\":\"linear\"}}],\"label\":\"2003\",\"method\":\"animate\"},{\"args\":[[\"2004\"],{\"frame\":{\"duration\":0,\"redraw\":true},\"mode\":\"immediate\",\"fromcurrent\":true,\"transition\":{\"duration\":0,\"easing\":\"linear\"}}],\"label\":\"2004\",\"method\":\"animate\"},{\"args\":[[\"2005\"],{\"frame\":{\"duration\":0,\"redraw\":true},\"mode\":\"immediate\",\"fromcurrent\":true,\"transition\":{\"duration\":0,\"easing\":\"linear\"}}],\"label\":\"2005\",\"method\":\"animate\"},{\"args\":[[\"2006\"],{\"frame\":{\"duration\":0,\"redraw\":true},\"mode\":\"immediate\",\"fromcurrent\":true,\"transition\":{\"duration\":0,\"easing\":\"linear\"}}],\"label\":\"2006\",\"method\":\"animate\"},{\"args\":[[\"2007\"],{\"frame\":{\"duration\":0,\"redraw\":true},\"mode\":\"immediate\",\"fromcurrent\":true,\"transition\":{\"duration\":0,\"easing\":\"linear\"}}],\"label\":\"2007\",\"method\":\"animate\"},{\"args\":[[\"2008\"],{\"frame\":{\"duration\":0,\"redraw\":true},\"mode\":\"immediate\",\"fromcurrent\":true,\"transition\":{\"duration\":0,\"easing\":\"linear\"}}],\"label\":\"2008\",\"method\":\"animate\"},{\"args\":[[\"2009\"],{\"frame\":{\"duration\":0,\"redraw\":true},\"mode\":\"immediate\",\"fromcurrent\":true,\"transition\":{\"duration\":0,\"easing\":\"linear\"}}],\"label\":\"2009\",\"method\":\"animate\"},{\"args\":[[\"2010\"],{\"frame\":{\"duration\":0,\"redraw\":true},\"mode\":\"immediate\",\"fromcurrent\":true,\"transition\":{\"duration\":0,\"easing\":\"linear\"}}],\"label\":\"2010\",\"method\":\"animate\"},{\"args\":[[\"2011\"],{\"frame\":{\"duration\":0,\"redraw\":true},\"mode\":\"immediate\",\"fromcurrent\":true,\"transition\":{\"duration\":0,\"easing\":\"linear\"}}],\"label\":\"2011\",\"method\":\"animate\"},{\"args\":[[\"2012\"],{\"frame\":{\"duration\":0,\"redraw\":true},\"mode\":\"immediate\",\"fromcurrent\":true,\"transition\":{\"duration\":0,\"easing\":\"linear\"}}],\"label\":\"2012\",\"method\":\"animate\"},{\"args\":[[\"2013\"],{\"frame\":{\"duration\":0,\"redraw\":true},\"mode\":\"immediate\",\"fromcurrent\":true,\"transition\":{\"duration\":0,\"easing\":\"linear\"}}],\"label\":\"2013\",\"method\":\"animate\"},{\"args\":[[\"2014\"],{\"frame\":{\"duration\":0,\"redraw\":true},\"mode\":\"immediate\",\"fromcurrent\":true,\"transition\":{\"duration\":0,\"easing\":\"linear\"}}],\"label\":\"2014\",\"method\":\"animate\"},{\"args\":[[\"2015\"],{\"frame\":{\"duration\":0,\"redraw\":true},\"mode\":\"immediate\",\"fromcurrent\":true,\"transition\":{\"duration\":0,\"easing\":\"linear\"}}],\"label\":\"2015\",\"method\":\"animate\"},{\"args\":[[\"2016\"],{\"frame\":{\"duration\":0,\"redraw\":true},\"mode\":\"immediate\",\"fromcurrent\":true,\"transition\":{\"duration\":0,\"easing\":\"linear\"}}],\"label\":\"2016\",\"method\":\"animate\"},{\"args\":[[\"2017\"],{\"frame\":{\"duration\":0,\"redraw\":true},\"mode\":\"immediate\",\"fromcurrent\":true,\"transition\":{\"duration\":0,\"easing\":\"linear\"}}],\"label\":\"2017\",\"method\":\"animate\"},{\"args\":[[\"2018\"],{\"frame\":{\"duration\":0,\"redraw\":true},\"mode\":\"immediate\",\"fromcurrent\":true,\"transition\":{\"duration\":0,\"easing\":\"linear\"}}],\"label\":\"2018\",\"method\":\"animate\"},{\"args\":[[\"2019\"],{\"frame\":{\"duration\":0,\"redraw\":true},\"mode\":\"immediate\",\"fromcurrent\":true,\"transition\":{\"duration\":0,\"easing\":\"linear\"}}],\"label\":\"2019\",\"method\":\"animate\"},{\"args\":[[\"2020\"],{\"frame\":{\"duration\":0,\"redraw\":true},\"mode\":\"immediate\",\"fromcurrent\":true,\"transition\":{\"duration\":0,\"easing\":\"linear\"}}],\"label\":\"2020\",\"method\":\"animate\"},{\"args\":[[\"2021\"],{\"frame\":{\"duration\":0,\"redraw\":true},\"mode\":\"immediate\",\"fromcurrent\":true,\"transition\":{\"duration\":0,\"easing\":\"linear\"}}],\"label\":\"2021\",\"method\":\"animate\"},{\"args\":[[\"2022\"],{\"frame\":{\"duration\":0,\"redraw\":true},\"mode\":\"immediate\",\"fromcurrent\":true,\"transition\":{\"duration\":0,\"easing\":\"linear\"}}],\"label\":\"2022\",\"method\":\"animate\"},{\"args\":[[\"2023\"],{\"frame\":{\"duration\":0,\"redraw\":true},\"mode\":\"immediate\",\"fromcurrent\":true,\"transition\":{\"duration\":0,\"easing\":\"linear\"}}],\"label\":\"2023\",\"method\":\"animate\"}],\"x\":0.1,\"xanchor\":\"left\",\"y\":0,\"yanchor\":\"top\"}]},                        {\"responsive\": true}                    ).then(function(){\n",
       "                            Plotly.addFrames('d9d3e244-178c-4b00-842e-d30845f3a7e3', [{\"data\":[{\"alignmentgroup\":\"True\",\"hovertemplate\":\"Genre=%{x}<br>Year=2001<br>Popularity=%{y}<extra></extra>\",\"ids\":[\"EDM\"],\"legendgroup\":\"EDM\",\"marker\":{\"color\":\"#636efa\",\"pattern\":{\"shape\":\"\"}},\"name\":\"EDM\",\"offsetgroup\":\"EDM\",\"orientation\":\"v\",\"showlegend\":true,\"textposition\":\"auto\",\"x\":[\"EDM\"],\"xaxis\":\"x\",\"y\":[71.5],\"yaxis\":\"y\",\"type\":\"bar\"},{\"alignmentgroup\":\"True\",\"hovertemplate\":\"Genre=%{x}<br>Year=2001<br>Popularity=%{y}<extra></extra>\",\"ids\":[\"Hip hop/Rap/R&b\"],\"legendgroup\":\"Hip hop/Rap/R&b\",\"marker\":{\"color\":\"#EF553B\",\"pattern\":{\"shape\":\"\"}},\"name\":\"Hip hop/Rap/R&b\",\"offsetgroup\":\"Hip hop/Rap/R&b\",\"orientation\":\"v\",\"showlegend\":true,\"textposition\":\"auto\",\"x\":[\"Hip hop/Rap/R&b\"],\"xaxis\":\"x\",\"y\":[65.88],\"yaxis\":\"y\",\"type\":\"bar\"},{\"alignmentgroup\":\"True\",\"hovertemplate\":\"Genre=%{x}<br>Year=2001<br>Popularity=%{y}<extra></extra>\",\"ids\":[\"Other\"],\"legendgroup\":\"Other\",\"marker\":{\"color\":\"#00cc96\",\"pattern\":{\"shape\":\"\"}},\"name\":\"Other\",\"offsetgroup\":\"Other\",\"orientation\":\"v\",\"showlegend\":true,\"textposition\":\"auto\",\"x\":[\"Other\"],\"xaxis\":\"x\",\"y\":[62.30434782608695],\"yaxis\":\"y\",\"type\":\"bar\"},{\"alignmentgroup\":\"True\",\"hovertemplate\":\"Genre=%{x}<br>Year=2001<br>Popularity=%{y}<extra></extra>\",\"ids\":[\"Pop\"],\"legendgroup\":\"Pop\",\"marker\":{\"color\":\"#ab63fa\",\"pattern\":{\"shape\":\"\"}},\"name\":\"Pop\",\"offsetgroup\":\"Pop\",\"orientation\":\"v\",\"showlegend\":true,\"textposition\":\"auto\",\"x\":[\"Pop\"],\"xaxis\":\"x\",\"y\":[63.58695652173913],\"yaxis\":\"y\",\"type\":\"bar\"},{\"alignmentgroup\":\"True\",\"hovertemplate\":\"Genre=%{x}<br>Year=2001<br>Popularity=%{y}<extra></extra>\",\"ids\":[\"Rock/Metal\"],\"legendgroup\":\"Rock/Metal\",\"marker\":{\"color\":\"#FFA15A\",\"pattern\":{\"shape\":\"\"}},\"name\":\"Rock/Metal\",\"offsetgroup\":\"Rock/Metal\",\"orientation\":\"v\",\"showlegend\":true,\"textposition\":\"auto\",\"x\":[\"Rock/Metal\"],\"xaxis\":\"x\",\"y\":[72.13333333333334],\"yaxis\":\"y\",\"type\":\"bar\"}],\"name\":\"2001\"},{\"data\":[{\"alignmentgroup\":\"True\",\"hovertemplate\":\"Genre=%{x}<br>Year=2002<br>Popularity=%{y}<extra></extra>\",\"ids\":[\"Hip hop/Rap/R&b\"],\"legendgroup\":\"Hip hop/Rap/R&b\",\"marker\":{\"color\":\"#EF553B\",\"pattern\":{\"shape\":\"\"}},\"name\":\"Hip hop/Rap/R&b\",\"offsetgroup\":\"Hip hop/Rap/R&b\",\"orientation\":\"v\",\"showlegend\":true,\"textposition\":\"auto\",\"x\":[\"Hip hop/Rap/R&b\"],\"xaxis\":\"x\",\"y\":[62.42307692307692],\"yaxis\":\"y\",\"type\":\"bar\"},{\"alignmentgroup\":\"True\",\"hovertemplate\":\"Genre=%{x}<br>Year=2002<br>Popularity=%{y}<extra></extra>\",\"ids\":[\"Other\"],\"legendgroup\":\"Other\",\"marker\":{\"color\":\"#00cc96\",\"pattern\":{\"shape\":\"\"}},\"name\":\"Other\",\"offsetgroup\":\"Other\",\"orientation\":\"v\",\"showlegend\":true,\"textposition\":\"auto\",\"x\":[\"Other\"],\"xaxis\":\"x\",\"y\":[64.625],\"yaxis\":\"y\",\"type\":\"bar\"},{\"alignmentgroup\":\"True\",\"hovertemplate\":\"Genre=%{x}<br>Year=2002<br>Popularity=%{y}<extra></extra>\",\"ids\":[\"Pop\"],\"legendgroup\":\"Pop\",\"marker\":{\"color\":\"#ab63fa\",\"pattern\":{\"shape\":\"\"}},\"name\":\"Pop\",\"offsetgroup\":\"Pop\",\"orientation\":\"v\",\"showlegend\":true,\"textposition\":\"auto\",\"x\":[\"Pop\"],\"xaxis\":\"x\",\"y\":[69.0],\"yaxis\":\"y\",\"type\":\"bar\"},{\"alignmentgroup\":\"True\",\"hovertemplate\":\"Genre=%{x}<br>Year=2002<br>Popularity=%{y}<extra></extra>\",\"ids\":[\"Rock/Metal\"],\"legendgroup\":\"Rock/Metal\",\"marker\":{\"color\":\"#FFA15A\",\"pattern\":{\"shape\":\"\"}},\"name\":\"Rock/Metal\",\"offsetgroup\":\"Rock/Metal\",\"orientation\":\"v\",\"showlegend\":true,\"textposition\":\"auto\",\"x\":[\"Rock/Metal\"],\"xaxis\":\"x\",\"y\":[73.11111111111111],\"yaxis\":\"y\",\"type\":\"bar\"}],\"name\":\"2002\"},{\"data\":[{\"alignmentgroup\":\"True\",\"hovertemplate\":\"Genre=%{x}<br>Year=2003<br>Popularity=%{y}<extra></extra>\",\"ids\":[\"EDM\"],\"legendgroup\":\"EDM\",\"marker\":{\"color\":\"#636efa\",\"pattern\":{\"shape\":\"\"}},\"name\":\"EDM\",\"offsetgroup\":\"EDM\",\"orientation\":\"v\",\"showlegend\":true,\"textposition\":\"auto\",\"x\":[\"EDM\"],\"xaxis\":\"x\",\"y\":[63.333333333333336],\"yaxis\":\"y\",\"type\":\"bar\"},{\"alignmentgroup\":\"True\",\"hovertemplate\":\"Genre=%{x}<br>Year=2003<br>Popularity=%{y}<extra></extra>\",\"ids\":[\"Hip hop/Rap/R&b\"],\"legendgroup\":\"Hip hop/Rap/R&b\",\"marker\":{\"color\":\"#EF553B\",\"pattern\":{\"shape\":\"\"}},\"name\":\"Hip hop/Rap/R&b\",\"offsetgroup\":\"Hip hop/Rap/R&b\",\"orientation\":\"v\",\"showlegend\":true,\"textposition\":\"auto\",\"x\":[\"Hip hop/Rap/R&b\"],\"xaxis\":\"x\",\"y\":[66.0],\"yaxis\":\"y\",\"type\":\"bar\"},{\"alignmentgroup\":\"True\",\"hovertemplate\":\"Genre=%{x}<br>Year=2003<br>Popularity=%{y}<extra></extra>\",\"ids\":[\"Other\"],\"legendgroup\":\"Other\",\"marker\":{\"color\":\"#00cc96\",\"pattern\":{\"shape\":\"\"}},\"name\":\"Other\",\"offsetgroup\":\"Other\",\"orientation\":\"v\",\"showlegend\":true,\"textposition\":\"auto\",\"x\":[\"Other\"],\"xaxis\":\"x\",\"y\":[64.55555555555556],\"yaxis\":\"y\",\"type\":\"bar\"},{\"alignmentgroup\":\"True\",\"hovertemplate\":\"Genre=%{x}<br>Year=2003<br>Popularity=%{y}<extra></extra>\",\"ids\":[\"Pop\"],\"legendgroup\":\"Pop\",\"marker\":{\"color\":\"#ab63fa\",\"pattern\":{\"shape\":\"\"}},\"name\":\"Pop\",\"offsetgroup\":\"Pop\",\"orientation\":\"v\",\"showlegend\":true,\"textposition\":\"auto\",\"x\":[\"Pop\"],\"xaxis\":\"x\",\"y\":[64.42307692307692],\"yaxis\":\"y\",\"type\":\"bar\"},{\"alignmentgroup\":\"True\",\"hovertemplate\":\"Genre=%{x}<br>Year=2003<br>Popularity=%{y}<extra></extra>\",\"ids\":[\"Rock/Metal\"],\"legendgroup\":\"Rock/Metal\",\"marker\":{\"color\":\"#FFA15A\",\"pattern\":{\"shape\":\"\"}},\"name\":\"Rock/Metal\",\"offsetgroup\":\"Rock/Metal\",\"orientation\":\"v\",\"showlegend\":true,\"textposition\":\"auto\",\"x\":[\"Rock/Metal\"],\"xaxis\":\"x\",\"y\":[77.4],\"yaxis\":\"y\",\"type\":\"bar\"}],\"name\":\"2003\"},{\"data\":[{\"alignmentgroup\":\"True\",\"hovertemplate\":\"Genre=%{x}<br>Year=2004<br>Popularity=%{y}<extra></extra>\",\"ids\":[\"EDM\"],\"legendgroup\":\"EDM\",\"marker\":{\"color\":\"#636efa\",\"pattern\":{\"shape\":\"\"}},\"name\":\"EDM\",\"offsetgroup\":\"EDM\",\"orientation\":\"v\",\"showlegend\":true,\"textposition\":\"auto\",\"x\":[\"EDM\"],\"xaxis\":\"x\",\"y\":[69.0],\"yaxis\":\"y\",\"type\":\"bar\"},{\"alignmentgroup\":\"True\",\"hovertemplate\":\"Genre=%{x}<br>Year=2004<br>Popularity=%{y}<extra></extra>\",\"ids\":[\"Hip hop/Rap/R&b\"],\"legendgroup\":\"Hip hop/Rap/R&b\",\"marker\":{\"color\":\"#EF553B\",\"pattern\":{\"shape\":\"\"}},\"name\":\"Hip hop/Rap/R&b\",\"offsetgroup\":\"Hip hop/Rap/R&b\",\"orientation\":\"v\",\"showlegend\":true,\"textposition\":\"auto\",\"x\":[\"Hip hop/Rap/R&b\"],\"xaxis\":\"x\",\"y\":[68.57575757575758],\"yaxis\":\"y\",\"type\":\"bar\"},{\"alignmentgroup\":\"True\",\"hovertemplate\":\"Genre=%{x}<br>Year=2004<br>Popularity=%{y}<extra></extra>\",\"ids\":[\"Other\"],\"legendgroup\":\"Other\",\"marker\":{\"color\":\"#00cc96\",\"pattern\":{\"shape\":\"\"}},\"name\":\"Other\",\"offsetgroup\":\"Other\",\"orientation\":\"v\",\"showlegend\":true,\"textposition\":\"auto\",\"x\":[\"Other\"],\"xaxis\":\"x\",\"y\":[63.75],\"yaxis\":\"y\",\"type\":\"bar\"},{\"alignmentgroup\":\"True\",\"hovertemplate\":\"Genre=%{x}<br>Year=2004<br>Popularity=%{y}<extra></extra>\",\"ids\":[\"Pop\"],\"legendgroup\":\"Pop\",\"marker\":{\"color\":\"#ab63fa\",\"pattern\":{\"shape\":\"\"}},\"name\":\"Pop\",\"offsetgroup\":\"Pop\",\"orientation\":\"v\",\"showlegend\":true,\"textposition\":\"auto\",\"x\":[\"Pop\"],\"xaxis\":\"x\",\"y\":[64.48387096774194],\"yaxis\":\"y\",\"type\":\"bar\"},{\"alignmentgroup\":\"True\",\"hovertemplate\":\"Genre=%{x}<br>Year=2004<br>Popularity=%{y}<extra></extra>\",\"ids\":[\"Rock/Metal\"],\"legendgroup\":\"Rock/Metal\",\"marker\":{\"color\":\"#FFA15A\",\"pattern\":{\"shape\":\"\"}},\"name\":\"Rock/Metal\",\"offsetgroup\":\"Rock/Metal\",\"orientation\":\"v\",\"showlegend\":true,\"textposition\":\"auto\",\"x\":[\"Rock/Metal\"],\"xaxis\":\"x\",\"y\":[74.28571428571429],\"yaxis\":\"y\",\"type\":\"bar\"}],\"name\":\"2004\"},{\"data\":[{\"alignmentgroup\":\"True\",\"hovertemplate\":\"Genre=%{x}<br>Year=2005<br>Popularity=%{y}<extra></extra>\",\"ids\":[\"EDM\"],\"legendgroup\":\"EDM\",\"marker\":{\"color\":\"#636efa\",\"pattern\":{\"shape\":\"\"}},\"name\":\"EDM\",\"offsetgroup\":\"EDM\",\"orientation\":\"v\",\"showlegend\":true,\"textposition\":\"auto\",\"x\":[\"EDM\"],\"xaxis\":\"x\",\"y\":[53.0],\"yaxis\":\"y\",\"type\":\"bar\"},{\"alignmentgroup\":\"True\",\"hovertemplate\":\"Genre=%{x}<br>Year=2005<br>Popularity=%{y}<extra></extra>\",\"ids\":[\"Hip hop/Rap/R&b\"],\"legendgroup\":\"Hip hop/Rap/R&b\",\"marker\":{\"color\":\"#EF553B\",\"pattern\":{\"shape\":\"\"}},\"name\":\"Hip hop/Rap/R&b\",\"offsetgroup\":\"Hip hop/Rap/R&b\",\"orientation\":\"v\",\"showlegend\":true,\"textposition\":\"auto\",\"x\":[\"Hip hop/Rap/R&b\"],\"xaxis\":\"x\",\"y\":[68.38709677419355],\"yaxis\":\"y\",\"type\":\"bar\"},{\"alignmentgroup\":\"True\",\"hovertemplate\":\"Genre=%{x}<br>Year=2005<br>Popularity=%{y}<extra></extra>\",\"ids\":[\"Other\"],\"legendgroup\":\"Other\",\"marker\":{\"color\":\"#00cc96\",\"pattern\":{\"shape\":\"\"}},\"name\":\"Other\",\"offsetgroup\":\"Other\",\"orientation\":\"v\",\"showlegend\":true,\"textposition\":\"auto\",\"x\":[\"Other\"],\"xaxis\":\"x\",\"y\":[70.65217391304348],\"yaxis\":\"y\",\"type\":\"bar\"},{\"alignmentgroup\":\"True\",\"hovertemplate\":\"Genre=%{x}<br>Year=2005<br>Popularity=%{y}<extra></extra>\",\"ids\":[\"Pop\"],\"legendgroup\":\"Pop\",\"marker\":{\"color\":\"#ab63fa\",\"pattern\":{\"shape\":\"\"}},\"name\":\"Pop\",\"offsetgroup\":\"Pop\",\"orientation\":\"v\",\"showlegend\":true,\"textposition\":\"auto\",\"x\":[\"Pop\"],\"xaxis\":\"x\",\"y\":[68.04878048780488],\"yaxis\":\"y\",\"type\":\"bar\"},{\"alignmentgroup\":\"True\",\"hovertemplate\":\"Genre=%{x}<br>Year=2005<br>Popularity=%{y}<extra></extra>\",\"ids\":[\"Rock/Metal\"],\"legendgroup\":\"Rock/Metal\",\"marker\":{\"color\":\"#FFA15A\",\"pattern\":{\"shape\":\"\"}},\"name\":\"Rock/Metal\",\"offsetgroup\":\"Rock/Metal\",\"orientation\":\"v\",\"showlegend\":true,\"textposition\":\"auto\",\"x\":[\"Rock/Metal\"],\"xaxis\":\"x\",\"y\":[71.64285714285714],\"yaxis\":\"y\",\"type\":\"bar\"}],\"name\":\"2005\"},{\"data\":[{\"alignmentgroup\":\"True\",\"hovertemplate\":\"Genre=%{x}<br>Year=2006<br>Popularity=%{y}<extra></extra>\",\"ids\":[\"EDM\"],\"legendgroup\":\"EDM\",\"marker\":{\"color\":\"#636efa\",\"pattern\":{\"shape\":\"\"}},\"name\":\"EDM\",\"offsetgroup\":\"EDM\",\"orientation\":\"v\",\"showlegend\":true,\"textposition\":\"auto\",\"x\":[\"EDM\"],\"xaxis\":\"x\",\"y\":[57.25],\"yaxis\":\"y\",\"type\":\"bar\"},{\"alignmentgroup\":\"True\",\"hovertemplate\":\"Genre=%{x}<br>Year=2006<br>Popularity=%{y}<extra></extra>\",\"ids\":[\"Hip hop/Rap/R&b\"],\"legendgroup\":\"Hip hop/Rap/R&b\",\"marker\":{\"color\":\"#EF553B\",\"pattern\":{\"shape\":\"\"}},\"name\":\"Hip hop/Rap/R&b\",\"offsetgroup\":\"Hip hop/Rap/R&b\",\"orientation\":\"v\",\"showlegend\":true,\"textposition\":\"auto\",\"x\":[\"Hip hop/Rap/R&b\"],\"xaxis\":\"x\",\"y\":[61.1875],\"yaxis\":\"y\",\"type\":\"bar\"},{\"alignmentgroup\":\"True\",\"hovertemplate\":\"Genre=%{x}<br>Year=2006<br>Popularity=%{y}<extra></extra>\",\"ids\":[\"Other\"],\"legendgroup\":\"Other\",\"marker\":{\"color\":\"#00cc96\",\"pattern\":{\"shape\":\"\"}},\"name\":\"Other\",\"offsetgroup\":\"Other\",\"orientation\":\"v\",\"showlegend\":true,\"textposition\":\"auto\",\"x\":[\"Other\"],\"xaxis\":\"x\",\"y\":[67.66666666666667],\"yaxis\":\"y\",\"type\":\"bar\"},{\"alignmentgroup\":\"True\",\"hovertemplate\":\"Genre=%{x}<br>Year=2006<br>Popularity=%{y}<extra></extra>\",\"ids\":[\"Pop\"],\"legendgroup\":\"Pop\",\"marker\":{\"color\":\"#ab63fa\",\"pattern\":{\"shape\":\"\"}},\"name\":\"Pop\",\"offsetgroup\":\"Pop\",\"orientation\":\"v\",\"showlegend\":true,\"textposition\":\"auto\",\"x\":[\"Pop\"],\"xaxis\":\"x\",\"y\":[67.15789473684211],\"yaxis\":\"y\",\"type\":\"bar\"},{\"alignmentgroup\":\"True\",\"hovertemplate\":\"Genre=%{x}<br>Year=2006<br>Popularity=%{y}<extra></extra>\",\"ids\":[\"Rock/Metal\"],\"legendgroup\":\"Rock/Metal\",\"marker\":{\"color\":\"#FFA15A\",\"pattern\":{\"shape\":\"\"}},\"name\":\"Rock/Metal\",\"offsetgroup\":\"Rock/Metal\",\"orientation\":\"v\",\"showlegend\":true,\"textposition\":\"auto\",\"x\":[\"Rock/Metal\"],\"xaxis\":\"x\",\"y\":[75.46153846153847],\"yaxis\":\"y\",\"type\":\"bar\"},{\"alignmentgroup\":\"True\",\"hovertemplate\":\"Genre=%{x}<br>Year=2006<br>Popularity=%{y}<extra></extra>\",\"ids\":[\"Latin/Reggaeton\"],\"legendgroup\":\"Latin/Reggaeton\",\"marker\":{\"color\":\"#19d3f3\",\"pattern\":{\"shape\":\"\"}},\"name\":\"Latin/Reggaeton\",\"offsetgroup\":\"Latin/Reggaeton\",\"orientation\":\"v\",\"showlegend\":true,\"textposition\":\"auto\",\"x\":[\"Latin/Reggaeton\"],\"xaxis\":\"x\",\"y\":[78.75],\"yaxis\":\"y\",\"type\":\"bar\"}],\"name\":\"2006\"},{\"data\":[{\"alignmentgroup\":\"True\",\"hovertemplate\":\"Genre=%{x}<br>Year=2007<br>Popularity=%{y}<extra></extra>\",\"ids\":[\"EDM\"],\"legendgroup\":\"EDM\",\"marker\":{\"color\":\"#636efa\",\"pattern\":{\"shape\":\"\"}},\"name\":\"EDM\",\"offsetgroup\":\"EDM\",\"orientation\":\"v\",\"showlegend\":true,\"textposition\":\"auto\",\"x\":[\"EDM\"],\"xaxis\":\"x\",\"y\":[65.5],\"yaxis\":\"y\",\"type\":\"bar\"},{\"alignmentgroup\":\"True\",\"hovertemplate\":\"Genre=%{x}<br>Year=2007<br>Popularity=%{y}<extra></extra>\",\"ids\":[\"Hip hop/Rap/R&b\"],\"legendgroup\":\"Hip hop/Rap/R&b\",\"marker\":{\"color\":\"#EF553B\",\"pattern\":{\"shape\":\"\"}},\"name\":\"Hip hop/Rap/R&b\",\"offsetgroup\":\"Hip hop/Rap/R&b\",\"orientation\":\"v\",\"showlegend\":true,\"textposition\":\"auto\",\"x\":[\"Hip hop/Rap/R&b\"],\"xaxis\":\"x\",\"y\":[69.15384615384616],\"yaxis\":\"y\",\"type\":\"bar\"},{\"alignmentgroup\":\"True\",\"hovertemplate\":\"Genre=%{x}<br>Year=2007<br>Popularity=%{y}<extra></extra>\",\"ids\":[\"Other\"],\"legendgroup\":\"Other\",\"marker\":{\"color\":\"#00cc96\",\"pattern\":{\"shape\":\"\"}},\"name\":\"Other\",\"offsetgroup\":\"Other\",\"orientation\":\"v\",\"showlegend\":true,\"textposition\":\"auto\",\"x\":[\"Other\"],\"xaxis\":\"x\",\"y\":[69.1875],\"yaxis\":\"y\",\"type\":\"bar\"},{\"alignmentgroup\":\"True\",\"hovertemplate\":\"Genre=%{x}<br>Year=2007<br>Popularity=%{y}<extra></extra>\",\"ids\":[\"Pop\"],\"legendgroup\":\"Pop\",\"marker\":{\"color\":\"#ab63fa\",\"pattern\":{\"shape\":\"\"}},\"name\":\"Pop\",\"offsetgroup\":\"Pop\",\"orientation\":\"v\",\"showlegend\":true,\"textposition\":\"auto\",\"x\":[\"Pop\"],\"xaxis\":\"x\",\"y\":[68.47058823529412],\"yaxis\":\"y\",\"type\":\"bar\"},{\"alignmentgroup\":\"True\",\"hovertemplate\":\"Genre=%{x}<br>Year=2007<br>Popularity=%{y}<extra></extra>\",\"ids\":[\"Rock/Metal\"],\"legendgroup\":\"Rock/Metal\",\"marker\":{\"color\":\"#FFA15A\",\"pattern\":{\"shape\":\"\"}},\"name\":\"Rock/Metal\",\"offsetgroup\":\"Rock/Metal\",\"orientation\":\"v\",\"showlegend\":true,\"textposition\":\"auto\",\"x\":[\"Rock/Metal\"],\"xaxis\":\"x\",\"y\":[73.33333333333333],\"yaxis\":\"y\",\"type\":\"bar\"}],\"name\":\"2007\"},{\"data\":[{\"alignmentgroup\":\"True\",\"hovertemplate\":\"Genre=%{x}<br>Year=2008<br>Popularity=%{y}<extra></extra>\",\"ids\":[\"EDM\"],\"legendgroup\":\"EDM\",\"marker\":{\"color\":\"#636efa\",\"pattern\":{\"shape\":\"\"}},\"name\":\"EDM\",\"offsetgroup\":\"EDM\",\"orientation\":\"v\",\"showlegend\":true,\"textposition\":\"auto\",\"x\":[\"EDM\"],\"xaxis\":\"x\",\"y\":[73.5],\"yaxis\":\"y\",\"type\":\"bar\"},{\"alignmentgroup\":\"True\",\"hovertemplate\":\"Genre=%{x}<br>Year=2008<br>Popularity=%{y}<extra></extra>\",\"ids\":[\"Hip hop/Rap/R&b\"],\"legendgroup\":\"Hip hop/Rap/R&b\",\"marker\":{\"color\":\"#EF553B\",\"pattern\":{\"shape\":\"\"}},\"name\":\"Hip hop/Rap/R&b\",\"offsetgroup\":\"Hip hop/Rap/R&b\",\"orientation\":\"v\",\"showlegend\":true,\"textposition\":\"auto\",\"x\":[\"Hip hop/Rap/R&b\"],\"xaxis\":\"x\",\"y\":[69.55],\"yaxis\":\"y\",\"type\":\"bar\"},{\"alignmentgroup\":\"True\",\"hovertemplate\":\"Genre=%{x}<br>Year=2008<br>Popularity=%{y}<extra></extra>\",\"ids\":[\"Other\"],\"legendgroup\":\"Other\",\"marker\":{\"color\":\"#00cc96\",\"pattern\":{\"shape\":\"\"}},\"name\":\"Other\",\"offsetgroup\":\"Other\",\"orientation\":\"v\",\"showlegend\":true,\"textposition\":\"auto\",\"x\":[\"Other\"],\"xaxis\":\"x\",\"y\":[67.84210526315789],\"yaxis\":\"y\",\"type\":\"bar\"},{\"alignmentgroup\":\"True\",\"hovertemplate\":\"Genre=%{x}<br>Year=2008<br>Popularity=%{y}<extra></extra>\",\"ids\":[\"Pop\"],\"legendgroup\":\"Pop\",\"marker\":{\"color\":\"#ab63fa\",\"pattern\":{\"shape\":\"\"}},\"name\":\"Pop\",\"offsetgroup\":\"Pop\",\"orientation\":\"v\",\"showlegend\":true,\"textposition\":\"auto\",\"x\":[\"Pop\"],\"xaxis\":\"x\",\"y\":[69.10204081632654],\"yaxis\":\"y\",\"type\":\"bar\"},{\"alignmentgroup\":\"True\",\"hovertemplate\":\"Genre=%{x}<br>Year=2008<br>Popularity=%{y}<extra></extra>\",\"ids\":[\"Rock/Metal\"],\"legendgroup\":\"Rock/Metal\",\"marker\":{\"color\":\"#FFA15A\",\"pattern\":{\"shape\":\"\"}},\"name\":\"Rock/Metal\",\"offsetgroup\":\"Rock/Metal\",\"orientation\":\"v\",\"showlegend\":true,\"textposition\":\"auto\",\"x\":[\"Rock/Metal\"],\"xaxis\":\"x\",\"y\":[72.875],\"yaxis\":\"y\",\"type\":\"bar\"}],\"name\":\"2008\"},{\"data\":[{\"alignmentgroup\":\"True\",\"hovertemplate\":\"Genre=%{x}<br>Year=2009<br>Popularity=%{y}<extra></extra>\",\"ids\":[\"EDM\"],\"legendgroup\":\"EDM\",\"marker\":{\"color\":\"#636efa\",\"pattern\":{\"shape\":\"\"}},\"name\":\"EDM\",\"offsetgroup\":\"EDM\",\"orientation\":\"v\",\"showlegend\":true,\"textposition\":\"auto\",\"x\":[\"EDM\"],\"xaxis\":\"x\",\"y\":[58.5],\"yaxis\":\"y\",\"type\":\"bar\"},{\"alignmentgroup\":\"True\",\"hovertemplate\":\"Genre=%{x}<br>Year=2009<br>Popularity=%{y}<extra></extra>\",\"ids\":[\"Hip hop/Rap/R&b\"],\"legendgroup\":\"Hip hop/Rap/R&b\",\"marker\":{\"color\":\"#EF553B\",\"pattern\":{\"shape\":\"\"}},\"name\":\"Hip hop/Rap/R&b\",\"offsetgroup\":\"Hip hop/Rap/R&b\",\"orientation\":\"v\",\"showlegend\":true,\"textposition\":\"auto\",\"x\":[\"Hip hop/Rap/R&b\"],\"xaxis\":\"x\",\"y\":[69.61538461538461],\"yaxis\":\"y\",\"type\":\"bar\"},{\"alignmentgroup\":\"True\",\"hovertemplate\":\"Genre=%{x}<br>Year=2009<br>Popularity=%{y}<extra></extra>\",\"ids\":[\"Other\"],\"legendgroup\":\"Other\",\"marker\":{\"color\":\"#00cc96\",\"pattern\":{\"shape\":\"\"}},\"name\":\"Other\",\"offsetgroup\":\"Other\",\"orientation\":\"v\",\"showlegend\":true,\"textposition\":\"auto\",\"x\":[\"Other\"],\"xaxis\":\"x\",\"y\":[63.63636363636363],\"yaxis\":\"y\",\"type\":\"bar\"},{\"alignmentgroup\":\"True\",\"hovertemplate\":\"Genre=%{x}<br>Year=2009<br>Popularity=%{y}<extra></extra>\",\"ids\":[\"Pop\"],\"legendgroup\":\"Pop\",\"marker\":{\"color\":\"#ab63fa\",\"pattern\":{\"shape\":\"\"}},\"name\":\"Pop\",\"offsetgroup\":\"Pop\",\"orientation\":\"v\",\"showlegend\":true,\"textposition\":\"auto\",\"x\":[\"Pop\"],\"xaxis\":\"x\",\"y\":[68.6875],\"yaxis\":\"y\",\"type\":\"bar\"},{\"alignmentgroup\":\"True\",\"hovertemplate\":\"Genre=%{x}<br>Year=2009<br>Popularity=%{y}<extra></extra>\",\"ids\":[\"Rock/Metal\"],\"legendgroup\":\"Rock/Metal\",\"marker\":{\"color\":\"#FFA15A\",\"pattern\":{\"shape\":\"\"}},\"name\":\"Rock/Metal\",\"offsetgroup\":\"Rock/Metal\",\"orientation\":\"v\",\"showlegend\":true,\"textposition\":\"auto\",\"x\":[\"Rock/Metal\"],\"xaxis\":\"x\",\"y\":[72.66666666666667],\"yaxis\":\"y\",\"type\":\"bar\"}],\"name\":\"2009\"},{\"data\":[{\"alignmentgroup\":\"True\",\"hovertemplate\":\"Genre=%{x}<br>Year=2010<br>Popularity=%{y}<extra></extra>\",\"ids\":[\"EDM\"],\"legendgroup\":\"EDM\",\"marker\":{\"color\":\"#636efa\",\"pattern\":{\"shape\":\"\"}},\"name\":\"EDM\",\"offsetgroup\":\"EDM\",\"orientation\":\"v\",\"showlegend\":true,\"textposition\":\"auto\",\"x\":[\"EDM\"],\"xaxis\":\"x\",\"y\":[58.0],\"yaxis\":\"y\",\"type\":\"bar\"},{\"alignmentgroup\":\"True\",\"hovertemplate\":\"Genre=%{x}<br>Year=2010<br>Popularity=%{y}<extra></extra>\",\"ids\":[\"Hip hop/Rap/R&b\"],\"legendgroup\":\"Hip hop/Rap/R&b\",\"marker\":{\"color\":\"#EF553B\",\"pattern\":{\"shape\":\"\"}},\"name\":\"Hip hop/Rap/R&b\",\"offsetgroup\":\"Hip hop/Rap/R&b\",\"orientation\":\"v\",\"showlegend\":true,\"textposition\":\"auto\",\"x\":[\"Hip hop/Rap/R&b\"],\"xaxis\":\"x\",\"y\":[71.53571428571429],\"yaxis\":\"y\",\"type\":\"bar\"},{\"alignmentgroup\":\"True\",\"hovertemplate\":\"Genre=%{x}<br>Year=2010<br>Popularity=%{y}<extra></extra>\",\"ids\":[\"Other\"],\"legendgroup\":\"Other\",\"marker\":{\"color\":\"#00cc96\",\"pattern\":{\"shape\":\"\"}},\"name\":\"Other\",\"offsetgroup\":\"Other\",\"orientation\":\"v\",\"showlegend\":true,\"textposition\":\"auto\",\"x\":[\"Other\"],\"xaxis\":\"x\",\"y\":[68.125],\"yaxis\":\"y\",\"type\":\"bar\"},{\"alignmentgroup\":\"True\",\"hovertemplate\":\"Genre=%{x}<br>Year=2010<br>Popularity=%{y}<extra></extra>\",\"ids\":[\"Pop\"],\"legendgroup\":\"Pop\",\"marker\":{\"color\":\"#ab63fa\",\"pattern\":{\"shape\":\"\"}},\"name\":\"Pop\",\"offsetgroup\":\"Pop\",\"orientation\":\"v\",\"showlegend\":true,\"textposition\":\"auto\",\"x\":[\"Pop\"],\"xaxis\":\"x\",\"y\":[72.17857142857143],\"yaxis\":\"y\",\"type\":\"bar\"},{\"alignmentgroup\":\"True\",\"hovertemplate\":\"Genre=%{x}<br>Year=2010<br>Popularity=%{y}<extra></extra>\",\"ids\":[\"Rock/Metal\"],\"legendgroup\":\"Rock/Metal\",\"marker\":{\"color\":\"#FFA15A\",\"pattern\":{\"shape\":\"\"}},\"name\":\"Rock/Metal\",\"offsetgroup\":\"Rock/Metal\",\"orientation\":\"v\",\"showlegend\":true,\"textposition\":\"auto\",\"x\":[\"Rock/Metal\"],\"xaxis\":\"x\",\"y\":[68.0],\"yaxis\":\"y\",\"type\":\"bar\"}],\"name\":\"2010\"},{\"data\":[{\"alignmentgroup\":\"True\",\"hovertemplate\":\"Genre=%{x}<br>Year=2011<br>Popularity=%{y}<extra></extra>\",\"ids\":[\"EDM\"],\"legendgroup\":\"EDM\",\"marker\":{\"color\":\"#636efa\",\"pattern\":{\"shape\":\"\"}},\"name\":\"EDM\",\"offsetgroup\":\"EDM\",\"orientation\":\"v\",\"showlegend\":true,\"textposition\":\"auto\",\"x\":[\"EDM\"],\"xaxis\":\"x\",\"y\":[64.2],\"yaxis\":\"y\",\"type\":\"bar\"},{\"alignmentgroup\":\"True\",\"hovertemplate\":\"Genre=%{x}<br>Year=2011<br>Popularity=%{y}<extra></extra>\",\"ids\":[\"Hip hop/Rap/R&b\"],\"legendgroup\":\"Hip hop/Rap/R&b\",\"marker\":{\"color\":\"#EF553B\",\"pattern\":{\"shape\":\"\"}},\"name\":\"Hip hop/Rap/R&b\",\"offsetgroup\":\"Hip hop/Rap/R&b\",\"orientation\":\"v\",\"showlegend\":true,\"textposition\":\"auto\",\"x\":[\"Hip hop/Rap/R&b\"],\"xaxis\":\"x\",\"y\":[69.21052631578948],\"yaxis\":\"y\",\"type\":\"bar\"},{\"alignmentgroup\":\"True\",\"hovertemplate\":\"Genre=%{x}<br>Year=2011<br>Popularity=%{y}<extra></extra>\",\"ids\":[\"Other\"],\"legendgroup\":\"Other\",\"marker\":{\"color\":\"#00cc96\",\"pattern\":{\"shape\":\"\"}},\"name\":\"Other\",\"offsetgroup\":\"Other\",\"orientation\":\"v\",\"showlegend\":true,\"textposition\":\"auto\",\"x\":[\"Other\"],\"xaxis\":\"x\",\"y\":[69.1],\"yaxis\":\"y\",\"type\":\"bar\"},{\"alignmentgroup\":\"True\",\"hovertemplate\":\"Genre=%{x}<br>Year=2011<br>Popularity=%{y}<extra></extra>\",\"ids\":[\"Pop\"],\"legendgroup\":\"Pop\",\"marker\":{\"color\":\"#ab63fa\",\"pattern\":{\"shape\":\"\"}},\"name\":\"Pop\",\"offsetgroup\":\"Pop\",\"orientation\":\"v\",\"showlegend\":true,\"textposition\":\"auto\",\"x\":[\"Pop\"],\"xaxis\":\"x\",\"y\":[72.32558139534883],\"yaxis\":\"y\",\"type\":\"bar\"},{\"alignmentgroup\":\"True\",\"hovertemplate\":\"Genre=%{x}<br>Year=2011<br>Popularity=%{y}<extra></extra>\",\"ids\":[\"Rock/Metal\"],\"legendgroup\":\"Rock/Metal\",\"marker\":{\"color\":\"#FFA15A\",\"pattern\":{\"shape\":\"\"}},\"name\":\"Rock/Metal\",\"offsetgroup\":\"Rock/Metal\",\"orientation\":\"v\",\"showlegend\":true,\"textposition\":\"auto\",\"x\":[\"Rock/Metal\"],\"xaxis\":\"x\",\"y\":[69.66666666666667],\"yaxis\":\"y\",\"type\":\"bar\"}],\"name\":\"2011\"},{\"data\":[{\"alignmentgroup\":\"True\",\"hovertemplate\":\"Genre=%{x}<br>Year=2012<br>Popularity=%{y}<extra></extra>\",\"ids\":[\"EDM\"],\"legendgroup\":\"EDM\",\"marker\":{\"color\":\"#636efa\",\"pattern\":{\"shape\":\"\"}},\"name\":\"EDM\",\"offsetgroup\":\"EDM\",\"orientation\":\"v\",\"showlegend\":true,\"textposition\":\"auto\",\"x\":[\"EDM\"],\"xaxis\":\"x\",\"y\":[69.75],\"yaxis\":\"y\",\"type\":\"bar\"},{\"alignmentgroup\":\"True\",\"hovertemplate\":\"Genre=%{x}<br>Year=2012<br>Popularity=%{y}<extra></extra>\",\"ids\":[\"Hip hop/Rap/R&b\"],\"legendgroup\":\"Hip hop/Rap/R&b\",\"marker\":{\"color\":\"#EF553B\",\"pattern\":{\"shape\":\"\"}},\"name\":\"Hip hop/Rap/R&b\",\"offsetgroup\":\"Hip hop/Rap/R&b\",\"orientation\":\"v\",\"showlegend\":true,\"textposition\":\"auto\",\"x\":[\"Hip hop/Rap/R&b\"],\"xaxis\":\"x\",\"y\":[67.04166666666667],\"yaxis\":\"y\",\"type\":\"bar\"},{\"alignmentgroup\":\"True\",\"hovertemplate\":\"Genre=%{x}<br>Year=2012<br>Popularity=%{y}<extra></extra>\",\"ids\":[\"Other\"],\"legendgroup\":\"Other\",\"marker\":{\"color\":\"#00cc96\",\"pattern\":{\"shape\":\"\"}},\"name\":\"Other\",\"offsetgroup\":\"Other\",\"orientation\":\"v\",\"showlegend\":true,\"textposition\":\"auto\",\"x\":[\"Other\"],\"xaxis\":\"x\",\"y\":[71.5],\"yaxis\":\"y\",\"type\":\"bar\"},{\"alignmentgroup\":\"True\",\"hovertemplate\":\"Genre=%{x}<br>Year=2012<br>Popularity=%{y}<extra></extra>\",\"ids\":[\"Pop\"],\"legendgroup\":\"Pop\",\"marker\":{\"color\":\"#ab63fa\",\"pattern\":{\"shape\":\"\"}},\"name\":\"Pop\",\"offsetgroup\":\"Pop\",\"orientation\":\"v\",\"showlegend\":true,\"textposition\":\"auto\",\"x\":[\"Pop\"],\"xaxis\":\"x\",\"y\":[73.67647058823529],\"yaxis\":\"y\",\"type\":\"bar\"},{\"alignmentgroup\":\"True\",\"hovertemplate\":\"Genre=%{x}<br>Year=2012<br>Popularity=%{y}<extra></extra>\",\"ids\":[\"Rock/Metal\"],\"legendgroup\":\"Rock/Metal\",\"marker\":{\"color\":\"#FFA15A\",\"pattern\":{\"shape\":\"\"}},\"name\":\"Rock/Metal\",\"offsetgroup\":\"Rock/Metal\",\"orientation\":\"v\",\"showlegend\":true,\"textposition\":\"auto\",\"x\":[\"Rock/Metal\"],\"xaxis\":\"x\",\"y\":[75.5],\"yaxis\":\"y\",\"type\":\"bar\"}],\"name\":\"2012\"},{\"data\":[{\"alignmentgroup\":\"True\",\"hovertemplate\":\"Genre=%{x}<br>Year=2013<br>Popularity=%{y}<extra></extra>\",\"ids\":[\"EDM\"],\"legendgroup\":\"EDM\",\"marker\":{\"color\":\"#636efa\",\"pattern\":{\"shape\":\"\"}},\"name\":\"EDM\",\"offsetgroup\":\"EDM\",\"orientation\":\"v\",\"showlegend\":true,\"textposition\":\"auto\",\"x\":[\"EDM\"],\"xaxis\":\"x\",\"y\":[70.15384615384616],\"yaxis\":\"y\",\"type\":\"bar\"},{\"alignmentgroup\":\"True\",\"hovertemplate\":\"Genre=%{x}<br>Year=2013<br>Popularity=%{y}<extra></extra>\",\"ids\":[\"Hip hop/Rap/R&b\"],\"legendgroup\":\"Hip hop/Rap/R&b\",\"marker\":{\"color\":\"#EF553B\",\"pattern\":{\"shape\":\"\"}},\"name\":\"Hip hop/Rap/R&b\",\"offsetgroup\":\"Hip hop/Rap/R&b\",\"orientation\":\"v\",\"showlegend\":true,\"textposition\":\"auto\",\"x\":[\"Hip hop/Rap/R&b\"],\"xaxis\":\"x\",\"y\":[70.46153846153847],\"yaxis\":\"y\",\"type\":\"bar\"},{\"alignmentgroup\":\"True\",\"hovertemplate\":\"Genre=%{x}<br>Year=2013<br>Popularity=%{y}<extra></extra>\",\"ids\":[\"Other\"],\"legendgroup\":\"Other\",\"marker\":{\"color\":\"#00cc96\",\"pattern\":{\"shape\":\"\"}},\"name\":\"Other\",\"offsetgroup\":\"Other\",\"orientation\":\"v\",\"showlegend\":true,\"textposition\":\"auto\",\"x\":[\"Other\"],\"xaxis\":\"x\",\"y\":[68.83333333333333],\"yaxis\":\"y\",\"type\":\"bar\"},{\"alignmentgroup\":\"True\",\"hovertemplate\":\"Genre=%{x}<br>Year=2013<br>Popularity=%{y}<extra></extra>\",\"ids\":[\"Pop\"],\"legendgroup\":\"Pop\",\"marker\":{\"color\":\"#ab63fa\",\"pattern\":{\"shape\":\"\"}},\"name\":\"Pop\",\"offsetgroup\":\"Pop\",\"orientation\":\"v\",\"showlegend\":true,\"textposition\":\"auto\",\"x\":[\"Pop\"],\"xaxis\":\"x\",\"y\":[71.69767441860465],\"yaxis\":\"y\",\"type\":\"bar\"},{\"alignmentgroup\":\"True\",\"hovertemplate\":\"Genre=%{x}<br>Year=2013<br>Popularity=%{y}<extra></extra>\",\"ids\":[\"Rock/Metal\"],\"legendgroup\":\"Rock/Metal\",\"marker\":{\"color\":\"#FFA15A\",\"pattern\":{\"shape\":\"\"}},\"name\":\"Rock/Metal\",\"offsetgroup\":\"Rock/Metal\",\"orientation\":\"v\",\"showlegend\":true,\"textposition\":\"auto\",\"x\":[\"Rock/Metal\"],\"xaxis\":\"x\",\"y\":[84.8],\"yaxis\":\"y\",\"type\":\"bar\"}],\"name\":\"2013\"},{\"data\":[{\"alignmentgroup\":\"True\",\"hovertemplate\":\"Genre=%{x}<br>Year=2014<br>Popularity=%{y}<extra></extra>\",\"ids\":[\"EDM\"],\"legendgroup\":\"EDM\",\"marker\":{\"color\":\"#636efa\",\"pattern\":{\"shape\":\"\"}},\"name\":\"EDM\",\"offsetgroup\":\"EDM\",\"orientation\":\"v\",\"showlegend\":true,\"textposition\":\"auto\",\"x\":[\"EDM\"],\"xaxis\":\"x\",\"y\":[72.25],\"yaxis\":\"y\",\"type\":\"bar\"},{\"alignmentgroup\":\"True\",\"hovertemplate\":\"Genre=%{x}<br>Year=2014<br>Popularity=%{y}<extra></extra>\",\"ids\":[\"Hip hop/Rap/R&b\"],\"legendgroup\":\"Hip hop/Rap/R&b\",\"marker\":{\"color\":\"#EF553B\",\"pattern\":{\"shape\":\"\"}},\"name\":\"Hip hop/Rap/R&b\",\"offsetgroup\":\"Hip hop/Rap/R&b\",\"orientation\":\"v\",\"showlegend\":true,\"textposition\":\"auto\",\"x\":[\"Hip hop/Rap/R&b\"],\"xaxis\":\"x\",\"y\":[70.14285714285714],\"yaxis\":\"y\",\"type\":\"bar\"},{\"alignmentgroup\":\"True\",\"hovertemplate\":\"Genre=%{x}<br>Year=2014<br>Popularity=%{y}<extra></extra>\",\"ids\":[\"Other\"],\"legendgroup\":\"Other\",\"marker\":{\"color\":\"#00cc96\",\"pattern\":{\"shape\":\"\"}},\"name\":\"Other\",\"offsetgroup\":\"Other\",\"orientation\":\"v\",\"showlegend\":true,\"textposition\":\"auto\",\"x\":[\"Other\"],\"xaxis\":\"x\",\"y\":[71.0],\"yaxis\":\"y\",\"type\":\"bar\"},{\"alignmentgroup\":\"True\",\"hovertemplate\":\"Genre=%{x}<br>Year=2014<br>Popularity=%{y}<extra></extra>\",\"ids\":[\"Pop\"],\"legendgroup\":\"Pop\",\"marker\":{\"color\":\"#ab63fa\",\"pattern\":{\"shape\":\"\"}},\"name\":\"Pop\",\"offsetgroup\":\"Pop\",\"orientation\":\"v\",\"showlegend\":true,\"textposition\":\"auto\",\"x\":[\"Pop\"],\"xaxis\":\"x\",\"y\":[75.57894736842105],\"yaxis\":\"y\",\"type\":\"bar\"},{\"alignmentgroup\":\"True\",\"hovertemplate\":\"Genre=%{x}<br>Year=2014<br>Popularity=%{y}<extra></extra>\",\"ids\":[\"Rock/Metal\"],\"legendgroup\":\"Rock/Metal\",\"marker\":{\"color\":\"#FFA15A\",\"pattern\":{\"shape\":\"\"}},\"name\":\"Rock/Metal\",\"offsetgroup\":\"Rock/Metal\",\"orientation\":\"v\",\"showlegend\":true,\"textposition\":\"auto\",\"x\":[\"Rock/Metal\"],\"xaxis\":\"x\",\"y\":[74.5],\"yaxis\":\"y\",\"type\":\"bar\"}],\"name\":\"2014\"},{\"data\":[{\"alignmentgroup\":\"True\",\"hovertemplate\":\"Genre=%{x}<br>Year=2015<br>Popularity=%{y}<extra></extra>\",\"ids\":[\"EDM\"],\"legendgroup\":\"EDM\",\"marker\":{\"color\":\"#636efa\",\"pattern\":{\"shape\":\"\"}},\"name\":\"EDM\",\"offsetgroup\":\"EDM\",\"orientation\":\"v\",\"showlegend\":true,\"textposition\":\"auto\",\"x\":[\"EDM\"],\"xaxis\":\"x\",\"y\":[70.44444444444444],\"yaxis\":\"y\",\"type\":\"bar\"},{\"alignmentgroup\":\"True\",\"hovertemplate\":\"Genre=%{x}<br>Year=2015<br>Popularity=%{y}<extra></extra>\",\"ids\":[\"Hip hop/Rap/R&b\"],\"legendgroup\":\"Hip hop/Rap/R&b\",\"marker\":{\"color\":\"#EF553B\",\"pattern\":{\"shape\":\"\"}},\"name\":\"Hip hop/Rap/R&b\",\"offsetgroup\":\"Hip hop/Rap/R&b\",\"orientation\":\"v\",\"showlegend\":true,\"textposition\":\"auto\",\"x\":[\"Hip hop/Rap/R&b\"],\"xaxis\":\"x\",\"y\":[75.73076923076923],\"yaxis\":\"y\",\"type\":\"bar\"},{\"alignmentgroup\":\"True\",\"hovertemplate\":\"Genre=%{x}<br>Year=2015<br>Popularity=%{y}<extra></extra>\",\"ids\":[\"Other\"],\"legendgroup\":\"Other\",\"marker\":{\"color\":\"#00cc96\",\"pattern\":{\"shape\":\"\"}},\"name\":\"Other\",\"offsetgroup\":\"Other\",\"orientation\":\"v\",\"showlegend\":true,\"textposition\":\"auto\",\"x\":[\"Other\"],\"xaxis\":\"x\",\"y\":[73.62962962962963],\"yaxis\":\"y\",\"type\":\"bar\"},{\"alignmentgroup\":\"True\",\"hovertemplate\":\"Genre=%{x}<br>Year=2015<br>Popularity=%{y}<extra></extra>\",\"ids\":[\"Pop\"],\"legendgroup\":\"Pop\",\"marker\":{\"color\":\"#ab63fa\",\"pattern\":{\"shape\":\"\"}},\"name\":\"Pop\",\"offsetgroup\":\"Pop\",\"orientation\":\"v\",\"showlegend\":true,\"textposition\":\"auto\",\"x\":[\"Pop\"],\"xaxis\":\"x\",\"y\":[70.95121951219512],\"yaxis\":\"y\",\"type\":\"bar\"},{\"alignmentgroup\":\"True\",\"hovertemplate\":\"Genre=%{x}<br>Year=2015<br>Popularity=%{y}<extra></extra>\",\"ids\":[\"Rock/Metal\"],\"legendgroup\":\"Rock/Metal\",\"marker\":{\"color\":\"#FFA15A\",\"pattern\":{\"shape\":\"\"}},\"name\":\"Rock/Metal\",\"offsetgroup\":\"Rock/Metal\",\"orientation\":\"v\",\"showlegend\":true,\"textposition\":\"auto\",\"x\":[\"Rock/Metal\"],\"xaxis\":\"x\",\"y\":[80.16666666666667],\"yaxis\":\"y\",\"type\":\"bar\"}],\"name\":\"2015\"},{\"data\":[{\"alignmentgroup\":\"True\",\"hovertemplate\":\"Genre=%{x}<br>Year=2016<br>Popularity=%{y}<extra></extra>\",\"ids\":[\"EDM\"],\"legendgroup\":\"EDM\",\"marker\":{\"color\":\"#636efa\",\"pattern\":{\"shape\":\"\"}},\"name\":\"EDM\",\"offsetgroup\":\"EDM\",\"orientation\":\"v\",\"showlegend\":true,\"textposition\":\"auto\",\"x\":[\"EDM\"],\"xaxis\":\"x\",\"y\":[70.8125],\"yaxis\":\"y\",\"type\":\"bar\"},{\"alignmentgroup\":\"True\",\"hovertemplate\":\"Genre=%{x}<br>Year=2016<br>Popularity=%{y}<extra></extra>\",\"ids\":[\"Hip hop/Rap/R&b\"],\"legendgroup\":\"Hip hop/Rap/R&b\",\"marker\":{\"color\":\"#EF553B\",\"pattern\":{\"shape\":\"\"}},\"name\":\"Hip hop/Rap/R&b\",\"offsetgroup\":\"Hip hop/Rap/R&b\",\"orientation\":\"v\",\"showlegend\":true,\"textposition\":\"auto\",\"x\":[\"Hip hop/Rap/R&b\"],\"xaxis\":\"x\",\"y\":[73.26470588235294],\"yaxis\":\"y\",\"type\":\"bar\"},{\"alignmentgroup\":\"True\",\"hovertemplate\":\"Genre=%{x}<br>Year=2016<br>Popularity=%{y}<extra></extra>\",\"ids\":[\"Other\"],\"legendgroup\":\"Other\",\"marker\":{\"color\":\"#00cc96\",\"pattern\":{\"shape\":\"\"}},\"name\":\"Other\",\"offsetgroup\":\"Other\",\"orientation\":\"v\",\"showlegend\":true,\"textposition\":\"auto\",\"x\":[\"Other\"],\"xaxis\":\"x\",\"y\":[66.82608695652173],\"yaxis\":\"y\",\"type\":\"bar\"},{\"alignmentgroup\":\"True\",\"hovertemplate\":\"Genre=%{x}<br>Year=2016<br>Popularity=%{y}<extra></extra>\",\"ids\":[\"Pop\"],\"legendgroup\":\"Pop\",\"marker\":{\"color\":\"#ab63fa\",\"pattern\":{\"shape\":\"\"}},\"name\":\"Pop\",\"offsetgroup\":\"Pop\",\"orientation\":\"v\",\"showlegend\":true,\"textposition\":\"auto\",\"x\":[\"Pop\"],\"xaxis\":\"x\",\"y\":[72.93181818181819],\"yaxis\":\"y\",\"type\":\"bar\"},{\"alignmentgroup\":\"True\",\"hovertemplate\":\"Genre=%{x}<br>Year=2016<br>Popularity=%{y}<extra></extra>\",\"ids\":[\"Rock/Metal\"],\"legendgroup\":\"Rock/Metal\",\"marker\":{\"color\":\"#FFA15A\",\"pattern\":{\"shape\":\"\"}},\"name\":\"Rock/Metal\",\"offsetgroup\":\"Rock/Metal\",\"orientation\":\"v\",\"showlegend\":true,\"textposition\":\"auto\",\"x\":[\"Rock/Metal\"],\"xaxis\":\"x\",\"y\":[69.4],\"yaxis\":\"y\",\"type\":\"bar\"}],\"name\":\"2016\"},{\"data\":[{\"alignmentgroup\":\"True\",\"hovertemplate\":\"Genre=%{x}<br>Year=2017<br>Popularity=%{y}<extra></extra>\",\"ids\":[\"EDM\"],\"legendgroup\":\"EDM\",\"marker\":{\"color\":\"#636efa\",\"pattern\":{\"shape\":\"\"}},\"name\":\"EDM\",\"offsetgroup\":\"EDM\",\"orientation\":\"v\",\"showlegend\":true,\"textposition\":\"auto\",\"x\":[\"EDM\"],\"xaxis\":\"x\",\"y\":[70.25],\"yaxis\":\"y\",\"type\":\"bar\"},{\"alignmentgroup\":\"True\",\"hovertemplate\":\"Genre=%{x}<br>Year=2017<br>Popularity=%{y}<extra></extra>\",\"ids\":[\"Hip hop/Rap/R&b\"],\"legendgroup\":\"Hip hop/Rap/R&b\",\"marker\":{\"color\":\"#EF553B\",\"pattern\":{\"shape\":\"\"}},\"name\":\"Hip hop/Rap/R&b\",\"offsetgroup\":\"Hip hop/Rap/R&b\",\"orientation\":\"v\",\"showlegend\":true,\"textposition\":\"auto\",\"x\":[\"Hip hop/Rap/R&b\"],\"xaxis\":\"x\",\"y\":[75.84615384615384],\"yaxis\":\"y\",\"type\":\"bar\"},{\"alignmentgroup\":\"True\",\"hovertemplate\":\"Genre=%{x}<br>Year=2017<br>Popularity=%{y}<extra></extra>\",\"ids\":[\"Other\"],\"legendgroup\":\"Other\",\"marker\":{\"color\":\"#00cc96\",\"pattern\":{\"shape\":\"\"}},\"name\":\"Other\",\"offsetgroup\":\"Other\",\"orientation\":\"v\",\"showlegend\":true,\"textposition\":\"auto\",\"x\":[\"Other\"],\"xaxis\":\"x\",\"y\":[70.94444444444444],\"yaxis\":\"y\",\"type\":\"bar\"},{\"alignmentgroup\":\"True\",\"hovertemplate\":\"Genre=%{x}<br>Year=2017<br>Popularity=%{y}<extra></extra>\",\"ids\":[\"Pop\"],\"legendgroup\":\"Pop\",\"marker\":{\"color\":\"#ab63fa\",\"pattern\":{\"shape\":\"\"}},\"name\":\"Pop\",\"offsetgroup\":\"Pop\",\"orientation\":\"v\",\"showlegend\":true,\"textposition\":\"auto\",\"x\":[\"Pop\"],\"xaxis\":\"x\",\"y\":[74.82926829268293],\"yaxis\":\"y\",\"type\":\"bar\"},{\"alignmentgroup\":\"True\",\"hovertemplate\":\"Genre=%{x}<br>Year=2017<br>Popularity=%{y}<extra></extra>\",\"ids\":[\"Rock/Metal\"],\"legendgroup\":\"Rock/Metal\",\"marker\":{\"color\":\"#FFA15A\",\"pattern\":{\"shape\":\"\"}},\"name\":\"Rock/Metal\",\"offsetgroup\":\"Rock/Metal\",\"orientation\":\"v\",\"showlegend\":true,\"textposition\":\"auto\",\"x\":[\"Rock/Metal\"],\"xaxis\":\"x\",\"y\":[86.5],\"yaxis\":\"y\",\"type\":\"bar\"},{\"alignmentgroup\":\"True\",\"hovertemplate\":\"Genre=%{x}<br>Year=2017<br>Popularity=%{y}<extra></extra>\",\"ids\":[\"Latin/Reggaeton\"],\"legendgroup\":\"Latin/Reggaeton\",\"marker\":{\"color\":\"#19d3f3\",\"pattern\":{\"shape\":\"\"}},\"name\":\"Latin/Reggaeton\",\"offsetgroup\":\"Latin/Reggaeton\",\"orientation\":\"v\",\"showlegend\":true,\"textposition\":\"auto\",\"x\":[\"Latin/Reggaeton\"],\"xaxis\":\"x\",\"y\":[74.0],\"yaxis\":\"y\",\"type\":\"bar\"}],\"name\":\"2017\"},{\"data\":[{\"alignmentgroup\":\"True\",\"hovertemplate\":\"Genre=%{x}<br>Year=2018<br>Popularity=%{y}<extra></extra>\",\"ids\":[\"EDM\"],\"legendgroup\":\"EDM\",\"marker\":{\"color\":\"#636efa\",\"pattern\":{\"shape\":\"\"}},\"name\":\"EDM\",\"offsetgroup\":\"EDM\",\"orientation\":\"v\",\"showlegend\":true,\"textposition\":\"auto\",\"x\":[\"EDM\"],\"xaxis\":\"x\",\"y\":[74.2],\"yaxis\":\"y\",\"type\":\"bar\"},{\"alignmentgroup\":\"True\",\"hovertemplate\":\"Genre=%{x}<br>Year=2018<br>Popularity=%{y}<extra></extra>\",\"ids\":[\"Hip hop/Rap/R&b\"],\"legendgroup\":\"Hip hop/Rap/R&b\",\"marker\":{\"color\":\"#EF553B\",\"pattern\":{\"shape\":\"\"}},\"name\":\"Hip hop/Rap/R&b\",\"offsetgroup\":\"Hip hop/Rap/R&b\",\"orientation\":\"v\",\"showlegend\":true,\"textposition\":\"auto\",\"x\":[\"Hip hop/Rap/R&b\"],\"xaxis\":\"x\",\"y\":[76.0],\"yaxis\":\"y\",\"type\":\"bar\"},{\"alignmentgroup\":\"True\",\"hovertemplate\":\"Genre=%{x}<br>Year=2018<br>Popularity=%{y}<extra></extra>\",\"ids\":[\"Other\"],\"legendgroup\":\"Other\",\"marker\":{\"color\":\"#00cc96\",\"pattern\":{\"shape\":\"\"}},\"name\":\"Other\",\"offsetgroup\":\"Other\",\"orientation\":\"v\",\"showlegend\":true,\"textposition\":\"auto\",\"x\":[\"Other\"],\"xaxis\":\"x\",\"y\":[72.94736842105263],\"yaxis\":\"y\",\"type\":\"bar\"},{\"alignmentgroup\":\"True\",\"hovertemplate\":\"Genre=%{x}<br>Year=2018<br>Popularity=%{y}<extra></extra>\",\"ids\":[\"Pop\"],\"legendgroup\":\"Pop\",\"marker\":{\"color\":\"#ab63fa\",\"pattern\":{\"shape\":\"\"}},\"name\":\"Pop\",\"offsetgroup\":\"Pop\",\"orientation\":\"v\",\"showlegend\":true,\"textposition\":\"auto\",\"x\":[\"Pop\"],\"xaxis\":\"x\",\"y\":[74.56818181818181],\"yaxis\":\"y\",\"type\":\"bar\"},{\"alignmentgroup\":\"True\",\"hovertemplate\":\"Genre=%{x}<br>Year=2018<br>Popularity=%{y}<extra></extra>\",\"ids\":[\"Rock/Metal\"],\"legendgroup\":\"Rock/Metal\",\"marker\":{\"color\":\"#FFA15A\",\"pattern\":{\"shape\":\"\"}},\"name\":\"Rock/Metal\",\"offsetgroup\":\"Rock/Metal\",\"orientation\":\"v\",\"showlegend\":true,\"textposition\":\"auto\",\"x\":[\"Rock/Metal\"],\"xaxis\":\"x\",\"y\":[62.333333333333336],\"yaxis\":\"y\",\"type\":\"bar\"},{\"alignmentgroup\":\"True\",\"hovertemplate\":\"Genre=%{x}<br>Year=2018<br>Popularity=%{y}<extra></extra>\",\"ids\":[\"Latin/Reggaeton\"],\"legendgroup\":\"Latin/Reggaeton\",\"marker\":{\"color\":\"#19d3f3\",\"pattern\":{\"shape\":\"\"}},\"name\":\"Latin/Reggaeton\",\"offsetgroup\":\"Latin/Reggaeton\",\"orientation\":\"v\",\"showlegend\":true,\"textposition\":\"auto\",\"x\":[\"Latin/Reggaeton\"],\"xaxis\":\"x\",\"y\":[78.0],\"yaxis\":\"y\",\"type\":\"bar\"}],\"name\":\"2018\"},{\"data\":[{\"alignmentgroup\":\"True\",\"hovertemplate\":\"Genre=%{x}<br>Year=2019<br>Popularity=%{y}<extra></extra>\",\"ids\":[\"EDM\"],\"legendgroup\":\"EDM\",\"marker\":{\"color\":\"#636efa\",\"pattern\":{\"shape\":\"\"}},\"name\":\"EDM\",\"offsetgroup\":\"EDM\",\"orientation\":\"v\",\"showlegend\":true,\"textposition\":\"auto\",\"x\":[\"EDM\"],\"xaxis\":\"x\",\"y\":[70.55555555555556],\"yaxis\":\"y\",\"type\":\"bar\"},{\"alignmentgroup\":\"True\",\"hovertemplate\":\"Genre=%{x}<br>Year=2019<br>Popularity=%{y}<extra></extra>\",\"ids\":[\"Hip hop/Rap/R&b\"],\"legendgroup\":\"Hip hop/Rap/R&b\",\"marker\":{\"color\":\"#EF553B\",\"pattern\":{\"shape\":\"\"}},\"name\":\"Hip hop/Rap/R&b\",\"offsetgroup\":\"Hip hop/Rap/R&b\",\"orientation\":\"v\",\"showlegend\":true,\"textposition\":\"auto\",\"x\":[\"Hip hop/Rap/R&b\"],\"xaxis\":\"x\",\"y\":[75.78787878787878],\"yaxis\":\"y\",\"type\":\"bar\"},{\"alignmentgroup\":\"True\",\"hovertemplate\":\"Genre=%{x}<br>Year=2019<br>Popularity=%{y}<extra></extra>\",\"ids\":[\"Other\"],\"legendgroup\":\"Other\",\"marker\":{\"color\":\"#00cc96\",\"pattern\":{\"shape\":\"\"}},\"name\":\"Other\",\"offsetgroup\":\"Other\",\"orientation\":\"v\",\"showlegend\":true,\"textposition\":\"auto\",\"x\":[\"Other\"],\"xaxis\":\"x\",\"y\":[68.06666666666666],\"yaxis\":\"y\",\"type\":\"bar\"},{\"alignmentgroup\":\"True\",\"hovertemplate\":\"Genre=%{x}<br>Year=2019<br>Popularity=%{y}<extra></extra>\",\"ids\":[\"Pop\"],\"legendgroup\":\"Pop\",\"marker\":{\"color\":\"#ab63fa\",\"pattern\":{\"shape\":\"\"}},\"name\":\"Pop\",\"offsetgroup\":\"Pop\",\"orientation\":\"v\",\"showlegend\":true,\"textposition\":\"auto\",\"x\":[\"Pop\"],\"xaxis\":\"x\",\"y\":[74.85964912280701],\"yaxis\":\"y\",\"type\":\"bar\"},{\"alignmentgroup\":\"True\",\"hovertemplate\":\"Genre=%{x}<br>Year=2019<br>Popularity=%{y}<extra></extra>\",\"ids\":[\"Rock/Metal\"],\"legendgroup\":\"Rock/Metal\",\"marker\":{\"color\":\"#FFA15A\",\"pattern\":{\"shape\":\"\"}},\"name\":\"Rock/Metal\",\"offsetgroup\":\"Rock/Metal\",\"orientation\":\"v\",\"showlegend\":true,\"textposition\":\"auto\",\"x\":[\"Rock/Metal\"],\"xaxis\":\"x\",\"y\":[37.5],\"yaxis\":\"y\",\"type\":\"bar\"},{\"alignmentgroup\":\"True\",\"hovertemplate\":\"Genre=%{x}<br>Year=2019<br>Popularity=%{y}<extra></extra>\",\"ids\":[\"Latin/Reggaeton\"],\"legendgroup\":\"Latin/Reggaeton\",\"marker\":{\"color\":\"#19d3f3\",\"pattern\":{\"shape\":\"\"}},\"name\":\"Latin/Reggaeton\",\"offsetgroup\":\"Latin/Reggaeton\",\"orientation\":\"v\",\"showlegend\":true,\"textposition\":\"auto\",\"x\":[\"Latin/Reggaeton\"],\"xaxis\":\"x\",\"y\":[77.0],\"yaxis\":\"y\",\"type\":\"bar\"}],\"name\":\"2019\"},{\"data\":[{\"alignmentgroup\":\"True\",\"hovertemplate\":\"Genre=%{x}<br>Year=2020<br>Popularity=%{y}<extra></extra>\",\"ids\":[\"EDM\"],\"legendgroup\":\"EDM\",\"marker\":{\"color\":\"#636efa\",\"pattern\":{\"shape\":\"\"}},\"name\":\"EDM\",\"offsetgroup\":\"EDM\",\"orientation\":\"v\",\"showlegend\":true,\"textposition\":\"auto\",\"x\":[\"EDM\"],\"xaxis\":\"x\",\"y\":[67.0],\"yaxis\":\"y\",\"type\":\"bar\"},{\"alignmentgroup\":\"True\",\"hovertemplate\":\"Genre=%{x}<br>Year=2020<br>Popularity=%{y}<extra></extra>\",\"ids\":[\"Hip hop/Rap/R&b\"],\"legendgroup\":\"Hip hop/Rap/R&b\",\"marker\":{\"color\":\"#EF553B\",\"pattern\":{\"shape\":\"\"}},\"name\":\"Hip hop/Rap/R&b\",\"offsetgroup\":\"Hip hop/Rap/R&b\",\"orientation\":\"v\",\"showlegend\":true,\"textposition\":\"auto\",\"x\":[\"Hip hop/Rap/R&b\"],\"xaxis\":\"x\",\"y\":[74.4],\"yaxis\":\"y\",\"type\":\"bar\"},{\"alignmentgroup\":\"True\",\"hovertemplate\":\"Genre=%{x}<br>Year=2020<br>Popularity=%{y}<extra></extra>\",\"ids\":[\"Other\"],\"legendgroup\":\"Other\",\"marker\":{\"color\":\"#00cc96\",\"pattern\":{\"shape\":\"\"}},\"name\":\"Other\",\"offsetgroup\":\"Other\",\"orientation\":\"v\",\"showlegend\":true,\"textposition\":\"auto\",\"x\":[\"Other\"],\"xaxis\":\"x\",\"y\":[64.61538461538461],\"yaxis\":\"y\",\"type\":\"bar\"},{\"alignmentgroup\":\"True\",\"hovertemplate\":\"Genre=%{x}<br>Year=2020<br>Popularity=%{y}<extra></extra>\",\"ids\":[\"Pop\"],\"legendgroup\":\"Pop\",\"marker\":{\"color\":\"#ab63fa\",\"pattern\":{\"shape\":\"\"}},\"name\":\"Pop\",\"offsetgroup\":\"Pop\",\"orientation\":\"v\",\"showlegend\":true,\"textposition\":\"auto\",\"x\":[\"Pop\"],\"xaxis\":\"x\",\"y\":[75.77083333333333],\"yaxis\":\"y\",\"type\":\"bar\"},{\"alignmentgroup\":\"True\",\"hovertemplate\":\"Genre=%{x}<br>Year=2020<br>Popularity=%{y}<extra></extra>\",\"ids\":[\"Rock/Metal\"],\"legendgroup\":\"Rock/Metal\",\"marker\":{\"color\":\"#FFA15A\",\"pattern\":{\"shape\":\"\"}},\"name\":\"Rock/Metal\",\"offsetgroup\":\"Rock/Metal\",\"orientation\":\"v\",\"showlegend\":true,\"textposition\":\"auto\",\"x\":[\"Rock/Metal\"],\"xaxis\":\"x\",\"y\":[59.0],\"yaxis\":\"y\",\"type\":\"bar\"},{\"alignmentgroup\":\"True\",\"hovertemplate\":\"Genre=%{x}<br>Year=2020<br>Popularity=%{y}<extra></extra>\",\"ids\":[\"Latin/Reggaeton\"],\"legendgroup\":\"Latin/Reggaeton\",\"marker\":{\"color\":\"#19d3f3\",\"pattern\":{\"shape\":\"\"}},\"name\":\"Latin/Reggaeton\",\"offsetgroup\":\"Latin/Reggaeton\",\"orientation\":\"v\",\"showlegend\":true,\"textposition\":\"auto\",\"x\":[\"Latin/Reggaeton\"],\"xaxis\":\"x\",\"y\":[78.2],\"yaxis\":\"y\",\"type\":\"bar\"}],\"name\":\"2020\"},{\"data\":[{\"alignmentgroup\":\"True\",\"hovertemplate\":\"Genre=%{x}<br>Year=2021<br>Popularity=%{y}<extra></extra>\",\"ids\":[\"EDM\"],\"legendgroup\":\"EDM\",\"marker\":{\"color\":\"#636efa\",\"pattern\":{\"shape\":\"\"}},\"name\":\"EDM\",\"offsetgroup\":\"EDM\",\"orientation\":\"v\",\"showlegend\":true,\"textposition\":\"auto\",\"x\":[\"EDM\"],\"xaxis\":\"x\",\"y\":[70.75],\"yaxis\":\"y\",\"type\":\"bar\"},{\"alignmentgroup\":\"True\",\"hovertemplate\":\"Genre=%{x}<br>Year=2021<br>Popularity=%{y}<extra></extra>\",\"ids\":[\"Hip hop/Rap/R&b\"],\"legendgroup\":\"Hip hop/Rap/R&b\",\"marker\":{\"color\":\"#EF553B\",\"pattern\":{\"shape\":\"\"}},\"name\":\"Hip hop/Rap/R&b\",\"offsetgroup\":\"Hip hop/Rap/R&b\",\"orientation\":\"v\",\"showlegend\":true,\"textposition\":\"auto\",\"x\":[\"Hip hop/Rap/R&b\"],\"xaxis\":\"x\",\"y\":[77.91304347826087],\"yaxis\":\"y\",\"type\":\"bar\"},{\"alignmentgroup\":\"True\",\"hovertemplate\":\"Genre=%{x}<br>Year=2021<br>Popularity=%{y}<extra></extra>\",\"ids\":[\"Other\"],\"legendgroup\":\"Other\",\"marker\":{\"color\":\"#00cc96\",\"pattern\":{\"shape\":\"\"}},\"name\":\"Other\",\"offsetgroup\":\"Other\",\"orientation\":\"v\",\"showlegend\":true,\"textposition\":\"auto\",\"x\":[\"Other\"],\"xaxis\":\"x\",\"y\":[78.3076923076923],\"yaxis\":\"y\",\"type\":\"bar\"},{\"alignmentgroup\":\"True\",\"hovertemplate\":\"Genre=%{x}<br>Year=2021<br>Popularity=%{y}<extra></extra>\",\"ids\":[\"Pop\"],\"legendgroup\":\"Pop\",\"marker\":{\"color\":\"#ab63fa\",\"pattern\":{\"shape\":\"\"}},\"name\":\"Pop\",\"offsetgroup\":\"Pop\",\"orientation\":\"v\",\"showlegend\":true,\"textposition\":\"auto\",\"x\":[\"Pop\"],\"xaxis\":\"x\",\"y\":[76.84210526315789],\"yaxis\":\"y\",\"type\":\"bar\"},{\"alignmentgroup\":\"True\",\"hovertemplate\":\"Genre=%{x}<br>Year=2021<br>Popularity=%{y}<extra></extra>\",\"ids\":[\"Rock/Metal\"],\"legendgroup\":\"Rock/Metal\",\"marker\":{\"color\":\"#FFA15A\",\"pattern\":{\"shape\":\"\"}},\"name\":\"Rock/Metal\",\"offsetgroup\":\"Rock/Metal\",\"orientation\":\"v\",\"showlegend\":true,\"textposition\":\"auto\",\"x\":[\"Rock/Metal\"],\"xaxis\":\"x\",\"y\":[83.75],\"yaxis\":\"y\",\"type\":\"bar\"},{\"alignmentgroup\":\"True\",\"hovertemplate\":\"Genre=%{x}<br>Year=2021<br>Popularity=%{y}<extra></extra>\",\"ids\":[\"Latin/Reggaeton\"],\"legendgroup\":\"Latin/Reggaeton\",\"marker\":{\"color\":\"#19d3f3\",\"pattern\":{\"shape\":\"\"}},\"name\":\"Latin/Reggaeton\",\"offsetgroup\":\"Latin/Reggaeton\",\"orientation\":\"v\",\"showlegend\":true,\"textposition\":\"auto\",\"x\":[\"Latin/Reggaeton\"],\"xaxis\":\"x\",\"y\":[84.5],\"yaxis\":\"y\",\"type\":\"bar\"}],\"name\":\"2021\"},{\"data\":[{\"alignmentgroup\":\"True\",\"hovertemplate\":\"Genre=%{x}<br>Year=2022<br>Popularity=%{y}<extra></extra>\",\"ids\":[\"EDM\"],\"legendgroup\":\"EDM\",\"marker\":{\"color\":\"#636efa\",\"pattern\":{\"shape\":\"\"}},\"name\":\"EDM\",\"offsetgroup\":\"EDM\",\"orientation\":\"v\",\"showlegend\":true,\"textposition\":\"auto\",\"x\":[\"EDM\"],\"xaxis\":\"x\",\"y\":[64.75],\"yaxis\":\"y\",\"type\":\"bar\"},{\"alignmentgroup\":\"True\",\"hovertemplate\":\"Genre=%{x}<br>Year=2022<br>Popularity=%{y}<extra></extra>\",\"ids\":[\"Hip hop/Rap/R&b\"],\"legendgroup\":\"Hip hop/Rap/R&b\",\"marker\":{\"color\":\"#EF553B\",\"pattern\":{\"shape\":\"\"}},\"name\":\"Hip hop/Rap/R&b\",\"offsetgroup\":\"Hip hop/Rap/R&b\",\"orientation\":\"v\",\"showlegend\":true,\"textposition\":\"auto\",\"x\":[\"Hip hop/Rap/R&b\"],\"xaxis\":\"x\",\"y\":[84.125],\"yaxis\":\"y\",\"type\":\"bar\"},{\"alignmentgroup\":\"True\",\"hovertemplate\":\"Genre=%{x}<br>Year=2022<br>Popularity=%{y}<extra></extra>\",\"ids\":[\"Other\"],\"legendgroup\":\"Other\",\"marker\":{\"color\":\"#00cc96\",\"pattern\":{\"shape\":\"\"}},\"name\":\"Other\",\"offsetgroup\":\"Other\",\"orientation\":\"v\",\"showlegend\":true,\"textposition\":\"auto\",\"x\":[\"Other\"],\"xaxis\":\"x\",\"y\":[64.0],\"yaxis\":\"y\",\"type\":\"bar\"},{\"alignmentgroup\":\"True\",\"hovertemplate\":\"Genre=%{x}<br>Year=2022<br>Popularity=%{y}<extra></extra>\",\"ids\":[\"Pop\"],\"legendgroup\":\"Pop\",\"marker\":{\"color\":\"#ab63fa\",\"pattern\":{\"shape\":\"\"}},\"name\":\"Pop\",\"offsetgroup\":\"Pop\",\"orientation\":\"v\",\"showlegend\":true,\"textposition\":\"auto\",\"x\":[\"Pop\"],\"xaxis\":\"x\",\"y\":[78.28],\"yaxis\":\"y\",\"type\":\"bar\"},{\"alignmentgroup\":\"True\",\"hovertemplate\":\"Genre=%{x}<br>Year=2022<br>Popularity=%{y}<extra></extra>\",\"ids\":[\"Rock/Metal\"],\"legendgroup\":\"Rock/Metal\",\"marker\":{\"color\":\"#FFA15A\",\"pattern\":{\"shape\":\"\"}},\"name\":\"Rock/Metal\",\"offsetgroup\":\"Rock/Metal\",\"orientation\":\"v\",\"showlegend\":true,\"textposition\":\"auto\",\"x\":[\"Rock/Metal\"],\"xaxis\":\"x\",\"y\":[61.0],\"yaxis\":\"y\",\"type\":\"bar\"},{\"alignmentgroup\":\"True\",\"hovertemplate\":\"Genre=%{x}<br>Year=2022<br>Popularity=%{y}<extra></extra>\",\"ids\":[\"Latin/Reggaeton\"],\"legendgroup\":\"Latin/Reggaeton\",\"marker\":{\"color\":\"#19d3f3\",\"pattern\":{\"shape\":\"\"}},\"name\":\"Latin/Reggaeton\",\"offsetgroup\":\"Latin/Reggaeton\",\"orientation\":\"v\",\"showlegend\":true,\"textposition\":\"auto\",\"x\":[\"Latin/Reggaeton\"],\"xaxis\":\"x\",\"y\":[87.875],\"yaxis\":\"y\",\"type\":\"bar\"}],\"name\":\"2022\"},{\"data\":[{\"alignmentgroup\":\"True\",\"hovertemplate\":\"Genre=%{x}<br>Year=2023<br>Popularity=%{y}<extra></extra>\",\"ids\":[\"EDM\"],\"legendgroup\":\"EDM\",\"marker\":{\"color\":\"#636efa\",\"pattern\":{\"shape\":\"\"}},\"name\":\"EDM\",\"offsetgroup\":\"EDM\",\"orientation\":\"v\",\"showlegend\":true,\"textposition\":\"auto\",\"x\":[\"EDM\"],\"xaxis\":\"x\",\"y\":[19.5],\"yaxis\":\"y\",\"type\":\"bar\"},{\"alignmentgroup\":\"True\",\"hovertemplate\":\"Genre=%{x}<br>Year=2023<br>Popularity=%{y}<extra></extra>\",\"ids\":[\"Hip hop/Rap/R&b\"],\"legendgroup\":\"Hip hop/Rap/R&b\",\"marker\":{\"color\":\"#EF553B\",\"pattern\":{\"shape\":\"\"}},\"name\":\"Hip hop/Rap/R&b\",\"offsetgroup\":\"Hip hop/Rap/R&b\",\"orientation\":\"v\",\"showlegend\":true,\"textposition\":\"auto\",\"x\":[\"Hip hop/Rap/R&b\"],\"xaxis\":\"x\",\"y\":[66.11111111111111],\"yaxis\":\"y\",\"type\":\"bar\"},{\"alignmentgroup\":\"True\",\"hovertemplate\":\"Genre=%{x}<br>Year=2023<br>Popularity=%{y}<extra></extra>\",\"ids\":[\"Other\"],\"legendgroup\":\"Other\",\"marker\":{\"color\":\"#00cc96\",\"pattern\":{\"shape\":\"\"}},\"name\":\"Other\",\"offsetgroup\":\"Other\",\"orientation\":\"v\",\"showlegend\":true,\"textposition\":\"auto\",\"x\":[\"Other\"],\"xaxis\":\"x\",\"y\":[63.4],\"yaxis\":\"y\",\"type\":\"bar\"},{\"alignmentgroup\":\"True\",\"hovertemplate\":\"Genre=%{x}<br>Year=2023<br>Popularity=%{y}<extra></extra>\",\"ids\":[\"Pop\"],\"legendgroup\":\"Pop\",\"marker\":{\"color\":\"#ab63fa\",\"pattern\":{\"shape\":\"\"}},\"name\":\"Pop\",\"offsetgroup\":\"Pop\",\"orientation\":\"v\",\"showlegend\":true,\"textposition\":\"auto\",\"x\":[\"Pop\"],\"xaxis\":\"x\",\"y\":[53.8],\"yaxis\":\"y\",\"type\":\"bar\"},{\"alignmentgroup\":\"True\",\"hovertemplate\":\"Genre=%{x}<br>Year=2023<br>Popularity=%{y}<extra></extra>\",\"ids\":[\"Rock/Metal\"],\"legendgroup\":\"Rock/Metal\",\"marker\":{\"color\":\"#FFA15A\",\"pattern\":{\"shape\":\"\"}},\"name\":\"Rock/Metal\",\"offsetgroup\":\"Rock/Metal\",\"orientation\":\"v\",\"showlegend\":true,\"textposition\":\"auto\",\"x\":[\"Rock/Metal\"],\"xaxis\":\"x\",\"y\":[34.5],\"yaxis\":\"y\",\"type\":\"bar\"},{\"alignmentgroup\":\"True\",\"hovertemplate\":\"Genre=%{x}<br>Year=2023<br>Popularity=%{y}<extra></extra>\",\"ids\":[\"Latin/Reggaeton\"],\"legendgroup\":\"Latin/Reggaeton\",\"marker\":{\"color\":\"#19d3f3\",\"pattern\":{\"shape\":\"\"}},\"name\":\"Latin/Reggaeton\",\"offsetgroup\":\"Latin/Reggaeton\",\"orientation\":\"v\",\"showlegend\":true,\"textposition\":\"auto\",\"x\":[\"Latin/Reggaeton\"],\"xaxis\":\"x\",\"y\":[96.0],\"yaxis\":\"y\",\"type\":\"bar\"}],\"name\":\"2023\"}]);\n",
       "                        }).then(function(){\n",
       "                            \n",
       "var gd = document.getElementById('d9d3e244-178c-4b00-842e-d30845f3a7e3');\n",
       "var x = new MutationObserver(function (mutations, observer) {{\n",
       "        var display = window.getComputedStyle(gd).display;\n",
       "        if (!display || display === 'none') {{\n",
       "            console.log([gd, 'removed!']);\n",
       "            Plotly.purge(gd);\n",
       "            observer.disconnect();\n",
       "        }}\n",
       "}});\n",
       "\n",
       "// Listen for the removal of the full notebook cells\n",
       "var notebookContainer = gd.closest('#notebook-container');\n",
       "if (notebookContainer) {{\n",
       "    x.observe(notebookContainer, {childList: true});\n",
       "}}\n",
       "\n",
       "// Listen for the clearing of the current output cell\n",
       "var outputEl = gd.closest('.output');\n",
       "if (outputEl) {{\n",
       "    x.observe(outputEl, {childList: true});\n",
       "}}\n",
       "\n",
       "                        })                };                });            </script>        </div>"
      ]
     },
     "metadata": {},
     "output_type": "display_data"
    }
   ],
   "source": [
    "fig = px.bar(avg_popularity_by_year_df, x='Genre', y='Popularity',animation_frame=\"Year\",color=\"Genre\",animation_group=\"Genre\")\n",
    "#fig.update_traces(marker_color='rgb(0,128,0)')\n",
    "fig.show()"
   ]
  },
  {
   "cell_type": "code",
   "execution_count": 44,
   "id": "3c0f23f4",
   "metadata": {},
   "outputs": [],
   "source": [
    "fig.write_html(\"timeline.html\")\n"
   ]
  },
  {
   "cell_type": "code",
   "execution_count": null,
   "id": "0985be86",
   "metadata": {},
   "outputs": [],
   "source": []
  }
 ],
 "metadata": {
  "kernelspec": {
   "display_name": "sql Dev",
   "language": "python",
   "name": "sqlddev"
  },
  "language_info": {
   "codemirror_mode": {
    "name": "ipython",
    "version": 3
   },
   "file_extension": ".py",
   "mimetype": "text/x-python",
   "name": "python",
   "nbconvert_exporter": "python",
   "pygments_lexer": "ipython3",
   "version": "3.10.11"
  }
 },
 "nbformat": 4,
 "nbformat_minor": 5
}
